{
 "cells": [
  {
   "cell_type": "markdown",
   "id": "76cfc0cb",
   "metadata": {},
   "source": [
    "### Hypothesis Testing\n",
    "\n",
    "H0 - control and condition has same avg_activity<br>\n",
    "H1 - control and condtion has different avg_activity<br>\n",
    "\n",
    "##### Two-sample Z-Test for Means"
   ]
  },
  {
   "cell_type": "code",
   "execution_count": 3,
   "id": "bcc55863",
   "metadata": {},
   "outputs": [],
   "source": [
    "import pandas as pd\n",
    "import numpy as np\n",
    "import matplotlib.pyplot as plt\n",
    "import scipy.stats as stats"
   ]
  },
  {
   "cell_type": "code",
   "execution_count": 4,
   "id": "d100dca5",
   "metadata": {},
   "outputs": [
    {
     "ename": "TypeError",
     "evalue": "read_csv() got an unexpected keyword argument 'return_data_type'",
     "output_type": "error",
     "traceback": [
      "\u001b[1;31m---------------------------------------------------------------------------\u001b[0m",
      "\u001b[1;31mTypeError\u001b[0m                                 Traceback (most recent call last)",
      "Cell \u001b[1;32mIn[4], line 1\u001b[0m\n\u001b[1;32m----> 1\u001b[0m df_condtn\u001b[38;5;241m=\u001b[39mpd\u001b[38;5;241m.\u001b[39mread_csv(\u001b[38;5;124m'\u001b[39m\u001b[38;5;124m/Users/PRADEEP SHETTY/Desktop/IEEE internship/data_final.ts\u001b[39m\u001b[38;5;124m'\u001b[39m,return_data_type\u001b[38;5;241m=\u001b[39m\u001b[38;5;124m\"\u001b[39m\u001b[38;5;124mnumpy3d\u001b[39m\u001b[38;5;124m\"\u001b[39m)\n\u001b[0;32m      2\u001b[0m df_condtn\u001b[38;5;241m.\u001b[39mhead()\n",
      "File \u001b[1;32m~\\anaconda3\\Lib\\site-packages\\pandas\\util\\_decorators.py:211\u001b[0m, in \u001b[0;36mdeprecate_kwarg.<locals>._deprecate_kwarg.<locals>.wrapper\u001b[1;34m(*args, **kwargs)\u001b[0m\n\u001b[0;32m    209\u001b[0m     \u001b[38;5;28;01melse\u001b[39;00m:\n\u001b[0;32m    210\u001b[0m         kwargs[new_arg_name] \u001b[38;5;241m=\u001b[39m new_arg_value\n\u001b[1;32m--> 211\u001b[0m \u001b[38;5;28;01mreturn\u001b[39;00m func(\u001b[38;5;241m*\u001b[39margs, \u001b[38;5;241m*\u001b[39m\u001b[38;5;241m*\u001b[39mkwargs)\n",
      "File \u001b[1;32m~\\anaconda3\\Lib\\site-packages\\pandas\\util\\_decorators.py:331\u001b[0m, in \u001b[0;36mdeprecate_nonkeyword_arguments.<locals>.decorate.<locals>.wrapper\u001b[1;34m(*args, **kwargs)\u001b[0m\n\u001b[0;32m    325\u001b[0m \u001b[38;5;28;01mif\u001b[39;00m \u001b[38;5;28mlen\u001b[39m(args) \u001b[38;5;241m>\u001b[39m num_allow_args:\n\u001b[0;32m    326\u001b[0m     warnings\u001b[38;5;241m.\u001b[39mwarn(\n\u001b[0;32m    327\u001b[0m         msg\u001b[38;5;241m.\u001b[39mformat(arguments\u001b[38;5;241m=\u001b[39m_format_argument_list(allow_args)),\n\u001b[0;32m    328\u001b[0m         \u001b[38;5;167;01mFutureWarning\u001b[39;00m,\n\u001b[0;32m    329\u001b[0m         stacklevel\u001b[38;5;241m=\u001b[39mfind_stack_level(),\n\u001b[0;32m    330\u001b[0m     )\n\u001b[1;32m--> 331\u001b[0m \u001b[38;5;28;01mreturn\u001b[39;00m func(\u001b[38;5;241m*\u001b[39margs, \u001b[38;5;241m*\u001b[39m\u001b[38;5;241m*\u001b[39mkwargs)\n",
      "\u001b[1;31mTypeError\u001b[0m: read_csv() got an unexpected keyword argument 'return_data_type'"
     ]
    }
   ],
   "source": [
    "df_condtn=pd.read_csv('/Users/PRADEEP SHETTY/Desktop/IEEE internship/data_final.ts',return_data_type=\"numpy3d\")\n",
    "df_condtn.head()"
   ]
  },
  {
   "cell_type": "code",
   "execution_count": 3,
   "id": "bf2f12d6",
   "metadata": {},
   "outputs": [
    {
     "data": {
      "text/html": [
       "<div>\n",
       "<style scoped>\n",
       "    .dataframe tbody tr th:only-of-type {\n",
       "        vertical-align: middle;\n",
       "    }\n",
       "\n",
       "    .dataframe tbody tr th {\n",
       "        vertical-align: top;\n",
       "    }\n",
       "\n",
       "    .dataframe thead th {\n",
       "        text-align: right;\n",
       "    }\n",
       "</style>\n",
       "<table border=\"1\" class=\"dataframe\">\n",
       "  <thead>\n",
       "    <tr style=\"text-align: right;\">\n",
       "      <th></th>\n",
       "      <th>SI.NO</th>\n",
       "      <th>date</th>\n",
       "      <th>hour</th>\n",
       "      <th>Avg_activity</th>\n",
       "      <th>status</th>\n",
       "    </tr>\n",
       "  </thead>\n",
       "  <tbody>\n",
       "    <tr>\n",
       "      <th>0</th>\n",
       "      <td>1</td>\n",
       "      <td>2003-03-18</td>\n",
       "      <td>15</td>\n",
       "      <td>156.48</td>\n",
       "      <td>0</td>\n",
       "    </tr>\n",
       "    <tr>\n",
       "      <th>1</th>\n",
       "      <td>1</td>\n",
       "      <td>2003-03-18</td>\n",
       "      <td>16</td>\n",
       "      <td>264.55</td>\n",
       "      <td>0</td>\n",
       "    </tr>\n",
       "    <tr>\n",
       "      <th>2</th>\n",
       "      <td>1</td>\n",
       "      <td>2003-03-18</td>\n",
       "      <td>17</td>\n",
       "      <td>1105.13</td>\n",
       "      <td>0</td>\n",
       "    </tr>\n",
       "    <tr>\n",
       "      <th>3</th>\n",
       "      <td>1</td>\n",
       "      <td>2003-03-18</td>\n",
       "      <td>18</td>\n",
       "      <td>338.63</td>\n",
       "      <td>0</td>\n",
       "    </tr>\n",
       "    <tr>\n",
       "      <th>4</th>\n",
       "      <td>1</td>\n",
       "      <td>2003-03-18</td>\n",
       "      <td>19</td>\n",
       "      <td>567.83</td>\n",
       "      <td>0</td>\n",
       "    </tr>\n",
       "  </tbody>\n",
       "</table>\n",
       "</div>"
      ],
      "text/plain": [
       "   SI.NO        date  hour  Avg_activity  status\n",
       "0      1  2003-03-18    15        156.48       0\n",
       "1      1  2003-03-18    16        264.55       0\n",
       "2      1  2003-03-18    17       1105.13       0\n",
       "3      1  2003-03-18    18        338.63       0\n",
       "4      1  2003-03-18    19        567.83       0"
      ]
     },
     "execution_count": 3,
     "metadata": {},
     "output_type": "execute_result"
    }
   ],
   "source": [
    "df_control=pd.read_csv('/Users/PRADEEP SHETTY/Desktop/IEEE internship/control_merged.csv',index_col=[0])\n",
    "df_control.head()"
   ]
  },
  {
   "cell_type": "code",
   "execution_count": 4,
   "id": "8dade9e6",
   "metadata": {},
   "outputs": [
    {
     "name": "stdout",
     "output_type": "stream",
     "text": [
      "<class 'numpy.ndarray'>\n"
     ]
    }
   ],
   "source": [
    "condtn_avg=df_condtn.Avg_activity\n",
    "condtn_avg=np.array(condtn_avg)\n",
    "print(type(condtn_avg))\n",
    "# print(condtn_avg)"
   ]
  },
  {
   "cell_type": "code",
   "execution_count": 5,
   "id": "f82a0a85",
   "metadata": {},
   "outputs": [
    {
     "name": "stdout",
     "output_type": "stream",
     "text": [
      "<class 'numpy.ndarray'>\n"
     ]
    }
   ],
   "source": [
    "control_avg=df_control.Avg_activity\n",
    "control_avg=np.array(control_avg)\n",
    "print(type(control_avg))\n",
    "# print(control_avg)"
   ]
  },
  {
   "cell_type": "markdown",
   "id": "9816cbb3",
   "metadata": {},
   "source": [
    "# log transfer and plotting the graph "
   ]
  },
  {
   "cell_type": "code",
   "execution_count": 6,
   "id": "772eb670",
   "metadata": {},
   "outputs": [
    {
     "name": "stderr",
     "output_type": "stream",
     "text": [
      "C:\\Users\\PRADEEP SHETTY\\AppData\\Local\\Temp\\ipykernel_868\\1335695232.py:14: RuntimeWarning: divide by zero encountered in log\n",
      "  control_avg_log = np.log(normalized_control_avg)\n"
     ]
    },
    {
     "data": {
      "text/plain": [
       "Text(0.5, 1.0, 'Log-Transformed control_avg')"
      ]
     },
     "execution_count": 6,
     "metadata": {},
     "output_type": "execute_result"
    },
    {
     "data": {
      "image/png": "[encoded data removed]",
      "text/plain": [
       "<Figure size 1080x360 with 2 Axes>"
      ]
     },
     "metadata": {
      "needs_background": "light"
     },
     "output_type": "display_data"
    }
   ],
   "source": [
    "# Handle zero values by replacing them with a small constant\n",
    "epsilon = 1e-10\n",
    "control_avg_no_zeros = np.where(control_avg == 0, epsilon, control_avg)\n",
    "#control_avg_no_zeros = control_avg[control_avg != 0]\n",
    "#control_avg_no_zeros=control_avg - control_avg.min() + 1\n",
    "\n",
    "\n",
    "# Normalize the values using Min-Max scaling\n",
    "normalized_control_avg = (control_avg_no_zeros - control_avg_no_zeros.min()) / (control_avg_no_zeros.max() - control_avg_no_zeros.min())\n",
    "#normalized_control_avg=stats.zscore(control_avg)\n",
    "# Create log-transformed data\n",
    "\n",
    "\n",
    "control_avg_log = np.log(normalized_control_avg)\n",
    "control_avg_log = np.where(normalized_control_avg == 0, 0, control_avg_log)\n",
    "# Define grid of plots\n",
    "fig, axs = plt.subplots(nrows=1, ncols=2, figsize=(15, 5))\n",
    "\n",
    "# Create histograms\n",
    "axs[0].hist(control_avg, edgecolor='black')\n",
    "axs[1].hist(control_avg_log, edgecolor='black')\n",
    "\n",
    "# Add title to each histogram\n",
    "axs[0].set_title('Original control_avg')\n",
    "axs[1].set_title('Log-Transformed control_avg')\n",
    "\n",
    "\n",
    "\n"
   ]
  },
  {
   "cell_type": "code",
   "execution_count": 7,
   "id": "08785d04",
   "metadata": {},
   "outputs": [
    {
     "name": "stderr",
     "output_type": "stream",
     "text": [
      "C:\\Users\\PRADEEP SHETTY\\AppData\\Local\\Temp\\ipykernel_868\\4084388479.py:13: RuntimeWarning: divide by zero encountered in log\n",
      "  condtn_avg_log = np.log(normalized_condtn_avg)\n"
     ]
    },
    {
     "data": {
      "text/plain": [
       "Text(0.5, 1.0, 'Log-Transformed condtn_avg')"
      ]
     },
     "execution_count": 7,
     "metadata": {},
     "output_type": "execute_result"
    },
    {
     "data": {
      "image/png": "[encoded data removed]",
      "text/plain": [
       "<Figure size 1080x360 with 2 Axes>"
      ]
     },
     "metadata": {
      "needs_background": "light"
     },
     "output_type": "display_data"
    }
   ],
   "source": [
    "# Handle zero values by replacing them with a small constant\n",
    "epsilon = 1e-10\n",
    "condtn_avg_no_zeros = np.where(condtn_avg == 0, epsilon, condtn_avg)\n",
    "#condtn_avg_no_zeros = condtn_avg[condtn_avg != 0]\n",
    "#condtn_avg_no_zeros=condtn_avg - condtn_avg.min() + 1\n",
    "\n",
    "# Normalize the values using Min-Max scaling\n",
    "normalized_condtn_avg = (condtn_avg_no_zeros - condtn_avg_no_zeros.min()) / (condtn_avg_no_zeros.max() - condtn_avg_no_zeros.min())\n",
    "#normalized_condtn_avg=stats.zscore(condtn_avg)\n",
    "# Create log-transformed data\n",
    "\n",
    "\n",
    "condtn_avg_log = np.log(normalized_condtn_avg)\n",
    "condtn_avg_log = np.where(normalized_condtn_avg == 0, 0, condtn_avg_log)\n",
    "# Define grid of plots\n",
    "fig, axs = plt.subplots(nrows=1, ncols=2, figsize=(15, 5))\n",
    "\n",
    "# Create histograms\n",
    "axs[0].hist(condtn_avg, edgecolor='black')\n",
    "axs[1].hist(condtn_avg_log, edgecolor='black')\n",
    "\n",
    "# Add title to each histogram\n",
    "axs[0].set_title('Original condtn_avg')\n",
    "axs[1].set_title('Log-Transformed condtn_avg')\n",
    "\n",
    "\n"
   ]
  },
  {
   "cell_type": "code",
   "execution_count": 8,
   "id": "c4e74999",
   "metadata": {},
   "outputs": [],
   "source": [
    "n1 = len(condtn_avg_log)\n",
    "n2 = len(control_avg_log)"
   ]
  },
  {
   "cell_type": "markdown",
   "id": "b1ebb767",
   "metadata": {},
   "source": [
    "# ztest"
   ]
  },
  {
   "cell_type": "code",
   "execution_count": 9,
   "id": "ce27fa6a",
   "metadata": {},
   "outputs": [
    {
     "name": "stdout",
     "output_type": "stream",
     "text": [
      "2.387774495009104\n",
      "1.959963984540054\n"
     ]
    }
   ],
   "source": [
    "alpha = 0.05  # Significance level\n",
    "\n",
    "# Calculate the means and standard deviations of the samples\n",
    "mean1, mean2 = np.mean(condtn_avg_log), np.mean(control_avg_log)\n",
    "\n",
    "std1, std2 = np.std(condtn_avg_log), np.std(control_avg_log)\n",
    "\n",
    "# Calculate the test statistic (Z-score)\n",
    "\n",
    "z = (mean1 - mean2) / np.sqrt((std1**2 / n1) + (std2**2 / n2))\n",
    "\n",
    "# Calculate the critical Z-value for the given significance level\n",
    "critical_z = stats.norm.ppf(1 - alpha / 2)\n",
    "\n",
    "print((z))\n",
    "print(critical_z)\n",
    "\n",
    "p_value = 2 * (1 - stats.norm.cdf((np.abs(z))))"
   ]
  },
  {
   "cell_type": "code",
   "execution_count": 10,
   "id": "ad1d6159",
   "metadata": {},
   "outputs": [
    {
     "name": "stdout",
     "output_type": "stream",
     "text": [
      "Reject the null hypothesis\n"
     ]
    }
   ],
   "source": [
    "# Compare the p-value with the significance level\n",
    "if p_value < alpha:\n",
    "    print(\"Reject the null hypothesis\")  # There is a significant difference between the samples\n",
    "else:\n",
    "    print(\"Fail to reject the null hypothesis\")  # There is not enough evidence to conclude a significant difference"
   ]
  },
  {
   "cell_type": "code",
   "execution_count": 11,
   "id": "6f074d79",
   "metadata": {},
   "outputs": [
    {
     "name": "stdout",
     "output_type": "stream",
     "text": [
      "p-value: 0.016950739104036883\n"
     ]
    }
   ],
   "source": [
    "print(\"p-value:\", p_value)"
   ]
  },
  {
   "cell_type": "code",
   "execution_count": 12,
   "id": "e7cdd6e3",
   "metadata": {},
   "outputs": [
    {
     "name": "stdout",
     "output_type": "stream",
     "text": [
      "Reject the null hypothesis\n"
     ]
    }
   ],
   "source": [
    "# Compare the test statistic with the critical Z-value\n",
    "if np.abs(z) > critical_z:\n",
    "    print(\"Reject the null hypothesis\")  # There is a significant difference between the samples\n",
    "else:\n",
    "    print(\"Fail to reject the null hypothesis\")"
   ]
  },
  {
   "cell_type": "code",
   "execution_count": null,
   "id": "fce51ef5",
   "metadata": {},
   "outputs": [],
   "source": []
  },
  {
   "cell_type": "code",
   "execution_count": null,
   "id": "f4b6e9c3",
   "metadata": {},
   "outputs": [],
   "source": []
  },
  {
   "cell_type": "code",
   "execution_count": null,
   "id": "90795f7a",
   "metadata": {},
   "outputs": [],
   "source": []
  },
  {
   "cell_type": "code",
   "execution_count": null,
   "id": "d67d6b1d",
   "metadata": {},
   "outputs": [],
   "source": []
  },
  {
   "cell_type": "code",
   "execution_count": null,
   "id": "c71f1a55",
   "metadata": {},
   "outputs": [],
   "source": []
  },
  {
   "cell_type": "code",
   "execution_count": null,
   "id": "1ee13e7f",
   "metadata": {},
   "outputs": [],
   "source": []
  },
  {
   "cell_type": "markdown",
   "id": "6bcc3e48",
   "metadata": {},
   "source": [
    "\n",
    "\n"
   ]
  },
  {
   "cell_type": "code",
   "execution_count": null,
   "id": "705152b5",
   "metadata": {},
   "outputs": [],
   "source": []
  }
 ],
 "metadata": {
  "kernelspec": {
   "display_name": "Python 3 (ipykernel)",
   "language": "python",
   "name": "python3"
  },
  "language_info": {
   "codemirror_mode": {
    "name": "ipython",
    "version": 3
   },
   "file_extension": ".py",
   "mimetype": "text/x-python",
   "name": "python",
   "nbconvert_exporter": "python",
   "pygments_lexer": "ipython3",
   "version": "3.11.3"
  }
 },
 "nbformat": 4,
 "nbformat_minor": 5
}
