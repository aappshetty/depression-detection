{
 "cells": [
  {
   "cell_type": "code",
   "execution_count": 53,
   "id": "090385ef",
   "metadata": {},
   "outputs": [],
   "source": [
    "import numpy as np\n",
    "import pandas as pd\n",
    "from keras.models import Sequential\n",
    "from keras.layers import LSTM, Dense\n",
    "from sklearn.model_selection import train_test_split\n",
    "from sklearn.preprocessing import LabelEncoder, MinMaxScaler\n",
    "from sklearn.metrics import accuracy_score"
   ]
  },
  {
   "cell_type": "code",
   "execution_count": 54,
   "id": "48261b6b",
   "metadata": {},
   "outputs": [],
   "source": [
    "# Load the dataset from 'merged.csv'\n",
    "data = pd.read_csv('/Users/PRADEEP SHETTY/Desktop/IEEE internship/merged_final.csv')"
   ]
  },
  {
   "cell_type": "code",
   "execution_count": 55,
   "id": "bed30ee2",
   "metadata": {},
   "outputs": [],
   "source": [
    "# Convert the \"timestamp\" column to a pandas datetime object\n",
    "data['timestamp'] = pd.to_datetime(data['date'] + ' ' + data['hour'].apply(lambda x: '{:02d}'.format(x)), format='%Y-%m-%d %H')"
   ]
  },
  {
   "cell_type": "code",
   "execution_count": 56,
   "id": "37c85eed",
   "metadata": {},
   "outputs": [],
   "source": [
    "# Sort the data based on the timestamp index\n",
    "data = data.sort_values(by='timestamp')"
   ]
  },
  {
   "cell_type": "code",
   "execution_count": 57,
   "id": "5050f795",
   "metadata": {},
   "outputs": [],
   "source": [
    "# Extract features and labels\n",
    "X_datetime_features = (data['timestamp'] - data['timestamp'].iloc[0]).dt.total_seconds().values.reshape(-1, 1)\n",
    "X_activity = data[['Avg_activity']].values\n",
    "y = data['status'].values"
   ]
  },
  {
   "cell_type": "code",
   "execution_count": 58,
   "id": "1838f7c6",
   "metadata": {},
   "outputs": [],
   "source": [
    "# Normalize the activity feature\n",
    "activity_scaler = MinMaxScaler()\n",
    "X_activity_normalized = activity_scaler.fit_transform(X_activity)"
   ]
  },
  {
   "cell_type": "code",
   "execution_count": 59,
   "id": "40ed51a8",
   "metadata": {},
   "outputs": [],
   "source": [
    "# Encode the labels (0 for control and 1 for condition)\n",
    "label_encoder = LabelEncoder()\n",
    "y_encoded = label_encoder.fit_transform(y)"
   ]
  },
  {
   "cell_type": "code",
   "execution_count": 60,
   "id": "af7c8e82",
   "metadata": {},
   "outputs": [],
   "source": [
    "# Set parameters for the model\n",
    "window_size = 10      # Define the number of time steps to consider as input\n",
    "num_features_datetime = 1  # Only one feature: 'timestamp'\n",
    "num_features_activity = 1  # Only one feature: 'Avg_activity'"
   ]
  },
  {
   "cell_type": "code",
   "execution_count": 61,
   "id": "bde7e2f5",
   "metadata": {},
   "outputs": [],
   "source": [
    "# Combine datetime and normalized 'Avg_activity' features\n",
    "X_combined = np.concatenate((X_datetime_features, X_activity_normalized), axis=1)"
   ]
  },
  {
   "cell_type": "code",
   "execution_count": 62,
   "id": "62700863",
   "metadata": {},
   "outputs": [],
   "source": [
    "# Discard the remaining data points that cannot form a complete window\n",
    "num_samples = len(X_combined) - (len(X_combined) % window_size)\n",
    "X_combined = X_combined[:num_samples]\n",
    "y_encoded = y_encoded[:num_samples]"
   ]
  },
  {
   "cell_type": "code",
   "execution_count": 63,
   "id": "bc9c518a",
   "metadata": {},
   "outputs": [],
   "source": [
    "# Reshape input features to match the input shape expected by LSTM (samples, time steps, features)\n",
    "X_combined = X_combined.reshape((-1, window_size, num_features_datetime + num_features_activity))"
   ]
  },
  {
   "cell_type": "code",
   "execution_count": 64,
   "id": "4f628094",
   "metadata": {},
   "outputs": [],
   "source": [
    "# Ensure both features and labels have the same number of samples\n",
    "y_encoded = y_encoded[:len(X_combined)]"
   ]
  },
  {
   "cell_type": "code",
   "execution_count": 65,
   "id": "c56304e3",
   "metadata": {},
   "outputs": [],
   "source": [
    "# Split the data into training and testing sets\n",
    "X_train, X_test, y_train, y_test = train_test_split(X_combined, y_encoded, test_size=0.2, random_state=42)"
   ]
  },
  {
   "cell_type": "code",
   "execution_count": 67,
   "id": "3174732a",
   "metadata": {},
   "outputs": [],
   "source": [
    "# Build the LSTM model\n",
    "model = Sequential()\n",
    "model.add(LSTM(units=50, input_shape=(window_size, num_features_datetime + num_features_activity)))\n",
    "model.add(Dense(1, activation='sigmoid'))"
   ]
  },
  {
   "cell_type": "code",
   "execution_count": 68,
   "id": "f78aab76",
   "metadata": {},
   "outputs": [],
   "source": [
    "# Compile the model\n",
    "model.compile(loss='binary_crossentropy', optimizer='adam', metrics=['accuracy'])"
   ]
  },
  {
   "cell_type": "code",
   "execution_count": 69,
   "id": "155353b6",
   "metadata": {},
   "outputs": [
    {
     "name": "stdout",
     "output_type": "stream",
     "text": [
      "Epoch 1/50\n",
      "66/66 [==============================] - 5s 10ms/step - loss: 0.6617 - accuracy: 0.6220\n",
      "Epoch 2/50\n",
      "66/66 [==============================] - 1s 10ms/step - loss: 0.6398 - accuracy: 0.6621\n",
      "Epoch 3/50\n",
      "66/66 [==============================] - 1s 10ms/step - loss: 0.6404 - accuracy: 0.6621\n",
      "Epoch 4/50\n",
      "66/66 [==============================] - 1s 10ms/step - loss: 0.6398 - accuracy: 0.6621\n",
      "Epoch 5/50\n",
      "66/66 [==============================] - 1s 10ms/step - loss: 0.6398 - accuracy: 0.6621\n",
      "Epoch 6/50\n",
      "66/66 [==============================] - 1s 10ms/step - loss: 0.6402 - accuracy: 0.6621\n",
      "Epoch 7/50\n",
      "66/66 [==============================] - 1s 10ms/step - loss: 0.6401 - accuracy: 0.6621\n",
      "Epoch 8/50\n",
      "66/66 [==============================] - 1s 10ms/step - loss: 0.6405 - accuracy: 0.6621\n",
      "Epoch 9/50\n",
      "66/66 [==============================] - 1s 11ms/step - loss: 0.6405 - accuracy: 0.6621\n",
      "Epoch 10/50\n",
      "66/66 [==============================] - 1s 10ms/step - loss: 0.6401 - accuracy: 0.6621\n",
      "Epoch 11/50\n",
      "66/66 [==============================] - 1s 10ms/step - loss: 0.6398 - accuracy: 0.6621\n",
      "Epoch 12/50\n",
      "66/66 [==============================] - 1s 10ms/step - loss: 0.6402 - accuracy: 0.6621\n",
      "Epoch 13/50\n",
      "66/66 [==============================] - 1s 10ms/step - loss: 0.6401 - accuracy: 0.6621\n",
      "Epoch 14/50\n",
      "66/66 [==============================] - 1s 10ms/step - loss: 0.6404 - accuracy: 0.6621\n",
      "Epoch 15/50\n",
      "66/66 [==============================] - 1s 10ms/step - loss: 0.6400 - accuracy: 0.6621\n",
      "Epoch 16/50\n",
      "66/66 [==============================] - 1s 10ms/step - loss: 0.6399 - accuracy: 0.6621\n",
      "Epoch 17/50\n",
      "66/66 [==============================] - 1s 10ms/step - loss: 0.6398 - accuracy: 0.6621\n",
      "Epoch 18/50\n",
      "66/66 [==============================] - 1s 10ms/step - loss: 0.6403 - accuracy: 0.6621\n",
      "Epoch 19/50\n",
      "66/66 [==============================] - 1s 10ms/step - loss: 0.6399 - accuracy: 0.6621\n",
      "Epoch 20/50\n",
      "66/66 [==============================] - 1s 10ms/step - loss: 0.6398 - accuracy: 0.6621\n",
      "Epoch 21/50\n",
      "66/66 [==============================] - 1s 10ms/step - loss: 0.6402 - accuracy: 0.6621\n",
      "Epoch 22/50\n",
      "66/66 [==============================] - 1s 10ms/step - loss: 0.6400 - accuracy: 0.6621\n",
      "Epoch 23/50\n",
      "66/66 [==============================] - 1s 10ms/step - loss: 0.6400 - accuracy: 0.6621\n",
      "Epoch 24/50\n",
      "66/66 [==============================] - 1s 10ms/step - loss: 0.6403 - accuracy: 0.6621\n",
      "Epoch 25/50\n",
      "66/66 [==============================] - 1s 10ms/step - loss: 0.6402 - accuracy: 0.6621\n",
      "Epoch 26/50\n",
      "66/66 [==============================] - 1s 10ms/step - loss: 0.6401 - accuracy: 0.6621\n",
      "Epoch 27/50\n",
      "66/66 [==============================] - 1s 10ms/step - loss: 0.6402 - accuracy: 0.6621\n",
      "Epoch 28/50\n",
      "66/66 [==============================] - 1s 10ms/step - loss: 0.6407 - accuracy: 0.6621\n",
      "Epoch 29/50\n",
      "66/66 [==============================] - 1s 10ms/step - loss: 0.6398 - accuracy: 0.6621\n",
      "Epoch 30/50\n",
      "66/66 [==============================] - 1s 10ms/step - loss: 0.6398 - accuracy: 0.6621\n",
      "Epoch 31/50\n",
      "66/66 [==============================] - 1s 10ms/step - loss: 0.6402 - accuracy: 0.6621\n",
      "Epoch 32/50\n",
      "66/66 [==============================] - 1s 10ms/step - loss: 0.6399 - accuracy: 0.6621\n",
      "Epoch 33/50\n",
      "66/66 [==============================] - 1s 10ms/step - loss: 0.6400 - accuracy: 0.6621\n",
      "Epoch 34/50\n",
      "66/66 [==============================] - 1s 10ms/step - loss: 0.6399 - accuracy: 0.6621\n",
      "Epoch 35/50\n",
      "66/66 [==============================] - 1s 10ms/step - loss: 0.6397 - accuracy: 0.6621\n",
      "Epoch 36/50\n",
      "66/66 [==============================] - 1s 10ms/step - loss: 0.6398 - accuracy: 0.6621\n",
      "Epoch 37/50\n",
      "66/66 [==============================] - 1s 10ms/step - loss: 0.6398 - accuracy: 0.6621\n",
      "Epoch 38/50\n",
      "66/66 [==============================] - 1s 10ms/step - loss: 0.6399 - accuracy: 0.6621\n",
      "Epoch 39/50\n",
      "66/66 [==============================] - 1s 10ms/step - loss: 0.6402 - accuracy: 0.6621\n",
      "Epoch 40/50\n",
      "66/66 [==============================] - 1s 10ms/step - loss: 0.6399 - accuracy: 0.6621\n",
      "Epoch 41/50\n",
      "66/66 [==============================] - 1s 10ms/step - loss: 0.6401 - accuracy: 0.6621\n",
      "Epoch 42/50\n",
      "66/66 [==============================] - 1s 10ms/step - loss: 0.6401 - accuracy: 0.6621\n",
      "Epoch 43/50\n",
      "66/66 [==============================] - 1s 10ms/step - loss: 0.6399 - accuracy: 0.6621\n",
      "Epoch 44/50\n",
      "66/66 [==============================] - 1s 10ms/step - loss: 0.6400 - accuracy: 0.6621\n",
      "Epoch 45/50\n",
      "66/66 [==============================] - 1s 10ms/step - loss: 0.6398 - accuracy: 0.6621\n",
      "Epoch 46/50\n",
      "66/66 [==============================] - 1s 10ms/step - loss: 0.6398 - accuracy: 0.6621\n",
      "Epoch 47/50\n",
      "66/66 [==============================] - 1s 10ms/step - loss: 0.6401 - accuracy: 0.6621\n",
      "Epoch 48/50\n",
      "66/66 [==============================] - 1s 10ms/step - loss: 0.6403 - accuracy: 0.6621\n",
      "Epoch 49/50\n",
      "66/66 [==============================] - 1s 10ms/step - loss: 0.6399 - accuracy: 0.6621\n",
      "Epoch 50/50\n",
      "66/66 [==============================] - 1s 10ms/step - loss: 0.6399 - accuracy: 0.6621\n"
     ]
    },
    {
     "data": {
      "text/plain": [
       "<keras.src.callbacks.History at 0x1a88f4a7550>"
      ]
     },
     "execution_count": 69,
     "metadata": {},
     "output_type": "execute_result"
    }
   ],
   "source": [
    "# Train the model\n",
    "num_epochs = 50      # Define the number of epochs for training\n",
    "batch_size = 32      # Define the batch size\n",
    "model.fit(X_train, y_train, epochs=num_epochs, batch_size=batch_size)"
   ]
  },
  {
   "cell_type": "code",
   "execution_count": 71,
   "id": "a4dc71a2",
   "metadata": {},
   "outputs": [
    {
     "name": "stdout",
     "output_type": "stream",
     "text": [
      "17/17 [==============================] - 0s 5ms/step\n"
     ]
    }
   ],
   "source": [
    "# Make predictions on the test set\n",
    "y_pred = model.predict(X_test)\n",
    "y_pred_binary = np.round(y_pred).flatten()"
   ]
  },
  {
   "cell_type": "code",
   "execution_count": 72,
   "id": "147ae228",
   "metadata": {},
   "outputs": [
    {
     "name": "stdout",
     "output_type": "stream",
     "text": [
      "Test Accuracy: 0.6723809523809524\n"
     ]
    }
   ],
   "source": [
    "# Calculate accuracy\n",
    "accuracy = accuracy_score(y_test, y_pred_binary)\n",
    "print(\"Test Accuracy:\", accuracy)"
   ]
  },
  {
   "cell_type": "code",
   "execution_count": null,
   "id": "7a9b6e0f",
   "metadata": {},
   "outputs": [],
   "source": []
  },
  {
   "cell_type": "code",
   "execution_count": null,
   "id": "7e26c65f",
   "metadata": {},
   "outputs": [],
   "source": []
  }
 ],
 "metadata": {
  "kernelspec": {
   "display_name": "Python 3 (ipykernel)",
   "language": "python",
   "name": "python3"
  },
  "language_info": {
   "codemirror_mode": {
    "name": "ipython",
    "version": 3
   },
   "file_extension": ".py",
   "mimetype": "text/x-python",
   "name": "python",
   "nbconvert_exporter": "python",
   "pygments_lexer": "ipython3",
   "version": "3.11.3"
  }
 },
 "nbformat": 4,
 "nbformat_minor": 5
}
