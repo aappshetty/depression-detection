{
 "cells": [
  {
   "cell_type": "code",
   "execution_count": 15,
   "id": "fc3d4c55",
   "metadata": {},
   "outputs": [],
   "source": [
    "import os\n",
    "import sktime\n",
    "import pandas as pd\n",
    "from sktime.datasets import load_from_tsfile\n",
    "from sklearn.model_selection import train_test_split, GridSearchCV\n",
    "from sklearn.metrics import accuracy_score, roc_curve, roc_auc_score\n",
    "import matplotlib.pyplot as plt\n",
    "from sktime.classification.interval_based import TimeSeriesForestClassifier"
   ]
  },
  {
   "cell_type": "code",
   "execution_count": 16,
   "id": "baa92b86",
   "metadata": {},
   "outputs": [],
   "source": [
    "# Load time series data\n",
    "X, y = load_from_tsfile('/Users/PRADEEP SHETTY/Desktop/IEEE internship/final.ts', return_data_type=\"numpy3d\")"
   ]
  },
  {
   "cell_type": "code",
   "execution_count": 17,
   "id": "baaea087",
   "metadata": {},
   "outputs": [],
   "source": [
    "# Split the data into training, validation, and testing sets\n",
    "X_train, X_temp, y_train, y_temp = train_test_split(X, y, test_size=0.2, random_state=42)\n",
    "X_val, X_test, y_val, y_test = train_test_split(X_temp, y_temp, test_size=0.5, random_state=42)"
   ]
  },
  {
   "cell_type": "code",
   "execution_count": 18,
   "id": "c7f99e20",
   "metadata": {},
   "outputs": [],
   "source": [
    "# Define the parameter grid\n",
    "param_grid = {\n",
    "    'n_estimators': [50, 100, 200, 400],\n",
    "    'min_interval': [1, 5, 10],\n",
    "}"
   ]
  },
  {
   "cell_type": "code",
   "execution_count": 19,
   "id": "23e2b4d6",
   "metadata": {},
   "outputs": [],
   "source": [
    "# Create the GridSearchCV object\n",
    "grid_search = GridSearchCV(TimeSeriesForestClassifier(random_state=42), param_grid, cv=5, scoring='roc_auc')"
   ]
  },
  {
   "cell_type": "code",
   "execution_count": null,
   "id": "dbb7ce38",
   "metadata": {},
   "outputs": [
    {
     "name": "stderr",
     "output_type": "stream",
     "text": [
      "C:\\Users\\PRADEEP SHETTY\\anaconda3\\Lib\\site-packages\\sktime\\utils\\slope_and_trend.py:82: RuntimeWarning: invalid value encountered in divide\n",
      "  return (np.mean(y * x, axis=axis) - x_mean * np.mean(y, axis=axis)) / (\n",
      "C:\\Users\\PRADEEP SHETTY\\anaconda3\\Lib\\site-packages\\sktime\\utils\\slope_and_trend.py:82: RuntimeWarning: invalid value encountered in divide\n",
      "  return (np.mean(y * x, axis=axis) - x_mean * np.mean(y, axis=axis)) / (\n",
      "C:\\Users\\PRADEEP SHETTY\\anaconda3\\Lib\\site-packages\\sktime\\utils\\slope_and_trend.py:82: RuntimeWarning: invalid value encountered in divide\n",
      "  return (np.mean(y * x, axis=axis) - x_mean * np.mean(y, axis=axis)) / (\n",
      "C:\\Users\\PRADEEP SHETTY\\anaconda3\\Lib\\site-packages\\sktime\\utils\\slope_and_trend.py:82: RuntimeWarning: invalid value encountered in divide\n",
      "  return (np.mean(y * x, axis=axis) - x_mean * np.mean(y, axis=axis)) / (\n",
      "C:\\Users\\PRADEEP SHETTY\\anaconda3\\Lib\\site-packages\\sktime\\utils\\slope_and_trend.py:82: RuntimeWarning: invalid value encountered in divide\n",
      "  return (np.mean(y * x, axis=axis) - x_mean * np.mean(y, axis=axis)) / (\n",
      "C:\\Users\\PRADEEP SHETTY\\anaconda3\\Lib\\site-packages\\sktime\\utils\\slope_and_trend.py:82: RuntimeWarning: invalid value encountered in divide\n",
      "  return (np.mean(y * x, axis=axis) - x_mean * np.mean(y, axis=axis)) / (\n",
      "C:\\Users\\PRADEEP SHETTY\\anaconda3\\Lib\\site-packages\\sktime\\utils\\slope_and_trend.py:82: RuntimeWarning: invalid value encountered in divide\n",
      "  return (np.mean(y * x, axis=axis) - x_mean * np.mean(y, axis=axis)) / (\n",
      "C:\\Users\\PRADEEP SHETTY\\anaconda3\\Lib\\site-packages\\sktime\\utils\\slope_and_trend.py:82: RuntimeWarning: invalid value encountered in divide\n",
      "  return (np.mean(y * x, axis=axis) - x_mean * np.mean(y, axis=axis)) / (\n",
      "C:\\Users\\PRADEEP SHETTY\\anaconda3\\Lib\\site-packages\\sktime\\utils\\slope_and_trend.py:82: RuntimeWarning: invalid value encountered in divide\n",
      "  return (np.mean(y * x, axis=axis) - x_mean * np.mean(y, axis=axis)) / (\n",
      "C:\\Users\\PRADEEP SHETTY\\anaconda3\\Lib\\site-packages\\sktime\\utils\\slope_and_trend.py:82: RuntimeWarning: invalid value encountered in divide\n",
      "  return (np.mean(y * x, axis=axis) - x_mean * np.mean(y, axis=axis)) / (\n",
      "C:\\Users\\PRADEEP SHETTY\\anaconda3\\Lib\\site-packages\\sktime\\utils\\slope_and_trend.py:82: RuntimeWarning: invalid value encountered in divide\n",
      "  return (np.mean(y * x, axis=axis) - x_mean * np.mean(y, axis=axis)) / (\n",
      "C:\\Users\\PRADEEP SHETTY\\anaconda3\\Lib\\site-packages\\sktime\\utils\\slope_and_trend.py:82: RuntimeWarning: invalid value encountered in divide\n",
      "  return (np.mean(y * x, axis=axis) - x_mean * np.mean(y, axis=axis)) / (\n",
      "C:\\Users\\PRADEEP SHETTY\\anaconda3\\Lib\\site-packages\\sktime\\utils\\slope_and_trend.py:82: RuntimeWarning: invalid value encountered in divide\n",
      "  return (np.mean(y * x, axis=axis) - x_mean * np.mean(y, axis=axis)) / (\n",
      "C:\\Users\\PRADEEP SHETTY\\anaconda3\\Lib\\site-packages\\sktime\\utils\\slope_and_trend.py:82: RuntimeWarning: invalid value encountered in divide\n",
      "  return (np.mean(y * x, axis=axis) - x_mean * np.mean(y, axis=axis)) / (\n",
      "C:\\Users\\PRADEEP SHETTY\\anaconda3\\Lib\\site-packages\\sktime\\utils\\slope_and_trend.py:82: RuntimeWarning: invalid value encountered in divide\n",
      "  return (np.mean(y * x, axis=axis) - x_mean * np.mean(y, axis=axis)) / (\n",
      "C:\\Users\\PRADEEP SHETTY\\anaconda3\\Lib\\site-packages\\sktime\\utils\\slope_and_trend.py:82: RuntimeWarning: invalid value encountered in divide\n",
      "  return (np.mean(y * x, axis=axis) - x_mean * np.mean(y, axis=axis)) / (\n",
      "C:\\Users\\PRADEEP SHETTY\\anaconda3\\Lib\\site-packages\\sktime\\utils\\slope_and_trend.py:82: RuntimeWarning: invalid value encountered in divide\n",
      "  return (np.mean(y * x, axis=axis) - x_mean * np.mean(y, axis=axis)) / (\n",
      "C:\\Users\\PRADEEP SHETTY\\anaconda3\\Lib\\site-packages\\sktime\\utils\\slope_and_trend.py:82: RuntimeWarning: invalid value encountered in divide\n",
      "  return (np.mean(y * x, axis=axis) - x_mean * np.mean(y, axis=axis)) / (\n",
      "C:\\Users\\PRADEEP SHETTY\\anaconda3\\Lib\\site-packages\\sktime\\utils\\slope_and_trend.py:82: RuntimeWarning: invalid value encountered in divide\n",
      "  return (np.mean(y * x, axis=axis) - x_mean * np.mean(y, axis=axis)) / (\n",
      "C:\\Users\\PRADEEP SHETTY\\anaconda3\\Lib\\site-packages\\sktime\\utils\\slope_and_trend.py:82: RuntimeWarning: invalid value encountered in divide\n",
      "  return (np.mean(y * x, axis=axis) - x_mean * np.mean(y, axis=axis)) / (\n"
     ]
    }
   ],
   "source": [
    "# Fit the GridSearchCV object to your data\n",
    "grid_search.fit(X_train, y_train)"
   ]
  },
  {
   "cell_type": "code",
   "execution_count": null,
   "id": "5bbc0f07",
   "metadata": {},
   "outputs": [],
   "source": [
    "# Get the best estimator and its parameters\n",
    "best_classifier = grid_search.best_estimator_\n",
    "best_params = grid_search.best_params_"
   ]
  },
  {
   "cell_type": "code",
   "execution_count": null,
   "id": "6a90282c",
   "metadata": {},
   "outputs": [],
   "source": [
    "# Make predictions on the validation set\n",
    "y_val_pred = best_classifier.predict(X_val)"
   ]
  },
  {
   "cell_type": "code",
   "execution_count": null,
   "id": "a40250ef",
   "metadata": {},
   "outputs": [],
   "source": [
    "# Calculate ROC AUC on the validation set\n",
    "roc_auc = roc_auc_score(y_val, y_val_pred)"
   ]
  },
  {
   "cell_type": "code",
   "execution_count": null,
   "id": "3c1817f8",
   "metadata": {},
   "outputs": [],
   "source": [
    "print(\"Best parameters:\", best_params)\n",
    "print(\"Validation ROC AUC:\", roc_auc)"
   ]
  },
  {
   "cell_type": "code",
   "execution_count": null,
   "id": "86eef3b6",
   "metadata": {},
   "outputs": [],
   "source": [
    "# Calculate the predicted probabilities for the positive class (label 1)\n",
    "y_val_pred_probabilities = best_classifier.predict_proba(X_val)[:, 1]"
   ]
  },
  {
   "cell_type": "code",
   "execution_count": null,
   "id": "a612e714",
   "metadata": {},
   "outputs": [],
   "source": [
    "# Calculate ROC curve and AUC\n",
    "fpr, tpr, thresholds = roc_curve(y_val, y_val_pred_probabilities)\n",
    "roc_auc = roc_auc_score(y_val, y_val_pred_probabilities)"
   ]
  },
  {
   "cell_type": "code",
   "execution_count": null,
   "id": "38c1bd93",
   "metadata": {},
   "outputs": [],
   "source": [
    "# Print ROC AUC score\n",
    "print(\"Validation ROC AUC:\", roc_auc)"
   ]
  },
  {
   "cell_type": "code",
   "execution_count": null,
   "id": "63aa0ffd",
   "metadata": {},
   "outputs": [],
   "source": [
    "# Plot ROC curve\n",
    "plt.figure()\n",
    "plt.plot(fpr, tpr, color='darkorange', lw=2, label='ROC curve (area = %0.2f)' % roc_auc)\n",
    "plt.plot([0, 1], [0, 1], color='navy', lw=2, linestyle='--')\n",
    "plt.xlim([0.0, 1.0])\n",
    "plt.ylim([0.0, 1.05])\n",
    "plt.xlabel('False Positive Rate')\n",
    "plt.ylabel('True Positive Rate')\n",
    "plt.title('Receiver Operating Characteristic')\n",
    "plt.legend(loc=\"lower right\")\n",
    "plt.show()"
   ]
  },
  {
   "cell_type": "code",
   "execution_count": null,
   "id": "cbb01c9c",
   "metadata": {},
   "outputs": [],
   "source": [
    "# Make predictions on the test set\n",
    "y_test_pred = best_classifier.predict(X_test)"
   ]
  },
  {
   "cell_type": "code",
   "execution_count": null,
   "id": "3c3aeb4d",
   "metadata": {},
   "outputs": [],
   "source": [
    "# Calculate accuracy on the test set\n",
    "accuracy = accuracy_score(y_test, y_test_pred)\n",
    "print(\"Test Accuracy:\", accuracy)"
   ]
  }
 ],
 "metadata": {
  "kernelspec": {
   "display_name": "Python 3 (ipykernel)",
   "language": "python",
   "name": "python3"
  },
  "language_info": {
   "codemirror_mode": {
    "name": "ipython",
    "version": 3
   },
   "file_extension": ".py",
   "mimetype": "text/x-python",
   "name": "python",
   "nbconvert_exporter": "python",
   "pygments_lexer": "ipython3",
   "version": "3.11.3"
  }
 },
 "nbformat": 4,
 "nbformat_minor": 5
}
