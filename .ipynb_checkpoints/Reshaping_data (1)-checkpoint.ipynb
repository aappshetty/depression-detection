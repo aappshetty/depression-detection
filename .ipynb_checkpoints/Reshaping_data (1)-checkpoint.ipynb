{
 "cells": [
  {
   "cell_type": "code",
   "execution_count": null,
   "metadata": {
    "colab": {
     "base_uri": "https://localhost:8080/"
    },
    "id": "rQHGB4fQLMyp",
    "outputId": "b6779256-b450-4f57-bb1d-78b09261942a"
   },
   "outputs": [
    {
     "name": "stdout",
     "output_type": "stream",
     "text": [
      "Mounted at /content/gdrive\n"
     ]
    }
   ],
   "source": [
    "from google.colab import drive\n",
    "import pandas as pd\n",
    "drive.mount('/content/gdrive')"
   ]
  },
  {
   "cell_type": "code",
   "execution_count": null,
   "metadata": {
    "colab": {
     "base_uri": "https://localhost:8080/"
    },
    "id": "rza4NugMLRtn",
    "outputId": "dc9f40a2-7f28-4d13-99b8-a278ef8383f0"
   },
   "outputs": [
    {
     "name": "stdout",
     "output_type": "stream",
     "text": [
      "Collecting sktime\n",
      "  Downloading sktime-0.21.0-py3-none-any.whl (17.1 MB)\n",
      "\u001b[2K     \u001b[90m━━━━━━━━━━━━━━━━━━━━━━━━━━━━━━━━━━━━━━━\u001b[0m \u001b[32m17.1/17.1 MB\u001b[0m \u001b[31m100.9 MB/s\u001b[0m eta \u001b[36m0:00:00\u001b[0m\n",
      "\u001b[?25hCollecting deprecated>=1.2.13 (from sktime)\n",
      "  Downloading Deprecated-1.2.14-py2.py3-none-any.whl (9.6 kB)\n",
      "Requirement already satisfied: numpy<1.26,>=1.21.0 in /usr/local/lib/python3.10/dist-packages (from sktime) (1.23.5)\n",
      "Requirement already satisfied: pandas<2.1.0,>=1.1.0 in /usr/local/lib/python3.10/dist-packages (from sktime) (1.5.3)\n",
      "Requirement already satisfied: packaging in /usr/local/lib/python3.10/dist-packages (from sktime) (23.1)\n",
      "Collecting scikit-base<0.6.0 (from sktime)\n",
      "  Downloading scikit_base-0.5.1-py3-none-any.whl (118 kB)\n",
      "\u001b[2K     \u001b[90m━━━━━━━━━━━━━━━━━━━━━━━━━━━━━━━━━━━━━━\u001b[0m \u001b[32m118.7/118.7 kB\u001b[0m \u001b[31m17.4 MB/s\u001b[0m eta \u001b[36m0:00:00\u001b[0m\n",
      "\u001b[?25hRequirement already satisfied: scikit-learn<1.4.0,>=0.24.0 in /usr/local/lib/python3.10/dist-packages (from sktime) (1.2.2)\n",
      "Requirement already satisfied: scipy<2.0.0,>=1.2.0 in /usr/local/lib/python3.10/dist-packages (from sktime) (1.10.1)\n",
      "Requirement already satisfied: wrapt<2,>=1.10 in /usr/local/lib/python3.10/dist-packages (from deprecated>=1.2.13->sktime) (1.14.1)\n",
      "Requirement already satisfied: python-dateutil>=2.8.1 in /usr/local/lib/python3.10/dist-packages (from pandas<2.1.0,>=1.1.0->sktime) (2.8.2)\n",
      "Requirement already satisfied: pytz>=2020.1 in /usr/local/lib/python3.10/dist-packages (from pandas<2.1.0,>=1.1.0->sktime) (2023.3)\n",
      "Requirement already satisfied: joblib>=1.1.1 in /usr/local/lib/python3.10/dist-packages (from scikit-learn<1.4.0,>=0.24.0->sktime) (1.3.2)\n",
      "Requirement already satisfied: threadpoolctl>=2.0.0 in /usr/local/lib/python3.10/dist-packages (from scikit-learn<1.4.0,>=0.24.0->sktime) (3.2.0)\n",
      "Requirement already satisfied: six>=1.5 in /usr/local/lib/python3.10/dist-packages (from python-dateutil>=2.8.1->pandas<2.1.0,>=1.1.0->sktime) (1.16.0)\n",
      "Installing collected packages: scikit-base, deprecated, sktime\n",
      "Successfully installed deprecated-1.2.14 scikit-base-0.5.1 sktime-0.21.0\n"
     ]
    }
   ],
   "source": [
    "pip install sktime"
   ]
  },
  {
   "cell_type": "code",
   "execution_count": null,
   "metadata": {
    "colab": {
     "base_uri": "https://localhost:8080/"
    },
    "id": "FjgUzWuAMNd1",
    "outputId": "674888b4-bdc6-4dc9-dbb5-93ef1c08a3dd"
   },
   "outputs": [
    {
     "name": "stdout",
     "output_type": "stream",
     "text": [
      "Collecting tslearn\n",
      "  Downloading tslearn-0.6.1-py3-none-any.whl (368 kB)\n",
      "\u001b[?25l     \u001b[90m━━━━━━━━━━━━━━━━━━━━━━━━━━━━━━━━━━━━━━━━\u001b[0m \u001b[32m0.0/368.5 kB\u001b[0m \u001b[31m?\u001b[0m eta \u001b[36m-:--:--\u001b[0m\r",
      "\u001b[2K     \u001b[91m━━━━━━━━━━━━━━━━━━━━━\u001b[0m\u001b[91m╸\u001b[0m\u001b[90m━━━━━━━━━━━━━━━━━\u001b[0m \u001b[32m204.8/368.5 kB\u001b[0m \u001b[31m6.0 MB/s\u001b[0m eta \u001b[36m0:00:01\u001b[0m\r",
      "\u001b[2K     \u001b[90m━━━━━━━━━━━━━━━━━━━━━━━━━━━━━━━━━━━━━━━\u001b[0m \u001b[32m368.5/368.5 kB\u001b[0m \u001b[31m6.2 MB/s\u001b[0m eta \u001b[36m0:00:00\u001b[0m\n",
      "\u001b[?25hRequirement already satisfied: numpy in /usr/local/lib/python3.10/dist-packages (from tslearn) (1.23.5)\n",
      "Requirement already satisfied: scipy in /usr/local/lib/python3.10/dist-packages (from tslearn) (1.10.1)\n",
      "Requirement already satisfied: scikit-learn in /usr/local/lib/python3.10/dist-packages (from tslearn) (1.2.2)\n",
      "Requirement already satisfied: numba in /usr/local/lib/python3.10/dist-packages (from tslearn) (0.56.4)\n",
      "Requirement already satisfied: joblib in /usr/local/lib/python3.10/dist-packages (from tslearn) (1.3.2)\n",
      "Requirement already satisfied: llvmlite<0.40,>=0.39.0dev0 in /usr/local/lib/python3.10/dist-packages (from numba->tslearn) (0.39.1)\n",
      "Requirement already satisfied: setuptools in /usr/local/lib/python3.10/dist-packages (from numba->tslearn) (67.7.2)\n",
      "Requirement already satisfied: threadpoolctl>=2.0.0 in /usr/local/lib/python3.10/dist-packages (from scikit-learn->tslearn) (3.2.0)\n",
      "Installing collected packages: tslearn\n",
      "Successfully installed tslearn-0.6.1\n"
     ]
    }
   ],
   "source": [
    "pip install tslearn"
   ]
  },
  {
   "cell_type": "code",
   "execution_count": null,
   "metadata": {
    "id": "oG0AtJdsMRxA"
   },
   "outputs": [],
   "source": [
    "from tslearn.utils import to_time_series_dataset"
   ]
  },
  {
   "cell_type": "code",
   "execution_count": null,
   "metadata": {
    "id": "PJl9YIhHMYHB"
   },
   "outputs": [],
   "source": []
  },
  {
   "cell_type": "code",
   "execution_count": null,
   "metadata": {
    "id": "zA_d-VYCLJWi"
   },
   "outputs": [],
   "source": [
    "df=pd.read_csv(\"/content/gdrive/MyDrive/IEEE/data/merged_condtn/condtn_merged.csv\",header=0)\n",
    "unique_dates=list(set(df['date']))\n",
    "# print(unique_dates)"
   ]
  },
  {
   "cell_type": "code",
   "execution_count": null,
   "metadata": {
    "colab": {
     "base_uri": "https://localhost:8080/"
    },
    "id": "jShNbLZxK0m2",
    "outputId": "958dbb58-109f-4453-d591-c997c308d70e"
   },
   "outputs": [
    {
     "name": "stdout",
     "output_type": "stream",
     "text": [
      "['2003-08-20', '2005-10-21', '2005-09-24', '2004-06-07', '2005-10-05', '2002-11-11', '2005-03-20', '2003-06-03', '2002-06-28', '2004-05-16', '2004-09-28', '2003-05-27', '2003-06-18', '2002-06-25', '2003-05-14', '2003-05-25', '2005-09-04', '2004-05-10', '2005-11-21', '2003-05-29', '2004-09-15', '2004-09-30', '2005-10-04', '2005-03-21', '2002-11-16', '2005-11-20', '2005-11-16', '2003-06-23', '2002-06-26', '2004-05-15', '2005-09-26', '2004-05-17', '2002-06-13', '2005-11-13', '2002-11-15', '2004-09-14', '2002-06-06', '2002-11-10', '2005-09-07', '2003-05-28', '2005-03-15', '2005-10-02', '2005-10-19', '2002-06-17', '2004-05-06', '2004-05-13', '2004-09-01', '2003-06-10', '2003-06-14', '2002-09-03', '2004-10-08', '2002-11-13', '2005-03-10', '2003-08-31', '2003-05-23', '2004-05-31', '2003-08-22', '2004-10-09', '2004-10-06', '2005-09-09', '2002-11-17', '2004-09-12', '2004-10-02', '2004-09-02', '2004-10-11', '2002-09-06', '2002-06-05', '2002-09-08', '2005-09-22', '2003-05-18', '2005-09-29', '2005-11-15', '2002-05-30', '2002-09-01', '2002-09-02', '2003-06-12', '2002-06-24', '2002-11-09', '2002-11-19', '2005-09-11', '2003-08-27', '2003-08-28', '2004-05-05', '2002-09-09', '2005-08-12', '2002-11-12', '2003-08-19', '2004-06-09', '2005-08-11', '2002-06-14', '2003-05-13', '2002-09-05', '2003-06-26', '2005-09-13', '2003-06-11', '2002-11-08', '2005-03-19', '2003-08-26', '2005-09-06', '2005-09-01', '2002-11-06', '2003-05-20', '2002-09-13', '2004-06-03', '2002-06-08', '2005-10-06', '2002-11-05', '2003-06-27', '2004-06-10', '2005-10-16', '2004-05-08', '2003-08-25', '2003-09-02', '2005-11-10', '2003-08-24', '2005-08-31', '2005-11-22', '2003-09-03', '2005-03-13', '2005-03-18', '2002-06-07', '2004-09-11', '2003-06-19', '2003-06-08', '2005-03-14', '2005-10-12', '2003-05-10', '2003-05-19', '2003-05-26', '2005-08-24', '2004-08-31', '2005-03-22', '2002-09-10', '2003-08-30', '2005-10-03', '2002-05-24', '2003-06-09', '2005-03-17', '2005-10-13', '2002-06-11', '2002-06-19', '2003-06-04', '2005-10-01', '2003-06-07', '2005-09-30', '2004-05-12', '2003-05-12', '2003-06-15', '2005-10-15', '2005-10-20', '2005-11-12', '2003-06-24', '2002-05-31', '2005-08-15', '2004-05-04', '2005-09-03', '2003-06-06', '2004-05-19', '2004-05-11', '2005-09-23', '2005-08-19', '2002-05-28', '2005-10-10', '2005-09-08', '2002-11-14', '2005-10-07', '2003-08-23', '2004-06-05', '2003-05-31', '2002-08-30', '2005-09-05', '2005-09-02', '2003-05-16', '2002-11-20', '2004-09-07', '2004-05-18', '2002-05-25', '2005-08-29', '2005-10-18', '2005-11-14', '2004-10-12', '2004-05-28', '2004-09-29', '2003-05-11', '2004-05-07', '2005-08-30', '2003-08-29', '2003-06-25', '2003-06-20', '2005-03-11', '2005-11-23', '2002-09-07', '2003-06-17', '2002-06-09', '2002-09-11', '2005-09-25', '2005-11-08', '2002-06-20', '2005-08-22', '2003-05-24', '2003-05-21', '2004-10-14', '2002-06-21', '2005-08-21', '2004-09-10', '2005-08-26', '2004-10-04', '2003-09-01', '2003-06-05', '2002-11-18', '2003-06-02', '2004-10-07', '2002-06-22', '2004-09-05', '2004-10-10', '2002-06-16', '2004-06-01', '2004-10-01', '2005-10-08', '2002-06-15', '2002-06-23', '2002-06-04', '2005-11-11', '2005-03-08', '2005-08-18', '2002-06-12', '2005-03-09', '2004-09-13', '2005-11-18', '2005-10-09', '2004-06-02', '2003-05-22', '2002-05-27', '2005-03-23', '2003-05-08', '2004-05-30', '2003-05-15', '2004-05-29', '2004-10-13', '2004-09-04', '2005-03-16', '2004-06-04', '2004-06-08', '2004-10-05', '2003-05-07', '2002-06-02', '2002-06-18', '2004-09-03', '2004-06-06', '2005-09-10', '2004-05-09', '2002-09-04', '2005-10-17', '2002-06-03', '2002-06-27', '2002-11-07', '2005-08-16', '2005-09-12', '2005-08-28', '2002-06-01', '2004-05-27', '2005-08-13', '2005-09-28', '2004-09-06', '2002-08-29', '2005-11-19', '2003-05-09', '2002-09-12', '2005-09-14', '2005-03-12', '2004-10-03', '2003-06-13', '2003-06-16', '2003-06-22', '2004-09-08', '2003-06-21', '2004-09-09', '2005-08-14', '2005-11-09', '2005-10-11', '2002-05-26', '2002-06-10', '2002-08-31', '2005-08-27', '2003-06-01', '2005-11-17', '2005-10-14', '2003-05-30', '2002-05-29', '2005-09-27', '2005-08-23', '2004-05-14', '2005-08-17', '2003-05-17', '2003-08-21', '2005-08-25', '2005-08-20']\n"
     ]
    }
   ],
   "source": [
    "print(unique_dates)"
   ]
  },
  {
   "cell_type": "code",
   "execution_count": null,
   "metadata": {
    "id": "rA_eK8y_MMzN"
   },
   "outputs": [],
   "source": [
    "sequences=list()\n",
    "for i in range(0,len(unique_dates)):\n",
    "  data=df[df['date']==unique_dates[i]]\n",
    "  values=data['Avg_activity'].values\n",
    "  sequences.append(values)\n"
   ]
  },
  {
   "cell_type": "code",
   "execution_count": null,
   "metadata": {
    "colab": {
     "base_uri": "https://localhost:8080/"
    },
    "id": "VekcxB33oU3a",
    "outputId": "136f69d5-2bc7-475b-f5fc-befad53236ad"
   },
   "outputs": [
    {
     "name": "stdout",
     "output_type": "stream",
     "text": [
      "<class 'list'>\n"
     ]
    }
   ],
   "source": [
    "print(type(sequences))"
   ]
  },
  {
   "cell_type": "code",
   "execution_count": null,
   "metadata": {
    "id": "rAq-1UY4NPMF"
   },
   "outputs": [],
   "source": [
    "from keras.utils import pad_sequences\n",
    "\n",
    "seq_len = 24\n",
    "final_seq=pad_sequences(sequences, maxlen=seq_len, padding='post', dtype='float', truncating='post')"
   ]
  },
  {
   "cell_type": "code",
   "execution_count": null,
   "metadata": {
    "colab": {
     "base_uri": "https://localhost:8080/"
    },
    "id": "jw5ADkbnoVk1",
    "outputId": "440e81aa-e987-4cb1-edc2-e0798e3e400c"
   },
   "outputs": [
    {
     "name": "stdout",
     "output_type": "stream",
     "text": [
      "<class 'numpy.ndarray'>\n"
     ]
    }
   ],
   "source": [
    "print(type(final_seq))"
   ]
  },
  {
   "cell_type": "code",
   "execution_count": null,
   "metadata": {
    "id": "gDi3bzMCm8K2"
   },
   "outputs": [],
   "source": [
    "?pad_sequences"
   ]
  },
  {
   "cell_type": "code",
   "execution_count": null,
   "metadata": {
    "colab": {
     "base_uri": "https://localhost:8080/"
    },
    "id": "DzulpZ3TNTgO",
    "outputId": "fdb3e619-7a6b-441d-e671-ddb025ba9ce9"
   },
   "outputs": [
    {
     "name": "stdout",
     "output_type": "stream",
     "text": [
      "(297, 24)\n"
     ]
    }
   ],
   "source": [
    "print(final_seq.shape)"
   ]
  },
  {
   "cell_type": "code",
   "execution_count": null,
   "metadata": {
    "colab": {
     "base_uri": "https://localhost:8080/"
    },
    "id": "RLFPqNe2Njqm",
    "outputId": "61703d3a-e816-4852-a4d7-a6eb7fade116"
   },
   "outputs": [
    {
     "name": "stdout",
     "output_type": "stream",
     "text": [
      "[[7.6570e+01 2.9200e+00 1.0200e+01 ... 6.8400e+01 1.0343e+02 1.7412e+02]\n",
      " [3.0000e+00 3.0000e+00 3.0000e+00 ... 0.0000e+00 0.0000e+00 0.0000e+00]\n",
      " [2.1700e+00 4.1300e+00 0.0000e+00 ... 4.7478e+02 3.8830e+01 8.5980e+01]\n",
      " ...\n",
      " [1.4870e+02 7.7180e+01 1.3250e+01 ... 1.0000e-01 1.1000e+00 0.0000e+00]\n",
      " [2.3107e+02 1.5960e+02 3.3280e+01 ... 2.5520e+02 1.6360e+02 4.3333e+02]\n",
      " [1.8895e+02 5.3450e+01 8.9700e+00 ... 2.2697e+02 1.8780e+02 1.2988e+02]]\n"
     ]
    }
   ],
   "source": [
    "print(final_seq)"
   ]
  },
  {
   "cell_type": "code",
   "execution_count": null,
   "metadata": {
    "colab": {
     "base_uri": "https://localhost:8080/"
    },
    "id": "U7ixeLB5pnyt",
    "outputId": "a97f1955-66e4-4cef-fae7-1a2d3501b3dc"
   },
   "outputs": [
    {
     "name": "stdout",
     "output_type": "stream",
     "text": [
      "Requirement already satisfied: tslearn in /usr/local/lib/python3.10/dist-packages (0.6.1)\n",
      "Requirement already satisfied: numpy in /usr/local/lib/python3.10/dist-packages (from tslearn) (1.23.5)\n",
      "Requirement already satisfied: scipy in /usr/local/lib/python3.10/dist-packages (from tslearn) (1.10.1)\n",
      "Requirement already satisfied: scikit-learn in /usr/local/lib/python3.10/dist-packages (from tslearn) (1.2.2)\n",
      "Requirement already satisfied: numba in /usr/local/lib/python3.10/dist-packages (from tslearn) (0.56.4)\n",
      "Requirement already satisfied: joblib in /usr/local/lib/python3.10/dist-packages (from tslearn) (1.3.2)\n",
      "Requirement already satisfied: llvmlite<0.40,>=0.39.0dev0 in /usr/local/lib/python3.10/dist-packages (from numba->tslearn) (0.39.1)\n",
      "Requirement already satisfied: setuptools in /usr/local/lib/python3.10/dist-packages (from numba->tslearn) (67.7.2)\n",
      "Requirement already satisfied: threadpoolctl>=2.0.0 in /usr/local/lib/python3.10/dist-packages (from scikit-learn->tslearn) (3.2.0)\n"
     ]
    }
   ],
   "source": [
    "pip install tslearn"
   ]
  },
  {
   "cell_type": "code",
   "execution_count": null,
   "metadata": {
    "colab": {
     "base_uri": "https://localhost:8080/"
    },
    "id": "UfR09WZpal4P",
    "outputId": "d151486c-a1c1-4da2-dcff-06723f316e65"
   },
   "outputs": [
    {
     "name": "stdout",
     "output_type": "stream",
     "text": [
      "(297, 24, 1)\n"
     ]
    }
   ],
   "source": [
    "from tslearn.utils import to_time_series_dataset\n",
    "\n",
    "formatted_dataset = to_time_series_dataset(final_seq)\n",
    "print(formatted_dataset.shape)"
   ]
  },
  {
   "cell_type": "code",
   "execution_count": null,
   "metadata": {
    "colab": {
     "base_uri": "https://localhost:8080/"
    },
    "id": "IdXREXI6qlp0",
    "outputId": "0a61fd04-44d2-4006-b105-316a94801fbc"
   },
   "outputs": [
    {
     "name": "stdout",
     "output_type": "stream",
     "text": [
      "(297, 24, 1)\n"
     ]
    }
   ],
   "source": [
    "print(formatted_dataset.shape)"
   ]
  },
  {
   "cell_type": "code",
   "execution_count": null,
   "metadata": {
    "colab": {
     "base_uri": "https://localhost:8080/"
    },
    "id": "vjaV8MQurYtV",
    "outputId": "601d9292-e6a6-49b9-fe2f-ae24910e63f1"
   },
   "outputs": [
    {
     "name": "stdout",
     "output_type": "stream",
     "text": [
      "<class 'numpy.ndarray'>\n"
     ]
    }
   ],
   "source": [
    "print(type(formatted_dataset))"
   ]
  },
  {
   "cell_type": "code",
   "execution_count": null,
   "metadata": {
    "id": "LIj2N5CZE24K"
   },
   "outputs": [],
   "source": [
    "import numpy as np"
   ]
  },
  {
   "cell_type": "code",
   "execution_count": null,
   "metadata": {
    "id": "v_FtfEtw_OV_"
   },
   "outputs": [],
   "source": [
    "y = np.array(['1'] * len(unique_dates))"
   ]
  },
  {
   "cell_type": "code",
   "execution_count": null,
   "metadata": {
    "colab": {
     "base_uri": "https://localhost:8080/"
    },
    "id": "2YvgvwQqFG9t",
    "outputId": "15014c62-bc50-4bda-c7c9-1b5433da48ab"
   },
   "outputs": [
    {
     "name": "stdout",
     "output_type": "stream",
     "text": [
      "['1' '1' '1' '1' '1' '1' '1' '1' '1' '1' '1' '1' '1' '1' '1' '1' '1' '1'\n",
      " '1' '1' '1' '1' '1' '1' '1' '1' '1' '1' '1' '1' '1' '1' '1' '1' '1' '1'\n",
      " '1' '1' '1' '1' '1' '1' '1' '1' '1' '1' '1' '1' '1' '1' '1' '1' '1' '1'\n",
      " '1' '1' '1' '1' '1' '1' '1' '1' '1' '1' '1' '1' '1' '1' '1' '1' '1' '1'\n",
      " '1' '1' '1' '1' '1' '1' '1' '1' '1' '1' '1' '1' '1' '1' '1' '1' '1' '1'\n",
      " '1' '1' '1' '1' '1' '1' '1' '1' '1' '1' '1' '1' '1' '1' '1' '1' '1' '1'\n",
      " '1' '1' '1' '1' '1' '1' '1' '1' '1' '1' '1' '1' '1' '1' '1' '1' '1' '1'\n",
      " '1' '1' '1' '1' '1' '1' '1' '1' '1' '1' '1' '1' '1' '1' '1' '1' '1' '1'\n",
      " '1' '1' '1' '1' '1' '1' '1' '1' '1' '1' '1' '1' '1' '1' '1' '1' '1' '1'\n",
      " '1' '1' '1' '1' '1' '1' '1' '1' '1' '1' '1' '1' '1' '1' '1' '1' '1' '1'\n",
      " '1' '1' '1' '1' '1' '1' '1' '1' '1' '1' '1' '1' '1' '1' '1' '1' '1' '1'\n",
      " '1' '1' '1' '1' '1' '1' '1' '1' '1' '1' '1' '1' '1' '1' '1' '1' '1' '1'\n",
      " '1' '1' '1' '1' '1' '1' '1' '1' '1' '1' '1' '1' '1' '1' '1' '1' '1' '1'\n",
      " '1' '1' '1' '1' '1' '1' '1' '1' '1' '1' '1' '1' '1' '1' '1' '1' '1' '1'\n",
      " '1' '1' '1' '1' '1' '1' '1' '1' '1' '1' '1' '1' '1' '1' '1' '1' '1' '1'\n",
      " '1' '1' '1' '1' '1' '1' '1' '1' '1' '1' '1' '1' '1' '1' '1' '1' '1' '1'\n",
      " '1' '1' '1' '1' '1' '1' '1' '1' '1']\n"
     ]
    }
   ],
   "source": [
    "print(y)"
   ]
  },
  {
   "cell_type": "code",
   "execution_count": null,
   "metadata": {
    "id": "PK5OlTDlFjKz"
   },
   "outputs": [],
   "source": [
    "print(y.shape)"
   ]
  },
  {
   "cell_type": "code",
   "execution_count": null,
   "metadata": {
    "id": "43sCyg0TFqP4"
   },
   "outputs": [],
   "source": [
    "reshaped_array = np.transpose(formatted_dataset, (0, 2, 1))"
   ]
  },
  {
   "cell_type": "code",
   "execution_count": null,
   "metadata": {
    "colab": {
     "base_uri": "https://localhost:8080/"
    },
    "id": "NQ9zD_PlFyGe",
    "outputId": "a99a8f80-6259-4cd1-9ba6-04542477fa32"
   },
   "outputs": [
    {
     "name": "stdout",
     "output_type": "stream",
     "text": [
      "(297, 1, 24)\n"
     ]
    }
   ],
   "source": [
    "print(reshaped_array.shape)"
   ]
  },
  {
   "cell_type": "code",
   "execution_count": null,
   "metadata": {
    "colab": {
     "base_uri": "https://localhost:8080/"
    },
    "id": "LmCSi5mSms4K",
    "outputId": "57d74b60-9cbc-4b46-dec6-b5e111e04e67"
   },
   "outputs": [
    {
     "name": "stdout",
     "output_type": "stream",
     "text": [
      "<class 'numpy.ndarray'>\n"
     ]
    }
   ],
   "source": [
    "print(type(reshaped_array))"
   ]
  },
  {
   "cell_type": "code",
   "execution_count": null,
   "metadata": {
    "colab": {
     "base_uri": "https://localhost:8080/"
    },
    "id": "DbjaZdVSGOJ2",
    "outputId": "065055fc-a9a5-4695-dc0e-3a3fc1ce2666"
   },
   "outputs": [
    {
     "name": "stdout",
     "output_type": "stream",
     "text": [
      "Collecting aeon\n",
      "  Downloading aeon-0.4.0-py3-none-any.whl (39.0 MB)\n",
      "\u001b[2K     \u001b[90m━━━━━━━━━━━━━━━━━━━━━━━━━━━━━━━━━━━━━━━━\u001b[0m \u001b[32m39.0/39.0 MB\u001b[0m \u001b[31m8.6 MB/s\u001b[0m eta \u001b[36m0:00:00\u001b[0m\n",
      "\u001b[?25hRequirement already satisfied: attrs>=19.2.0 in /usr/local/lib/python3.10/dist-packages (from aeon) (23.1.0)\n",
      "Requirement already satisfied: deprecated>=1.2.13 in /usr/local/lib/python3.10/dist-packages (from aeon) (1.2.14)\n",
      "Requirement already satisfied: numba>=0.55 in /usr/local/lib/python3.10/dist-packages (from aeon) (0.56.4)\n",
      "Requirement already satisfied: numpy<1.25.0,>=1.21.0 in /usr/local/lib/python3.10/dist-packages (from aeon) (1.23.5)\n",
      "Requirement already satisfied: packaging>=20.0 in /usr/local/lib/python3.10/dist-packages (from aeon) (23.1)\n",
      "Requirement already satisfied: pandas<2.1.0,>=1.5.3 in /usr/local/lib/python3.10/dist-packages (from aeon) (1.5.3)\n",
      "Requirement already satisfied: scikit-learn<1.3.0,>=1.0.0 in /usr/local/lib/python3.10/dist-packages (from aeon) (1.2.2)\n",
      "Requirement already satisfied: scipy<2.0.0,>=1.2.0 in /usr/local/lib/python3.10/dist-packages (from aeon) (1.10.1)\n",
      "Requirement already satisfied: wrapt<2,>=1.10 in /usr/local/lib/python3.10/dist-packages (from deprecated>=1.2.13->aeon) (1.14.1)\n",
      "Requirement already satisfied: llvmlite<0.40,>=0.39.0dev0 in /usr/local/lib/python3.10/dist-packages (from numba>=0.55->aeon) (0.39.1)\n",
      "Requirement already satisfied: setuptools in /usr/local/lib/python3.10/dist-packages (from numba>=0.55->aeon) (67.7.2)\n",
      "Requirement already satisfied: python-dateutil>=2.8.1 in /usr/local/lib/python3.10/dist-packages (from pandas<2.1.0,>=1.5.3->aeon) (2.8.2)\n",
      "Requirement already satisfied: pytz>=2020.1 in /usr/local/lib/python3.10/dist-packages (from pandas<2.1.0,>=1.5.3->aeon) (2023.3)\n",
      "Requirement already satisfied: joblib>=1.1.1 in /usr/local/lib/python3.10/dist-packages (from scikit-learn<1.3.0,>=1.0.0->aeon) (1.3.2)\n",
      "Requirement already satisfied: threadpoolctl>=2.0.0 in /usr/local/lib/python3.10/dist-packages (from scikit-learn<1.3.0,>=1.0.0->aeon) (3.2.0)\n",
      "Requirement already satisfied: six>=1.5 in /usr/local/lib/python3.10/dist-packages (from python-dateutil>=2.8.1->pandas<2.1.0,>=1.5.3->aeon) (1.16.0)\n",
      "Installing collected packages: aeon\n",
      "Successfully installed aeon-0.4.0\n"
     ]
    }
   ],
   "source": [
    "pip install aeon"
   ]
  },
  {
   "cell_type": "code",
   "execution_count": null,
   "metadata": {
    "id": "q_EZfOoSF8cA"
   },
   "outputs": [],
   "source": [
    "from aeon.datasets import write_to_tsfile"
   ]
  },
  {
   "cell_type": "code",
   "execution_count": null,
   "metadata": {
    "id": "2U-pvk7ZGYku"
   },
   "outputs": [],
   "source": [
    "write_to_tsfile(reshaped_array, \"/content/gdrive/MyDrive/IEEE/data\", y=y, problem_name='data1.ts', header=None, regression=False)"
   ]
  },
  {
   "cell_type": "code",
   "execution_count": null,
   "metadata": {
    "id": "DIXKZyX64tsy"
   },
   "outputs": [],
   "source": [
    "df=pd.read_csv(\"/content/gdrive/MyDrive/IEEE/data/merged_control/control_merged.csv\",header=0)\n",
    "unique_dates1=list(set(df['date']))\n",
    "# print(unique_dates1)"
   ]
  },
  {
   "cell_type": "code",
   "execution_count": null,
   "metadata": {
    "colab": {
     "base_uri": "https://localhost:8080/"
    },
    "id": "pliW6ZyA4ttC",
    "outputId": "3653f34c-ddc4-4dad-a1c3-06c273c23cf0"
   },
   "outputs": [
    {
     "name": "stdout",
     "output_type": "stream",
     "text": [
      "['2002-11-11', '2005-10-19', '2005-10-01', '2004-05-28', '2004-09-03', '2003-08-21', '2003-05-21', '2003-06-19', '2002-06-10', '2004-09-07', '2005-10-18', '2002-06-14', '2004-05-10', '2003-08-26', '2005-10-10', '2004-10-10', '2004-09-14', '2004-09-04', '2005-10-05', '2002-06-24', '2005-03-11', '2004-10-07', '2005-11-13', '2005-09-06', '2003-06-22', '2002-06-01', '2003-08-27', '2002-11-06', '2002-06-18', '2003-08-25', '2004-10-01', '2004-10-11', '2003-05-10', '2005-03-13', '2004-09-10', '2005-09-26', '2003-05-14', '2005-09-11', '2003-05-18', '2003-06-25', '2004-09-12', '2004-09-15', '2002-09-07', '2004-09-13', '2005-08-29', '2005-11-15', '2002-06-20', '2003-08-30', '2002-05-29', '2003-05-26', '2004-05-17', '2003-06-13', '2003-06-23', '2003-05-23', '2002-06-12', '2005-09-24', '2003-09-02', '2003-06-07', '2002-06-06', '2002-06-11', '2005-11-09', '2002-06-05', '2003-08-20', '2003-05-24', '2004-06-02', '2002-05-25', '2002-11-18', '2004-05-06', '2004-06-08', '2003-06-18', '2003-05-09', '2005-08-22', '2002-11-19', '2005-10-15', '2003-06-26', '2005-09-07', '2002-06-27', '2003-05-19', '2005-09-13', '2005-03-19', '2004-06-06', '2005-08-24', '2005-10-08', '2002-11-12', '2003-06-09', '2003-06-24', '2004-09-09', '2002-09-02', '2005-08-25', '2004-05-31', '2005-10-11', '2005-03-09', '2005-09-03', '2004-09-05', '2004-09-28', '2005-10-06', '2003-05-27', '2004-10-12', '2002-06-07', '2002-06-17', '2002-09-10', '2005-08-20', '2005-08-30', '2003-06-05', '2004-05-18', '2004-08-31', '2002-06-03', '2003-08-19', '2003-06-04', '2005-10-04', '2005-03-14', '2004-05-07', '2004-10-02', '2003-05-08', '2005-09-09', '2002-09-09', '2005-11-20', '2002-05-24', '2002-06-23', '2003-05-15', '2003-05-31', '2005-08-16', '2005-10-09', '2005-08-28', '2005-11-21', '2004-10-09', '2003-05-07', '2003-08-31', '2005-10-14', '2005-08-17', '2005-10-17', '2002-09-01', '2004-10-03', '2002-09-06', '2005-11-17', '2002-05-26', '2005-08-26', '2002-08-30', '2002-11-13', '2002-06-19', '2002-05-30', '2004-06-05', '2003-06-15', '2005-09-08', '2003-05-12', '2004-06-04', '2005-10-13', '2002-11-05', '2005-11-16', '2002-11-17', '2004-05-29', '2002-11-14', '2003-06-27', '2005-08-31', '2003-06-10', '2005-03-12', '2003-06-17', '2004-05-13', '2004-06-09', '2004-10-08', '2005-08-12', '2003-06-03', '2005-09-02', '2004-09-30', '2005-11-11', '2005-11-22', '2002-09-08', '2002-05-27', '2002-11-16', '2003-06-08', '2002-06-28', '2005-03-08', '2005-09-10', '2005-11-14', '2005-08-13', '2003-06-01', '2005-09-12', '2003-05-16', '2002-09-05', '2005-03-15', '2005-08-11', '2002-09-12', '2003-06-12', '2003-06-11', '2004-06-10', '2003-08-24', '2004-09-02', '2005-03-18', '2005-03-17', '2005-08-23', '2005-10-16', '2002-06-25', '2002-11-10', '2005-10-20', '2003-08-22', '2003-08-23', '2003-09-01', '2005-11-12', '2004-05-11', '2005-03-10', '2005-09-23', '2002-11-15', '2004-09-11', '2005-03-20', '2005-08-15', '2005-11-08', '2003-06-06', '2003-06-20', '2004-05-04', '2004-05-12', '2002-05-28', '2004-09-29', '2005-10-02', '2005-03-23', '2003-05-25', '2004-09-08', '2005-09-25', '2003-05-30', '2005-10-21', '2003-06-16', '2004-05-19', '2005-08-14', '2004-05-14', '2004-05-30', '2005-10-03', '2004-10-14', '2004-06-01', '2004-10-05', '2002-08-29', '2002-09-04', '2003-05-29', '2005-11-18', '2005-11-10', '2002-06-08', '2002-06-13', '2002-06-15', '2002-09-03', '2005-09-22', '2002-09-13', '2003-06-02', '2004-05-08', '2002-06-09', '2004-05-15', '2004-05-05', '2005-10-12', '2005-09-29', '2002-08-31', '2002-06-02', '2004-05-09', '2002-06-16', '2002-11-07', '2004-06-07', '2003-05-13', '2004-05-27', '2005-09-14', '2005-11-19', '2002-05-31', '2004-05-16', '2002-11-08', '2005-03-16', '2002-09-11', '2004-06-03', '2005-08-18', '2002-06-04', '2002-11-20', '2005-09-27', '2005-10-07', '2004-09-06', '2003-05-17', '2005-08-19', '2003-05-28', '2003-09-03', '2005-03-21', '2005-08-27', '2005-11-23', '2002-06-26', '2004-09-01', '2002-11-09', '2005-03-22', '2005-09-04', '2003-08-29', '2003-06-21', '2005-09-28', '2005-09-30', '2004-10-04', '2005-09-05', '2003-05-11', '2003-08-28', '2004-10-13', '2002-06-21', '2002-06-22', '2003-05-22', '2004-10-06', '2005-08-21', '2003-06-14', '2003-05-20', '2005-09-01']\n"
     ]
    }
   ],
   "source": [
    "print(unique_dates)"
   ]
  },
  {
   "cell_type": "code",
   "execution_count": null,
   "metadata": {
    "id": "4tq4HrGK4ttC"
   },
   "outputs": [],
   "source": [
    "sequences1=list()\n",
    "for i in range(0,len(unique_dates1)):\n",
    "  data1=df[df['date']==unique_dates1[i]]\n",
    "  values1=data1['Avg_activity'].values\n",
    "  sequences1.append(values1)\n"
   ]
  },
  {
   "cell_type": "code",
   "execution_count": null,
   "metadata": {
    "id": "hs-2CaUQ4ttC"
   },
   "outputs": [],
   "source": [
    "from keras.utils import pad_sequences\n",
    "\n",
    "seq_len = 24\n",
    "final_seq1=pad_sequences(sequences1, maxlen=seq_len, padding='post', dtype='float', truncating='post')"
   ]
  },
  {
   "cell_type": "code",
   "execution_count": null,
   "metadata": {
    "colab": {
     "base_uri": "https://localhost:8080/"
    },
    "id": "KDr41INK4ttC",
    "outputId": "faab4e8b-9f81-4856-e7f2-713218b45dcc"
   },
   "outputs": [
    {
     "name": "stdout",
     "output_type": "stream",
     "text": [
      "(332, 24)\n"
     ]
    }
   ],
   "source": [
    "print(final_seq1.shape)"
   ]
  },
  {
   "cell_type": "code",
   "execution_count": null,
   "metadata": {
    "colab": {
     "base_uri": "https://localhost:8080/"
    },
    "id": "syljqj8D4ttC",
    "outputId": "ec08f887-4200-4548-f44d-aca87db853ca"
   },
   "outputs": [
    {
     "name": "stdout",
     "output_type": "stream",
     "text": [
      "[[0.0000e+00 0.0000e+00 0.0000e+00 ... 0.0000e+00 0.0000e+00 0.0000e+00]\n",
      " [8.8250e+01 0.0000e+00 9.7700e+00 ... 5.3765e+02 1.6923e+02 3.0745e+02]\n",
      " [2.7000e+00 2.9500e+00 3.0000e+00 ... 0.0000e+00 5.0000e-02 6.0000e-01]\n",
      " ...\n",
      " [3.7813e+02 4.7770e+01 7.5500e+00 ... 3.8878e+02 8.0592e+02 7.0718e+02]\n",
      " [0.0000e+00 0.0000e+00 0.0000e+00 ... 4.0200e+00 3.0000e+00 3.0000e+00]\n",
      " [4.0500e+00 6.3620e+01 3.6500e+00 ... 2.5737e+02 1.8067e+02 3.8198e+02]]\n"
     ]
    }
   ],
   "source": [
    "print(final_seq1)"
   ]
  },
  {
   "cell_type": "code",
   "execution_count": null,
   "metadata": {
    "id": "TKY83vHI9N1R"
   },
   "outputs": [],
   "source": []
  },
  {
   "cell_type": "code",
   "execution_count": null,
   "metadata": {
    "colab": {
     "base_uri": "https://localhost:8080/"
    },
    "id": "QVSSu1wu9ODQ",
    "outputId": "8576de9e-f508-49cb-e302-5a4c6a0b4dd7"
   },
   "outputs": [
    {
     "name": "stdout",
     "output_type": "stream",
     "text": [
      "(332, 24, 1)\n"
     ]
    }
   ],
   "source": [
    "from tslearn.utils import to_time_series_dataset\n",
    "\n",
    "formatted_dataset1 = to_time_series_dataset(final_seq1)\n",
    "print(formatted_dataset1.shape)"
   ]
  },
  {
   "cell_type": "code",
   "execution_count": null,
   "metadata": {
    "colab": {
     "base_uri": "https://localhost:8080/"
    },
    "id": "6bNZpHqW9ODS",
    "outputId": "236374ee-6e71-46a3-81b1-b17c13451c44"
   },
   "outputs": [
    {
     "name": "stdout",
     "output_type": "stream",
     "text": [
      "(332, 24, 1)\n"
     ]
    }
   ],
   "source": [
    "print(formatted_dataset1.shape)"
   ]
  },
  {
   "cell_type": "code",
   "execution_count": null,
   "metadata": {
    "colab": {
     "base_uri": "https://localhost:8080/"
    },
    "id": "fV_L4yuD9ODS",
    "outputId": "6285294a-6425-4c30-e2f8-3006d93b218b"
   },
   "outputs": [
    {
     "name": "stdout",
     "output_type": "stream",
     "text": [
      "<class 'numpy.ndarray'>\n"
     ]
    }
   ],
   "source": [
    "print(type(formatted_dataset1))"
   ]
  },
  {
   "cell_type": "code",
   "execution_count": null,
   "metadata": {
    "id": "Y1m7BuHy9ODS"
   },
   "outputs": [],
   "source": [
    "import numpy as np"
   ]
  },
  {
   "cell_type": "code",
   "execution_count": null,
   "metadata": {
    "id": "t30eSSpF9ODT"
   },
   "outputs": [],
   "source": [
    "y1 = np.array(['0'] * len(unique_dates1))"
   ]
  },
  {
   "cell_type": "code",
   "execution_count": null,
   "metadata": {
    "colab": {
     "base_uri": "https://localhost:8080/"
    },
    "id": "XZPBfiNW9ODT",
    "outputId": "ab6f4369-1643-4c13-923c-cd4b294de4e3"
   },
   "outputs": [
    {
     "name": "stdout",
     "output_type": "stream",
     "text": [
      "['0' '0' '0' '0' '0' '0' '0' '0' '0' '0' '0' '0' '0' '0' '0' '0' '0' '0'\n",
      " '0' '0' '0' '0' '0' '0' '0' '0' '0' '0' '0' '0' '0' '0' '0' '0' '0' '0'\n",
      " '0' '0' '0' '0' '0' '0' '0' '0' '0' '0' '0' '0' '0' '0' '0' '0' '0' '0'\n",
      " '0' '0' '0' '0' '0' '0' '0' '0' '0' '0' '0' '0' '0' '0' '0' '0' '0' '0'\n",
      " '0' '0' '0' '0' '0' '0' '0' '0' '0' '0' '0' '0' '0' '0' '0' '0' '0' '0'\n",
      " '0' '0' '0' '0' '0' '0' '0' '0' '0' '0' '0' '0' '0' '0' '0' '0' '0' '0'\n",
      " '0' '0' '0' '0' '0' '0' '0' '0' '0' '0' '0' '0' '0' '0' '0' '0' '0' '0'\n",
      " '0' '0' '0' '0' '0' '0' '0' '0' '0' '0' '0' '0' '0' '0' '0' '0' '0' '0'\n",
      " '0' '0' '0' '0' '0' '0' '0' '0' '0' '0' '0' '0' '0' '0' '0' '0' '0' '0'\n",
      " '0' '0' '0' '0' '0' '0' '0' '0' '0' '0' '0' '0' '0' '0' '0' '0' '0' '0'\n",
      " '0' '0' '0' '0' '0' '0' '0' '0' '0' '0' '0' '0' '0' '0' '0' '0' '0' '0'\n",
      " '0' '0' '0' '0' '0' '0' '0' '0' '0' '0' '0' '0' '0' '0' '0' '0' '0' '0'\n",
      " '0' '0' '0' '0' '0' '0' '0' '0' '0' '0' '0' '0' '0' '0' '0' '0' '0' '0'\n",
      " '0' '0' '0' '0' '0' '0' '0' '0' '0' '0' '0' '0' '0' '0' '0' '0' '0' '0'\n",
      " '0' '0' '0' '0' '0' '0' '0' '0' '0' '0' '0' '0' '0' '0' '0' '0' '0' '0'\n",
      " '0' '0' '0' '0' '0' '0' '0' '0' '0' '0' '0' '0' '0' '0' '0' '0' '0' '0'\n",
      " '0' '0' '0' '0' '0' '0' '0' '0' '0' '0' '0' '0' '0' '0' '0' '0' '0' '0'\n",
      " '0' '0' '0' '0' '0' '0' '0' '0' '0' '0' '0' '0' '0' '0' '0' '0' '0' '0'\n",
      " '0' '0' '0' '0' '0' '0' '0' '0']\n"
     ]
    }
   ],
   "source": [
    "print(y1)"
   ]
  },
  {
   "cell_type": "code",
   "execution_count": null,
   "metadata": {
    "colab": {
     "base_uri": "https://localhost:8080/"
    },
    "id": "wY20F2ANDY00",
    "outputId": "0abbb57c-38ce-4e96-9157-172b8dc154f0"
   },
   "outputs": [
    {
     "name": "stdout",
     "output_type": "stream",
     "text": [
      "<class 'numpy.ndarray'>\n"
     ]
    }
   ],
   "source": [
    "print(type(y1))"
   ]
  },
  {
   "cell_type": "code",
   "execution_count": null,
   "metadata": {
    "colab": {
     "base_uri": "https://localhost:8080/"
    },
    "id": "PK4PH5vq9ZW_",
    "outputId": "1e2828e3-28e0-4e65-d0e4-ddc17766e76f"
   },
   "outputs": [
    {
     "name": "stdout",
     "output_type": "stream",
     "text": [
      "(332,)\n"
     ]
    }
   ],
   "source": [
    "print(y1.shape)"
   ]
  },
  {
   "cell_type": "code",
   "execution_count": null,
   "metadata": {
    "id": "CHa8K-Ch_V38"
   },
   "outputs": [],
   "source": [
    "reshaped_array1 = np.transpose(formatted_dataset1, (0, 2, 1))"
   ]
  },
  {
   "cell_type": "code",
   "execution_count": null,
   "metadata": {
    "colab": {
     "base_uri": "https://localhost:8080/"
    },
    "id": "criUgF4Y_V4J",
    "outputId": "ff3a0017-ad99-4bfe-a941-cf4615b4e41f"
   },
   "outputs": [
    {
     "name": "stdout",
     "output_type": "stream",
     "text": [
      "(332, 1, 24)\n"
     ]
    }
   ],
   "source": [
    "print(reshaped_array1.shape)"
   ]
  },
  {
   "cell_type": "code",
   "execution_count": null,
   "metadata": {
    "id": "cvtIwlVa_d5v"
   },
   "outputs": [],
   "source": [
    "write_to_tsfile(reshaped_array1, \"/content/gdrive/MyDrive/IEEE/data\", y=y1, problem_name='data2.ts', header=None, regression=False)"
   ]
  },
  {
   "cell_type": "code",
   "execution_count": null,
   "metadata": {
    "colab": {
     "base_uri": "https://localhost:8080/"
    },
    "id": "D3JQgYkbCtgl",
    "outputId": "1451d188-04f0-478e-ecc5-402a1ba1d515"
   },
   "outputs": [
    {
     "name": "stdout",
     "output_type": "stream",
     "text": [
      "[[[7.0870e+01 3.2500e+00 2.1720e+01 ... 2.4920e+02 6.0150e+01 1.9600e+01]]\n",
      "\n",
      " [[1.1500e+00 0.0000e+00 0.0000e+00 ... 2.1180e+01 4.3847e+02 3.3000e+00]]\n",
      "\n",
      " [[2.3293e+02 7.7930e+01 4.3200e+00 ... 1.2528e+02 7.1380e+01 1.8703e+02]]\n",
      "\n",
      " ...\n",
      "\n",
      " [[2.5552e+02 1.3497e+02 5.7020e+01 ... 3.9268e+02 1.4083e+02 1.9368e+02]]\n",
      "\n",
      " [[0.0000e+00 0.0000e+00 0.0000e+00 ... 2.8850e+01 3.2370e+01 7.8700e+01]]\n",
      "\n",
      " [[1.5000e+00 3.2000e-01 1.6432e+02 ... 0.0000e+00 2.9700e+00 0.0000e+00]]]\n"
     ]
    }
   ],
   "source": [
    "print(reshaped_array)"
   ]
  },
  {
   "cell_type": "code",
   "execution_count": null,
   "metadata": {
    "colab": {
     "base_uri": "https://localhost:8080/"
    },
    "id": "FN9zB_RaCkCr",
    "outputId": "17437ecb-aa00-4b59-f07b-5cda60c5f6a0"
   },
   "outputs": [
    {
     "name": "stdout",
     "output_type": "stream",
     "text": [
      "[[[ 70.87   3.25  21.72 ... 249.2   60.15  19.6 ]]\n",
      "\n",
      " [[  1.15   0.     0.   ...  21.18 438.47   3.3 ]]\n",
      "\n",
      " [[232.93  77.93   4.32 ... 125.28  71.38 187.03]]\n",
      "\n",
      " ...\n",
      "\n",
      " [[378.13  47.77   7.55 ... 388.78 805.92 707.18]]\n",
      "\n",
      " [[  0.     0.     0.   ...   4.02   3.     3.  ]]\n",
      "\n",
      " [[  4.05  63.62   3.65 ... 257.37 180.67 381.98]]]\n"
     ]
    }
   ],
   "source": [
    "# arr1 = np.array([[4,5], [3, 3]])\n",
    "# arr2 = np.array([[3,4]])\n",
    "conc_arr = np.concatenate((reshaped_array, reshaped_array1), axis=0)\n",
    "print(conc_arr)\n",
    "# conc2_arr = np.concatenate((arr1,arr2.T), axis=1)\n",
    "# print(conc2_arr)\n"
   ]
  },
  {
   "cell_type": "code",
   "execution_count": null,
   "metadata": {
    "colab": {
     "base_uri": "https://localhost:8080/"
    },
    "id": "uv_Pc2XBDFKt",
    "outputId": "0e8c6b24-9d8d-4b45-bd01-26abc55fda94"
   },
   "outputs": [
    {
     "name": "stdout",
     "output_type": "stream",
     "text": [
      "(629, 1, 24)\n"
     ]
    }
   ],
   "source": [
    "print(conc_arr.shape)"
   ]
  },
  {
   "cell_type": "code",
   "execution_count": null,
   "metadata": {
    "colab": {
     "base_uri": "https://localhost:8080/"
    },
    "id": "4RGvT0CmDeSD",
    "outputId": "172cc86c-71d9-4210-fcfd-2abfb4e9e889"
   },
   "outputs": [
    {
     "name": "stdout",
     "output_type": "stream",
     "text": [
      "['1' '1' '1' '1' '1' '1' '1' '1' '1' '1' '1' '1' '1' '1' '1' '1' '1' '1'\n",
      " '1' '1' '1' '1' '1' '1' '1' '1' '1' '1' '1' '1' '1' '1' '1' '1' '1' '1'\n",
      " '1' '1' '1' '1' '1' '1' '1' '1' '1' '1' '1' '1' '1' '1' '1' '1' '1' '1'\n",
      " '1' '1' '1' '1' '1' '1' '1' '1' '1' '1' '1' '1' '1' '1' '1' '1' '1' '1'\n",
      " '1' '1' '1' '1' '1' '1' '1' '1' '1' '1' '1' '1' '1' '1' '1' '1' '1' '1'\n",
      " '1' '1' '1' '1' '1' '1' '1' '1' '1' '1' '1' '1' '1' '1' '1' '1' '1' '1'\n",
      " '1' '1' '1' '1' '1' '1' '1' '1' '1' '1' '1' '1' '1' '1' '1' '1' '1' '1'\n",
      " '1' '1' '1' '1' '1' '1' '1' '1' '1' '1' '1' '1' '1' '1' '1' '1' '1' '1'\n",
      " '1' '1' '1' '1' '1' '1' '1' '1' '1' '1' '1' '1' '1' '1' '1' '1' '1' '1'\n",
      " '1' '1' '1' '1' '1' '1' '1' '1' '1' '1' '1' '1' '1' '1' '1' '1' '1' '1'\n",
      " '1' '1' '1' '1' '1' '1' '1' '1' '1' '1' '1' '1' '1' '1' '1' '1' '1' '1'\n",
      " '1' '1' '1' '1' '1' '1' '1' '1' '1' '1' '1' '1' '1' '1' '1' '1' '1' '1'\n",
      " '1' '1' '1' '1' '1' '1' '1' '1' '1' '1' '1' '1' '1' '1' '1' '1' '1' '1'\n",
      " '1' '1' '1' '1' '1' '1' '1' '1' '1' '1' '1' '1' '1' '1' '1' '1' '1' '1'\n",
      " '1' '1' '1' '1' '1' '1' '1' '1' '1' '1' '1' '1' '1' '1' '1' '1' '1' '1'\n",
      " '1' '1' '1' '1' '1' '1' '1' '1' '1' '1' '1' '1' '1' '1' '1' '1' '1' '1'\n",
      " '1' '1' '1' '1' '1' '1' '1' '1' '1' '0' '0' '0' '0' '0' '0' '0' '0' '0'\n",
      " '0' '0' '0' '0' '0' '0' '0' '0' '0' '0' '0' '0' '0' '0' '0' '0' '0' '0'\n",
      " '0' '0' '0' '0' '0' '0' '0' '0' '0' '0' '0' '0' '0' '0' '0' '0' '0' '0'\n",
      " '0' '0' '0' '0' '0' '0' '0' '0' '0' '0' '0' '0' '0' '0' '0' '0' '0' '0'\n",
      " '0' '0' '0' '0' '0' '0' '0' '0' '0' '0' '0' '0' '0' '0' '0' '0' '0' '0'\n",
      " '0' '0' '0' '0' '0' '0' '0' '0' '0' '0' '0' '0' '0' '0' '0' '0' '0' '0'\n",
      " '0' '0' '0' '0' '0' '0' '0' '0' '0' '0' '0' '0' '0' '0' '0' '0' '0' '0'\n",
      " '0' '0' '0' '0' '0' '0' '0' '0' '0' '0' '0' '0' '0' '0' '0' '0' '0' '0'\n",
      " '0' '0' '0' '0' '0' '0' '0' '0' '0' '0' '0' '0' '0' '0' '0' '0' '0' '0'\n",
      " '0' '0' '0' '0' '0' '0' '0' '0' '0' '0' '0' '0' '0' '0' '0' '0' '0' '0'\n",
      " '0' '0' '0' '0' '0' '0' '0' '0' '0' '0' '0' '0' '0' '0' '0' '0' '0' '0'\n",
      " '0' '0' '0' '0' '0' '0' '0' '0' '0' '0' '0' '0' '0' '0' '0' '0' '0' '0'\n",
      " '0' '0' '0' '0' '0' '0' '0' '0' '0' '0' '0' '0' '0' '0' '0' '0' '0' '0'\n",
      " '0' '0' '0' '0' '0' '0' '0' '0' '0' '0' '0' '0' '0' '0' '0' '0' '0' '0'\n",
      " '0' '0' '0' '0' '0' '0' '0' '0' '0' '0' '0' '0' '0' '0' '0' '0' '0' '0'\n",
      " '0' '0' '0' '0' '0' '0' '0' '0' '0' '0' '0' '0' '0' '0' '0' '0' '0' '0'\n",
      " '0' '0' '0' '0' '0' '0' '0' '0' '0' '0' '0' '0' '0' '0' '0' '0' '0' '0'\n",
      " '0' '0' '0' '0' '0' '0' '0' '0' '0' '0' '0' '0' '0' '0' '0' '0' '0' '0'\n",
      " '0' '0' '0' '0' '0' '0' '0' '0' '0' '0' '0' '0' '0' '0' '0' '0' '0']\n"
     ]
    }
   ],
   "source": [
    "conc_y = np.concatenate((y, y1), axis=0)\n",
    "print(conc_y)"
   ]
  },
  {
   "cell_type": "code",
   "execution_count": null,
   "metadata": {
    "colab": {
     "base_uri": "https://localhost:8080/"
    },
    "id": "pHLlIBVMDomc",
    "outputId": "7499c3f3-7352-4246-8030-be658b9a9f91"
   },
   "outputs": [
    {
     "name": "stdout",
     "output_type": "stream",
     "text": [
      "(629,)\n"
     ]
    }
   ],
   "source": [
    "print(conc_y.shape)"
   ]
  },
  {
   "cell_type": "code",
   "execution_count": null,
   "metadata": {
    "id": "jIuoEuosECtv"
   },
   "outputs": [],
   "source": [
    "write_to_tsfile(conc_arr, \"/content/gdrive/MyDrive/IEEE/data\", y=conc_y, problem_name='data_final.ts', header=None, regression=False)"
   ]
  }
 ],
 "metadata": {
  "colab": {
   "provenance": []
  },
  "kernelspec": {
   "display_name": "Python 3 (ipykernel)",
   "language": "python",
   "name": "python3"
  },
  "language_info": {
   "codemirror_mode": {
    "name": "ipython",
    "version": 3
   },
   "file_extension": ".py",
   "mimetype": "text/x-python",
   "name": "python",
   "nbconvert_exporter": "python",
   "pygments_lexer": "ipython3",
   "version": "3.11.3"
  }
 },
 "nbformat": 4,
 "nbformat_minor": 1
}
