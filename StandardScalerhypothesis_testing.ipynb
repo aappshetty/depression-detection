{
  "nbformat": 4,
  "nbformat_minor": 0,
  "metadata": {
    "colab": {
      "provenance": []
    },
    "kernelspec": {
      "name": "python3",
      "display_name": "Python 3"
    },
    "language_info": {
      "name": "python"
    }
  },
  "cells": [
    {
      "cell_type": "code",
      "execution_count": 14,
      "metadata": {
        "id": "lTvOgmGjPQLv"
      },
      "outputs": [],
      "source": [
        "import pandas as pd\n",
        "import numpy as np\n",
        "import scipy.stats as stats\n",
        "import matplotlib.pyplot as plt"
      ]
    },
    {
      "cell_type": "code",
      "source": [
        "df_condtn=pd.read_csv('/content/condtn_merged.csv',index_col=[0])\n",
        "df1 = pd.DataFrame(df_condtn['Avg_activity'])\n",
        "fig, axs = plt.subplots(nrows=1, ncols=2)\n",
        "from sklearn.preprocessing import StandardScaler\n",
        "sc = StandardScaler()\n",
        "df1 = sc.fit_transform(df1)\n",
        "df1= sc.transform(df1 )\n",
        "df_condtn['Avg_activity']=df1\n",
        "# axs[0].hist(df1, edgecolor='black')\n",
        "\n",
        "# df1=np.log(df1)\n",
        "# df_condtn['Avg_activity']=df1\n",
        "# df_condtn\n"
      ],
      "metadata": {
        "colab": {
          "base_uri": "https://localhost:8080/",
          "height": 471
        },
        "id": "YVjBW6IURAfd",
        "outputId": "3f9df31d-54e8-464b-db45-19246217f207"
      },
      "execution_count": 15,
      "outputs": [
        {
          "output_type": "stream",
          "name": "stderr",
          "text": [
            "/usr/local/lib/python3.10/dist-packages/sklearn/base.py:439: UserWarning: X does not have valid feature names, but StandardScaler was fitted with feature names\n",
            "  warnings.warn(\n"
          ]
        },
        {
          "output_type": "display_data",
          "data": {
            "text/plain": [
              "<Figure size 640x480 with 2 Axes>"
            ],
            "image/png": "[encoded data removed]"
          },
          "metadata": {}
        }
      ]
    },
    {
      "cell_type": "code",
      "source": [
        "df_control=pd.read_csv('/content/control_merged.csv',index_col=[0])\n",
        "df2 = pd.DataFrame(df_control['Avg_activity'])\n",
        "from sklearn.preprocessing import StandardScaler\n",
        "sc_h = StandardScaler()\n",
        "df2 = sc_h.fit_transform(df2)\n",
        "df2 = sc_h.transform(df2 )\n",
        "\n",
        "df_control['Avg_activity']=df2\n",
        "plt.bar(df_control['Avg_activity'],df_control['hour'], color ='maroon',\n",
        "        width = 0.7)\n"
      ],
      "metadata": {
        "colab": {
          "base_uri": "https://localhost:8080/",
          "height": 484
        },
        "id": "FNiKZBJsRJV1",
        "outputId": "ffaad88d-9480-4efe-aff0-77df8ad6a301"
      },
      "execution_count": 16,
      "outputs": [
        {
          "output_type": "stream",
          "name": "stderr",
          "text": [
            "/usr/local/lib/python3.10/dist-packages/sklearn/base.py:439: UserWarning: X does not have valid feature names, but StandardScaler was fitted with feature names\n",
            "  warnings.warn(\n"
          ]
        },
        {
          "output_type": "execute_result",
          "data": {
            "text/plain": [
              "<BarContainer object of 17016 artists>"
            ]
          },
          "metadata": {},
          "execution_count": 16
        },
        {
          "output_type": "display_data",
          "data": {
            "text/plain": [
              "<Figure size 640x480 with 1 Axes>"
            ],
            "image/png": "[encoded data removed]"
          },
          "metadata": {}
        }
      ]
    },
    {
      "cell_type": "code",
      "source": [
        "df_control\n",
        "f=pd.DataFrame(df_control['Avg_activity'])\n",
        "# axs[1].hist(f,edgecolor='black')"
      ],
      "metadata": {
        "id": "-dFdC3G3xQa1"
      },
      "execution_count": 17,
      "outputs": []
    },
    {
      "cell_type": "code",
      "source": [
        "condtn_avg=df_condtn.Avg_activity\n",
        "condtn_avg=np.array(condtn_avg)\n",
        "print(condtn_avg)"
      ],
      "metadata": {
        "colab": {
          "base_uri": "https://localhost:8080/"
        },
        "id": "QwyN33Z2RKqu",
        "outputId": "11a5e609-9576-4618-ce56-8d4b2958db42"
      },
      "execution_count": 18,
      "outputs": [
        {
          "output_type": "stream",
          "name": "stdout",
          "text": [
            "[-0.74436173 -0.74566942 -0.74578314 ... -0.75167343 -0.75167343\n",
            " -0.74804955]\n"
          ]
        }
      ]
    },
    {
      "cell_type": "code",
      "source": [
        "control_avg=df_control.Avg_activity\n",
        "control_avg=np.array(control_avg)\n",
        "print(control_avg)"
      ],
      "metadata": {
        "colab": {
          "base_uri": "https://localhost:8080/"
        },
        "id": "CCVWH1TWRNmf",
        "outputId": "3d99f61a-ada9-4e47-a5cc-513844c17ab4"
      },
      "execution_count": 19,
      "outputs": [
        {
          "output_type": "stream",
          "name": "stdout",
          "text": [
            "[-0.71762165 -0.71605492 -0.70386878 ... -0.71981886 -0.719868\n",
            " -0.71983988]\n"
          ]
        }
      ]
    },
    {
      "cell_type": "code",
      "source": [
        "n1 = len(condtn_avg)\n",
        "n2 = len(control_avg)"
      ],
      "metadata": {
        "id": "UUiZBhLRRQyY"
      },
      "execution_count": 20,
      "outputs": []
    },
    {
      "cell_type": "code",
      "source": [
        "normalized_condtn=condtn_avg\n",
        "normalized_control=control_avg\n"
      ],
      "metadata": {
        "id": "9FTxOONcRSTe"
      },
      "execution_count": 21,
      "outputs": []
    },
    {
      "cell_type": "code",
      "source": [
        "x1_bar = np.mean(normalized_condtn)\n",
        "x2_bar = np.mean(normalized_control)"
      ],
      "metadata": {
        "id": "1DtRifo7RVR3"
      },
      "execution_count": 22,
      "outputs": []
    },
    {
      "cell_type": "code",
      "source": [
        "s1 = np.std(condtn_avg, ddof=1)\n",
        "s2 = np.std(control_avg, ddof=1)"
      ],
      "metadata": {
        "id": "wa-qprAWRXra"
      },
      "execution_count": 23,
      "outputs": []
    },
    {
      "cell_type": "code",
      "source": [
        "print(\"Basic Statistics from the data\")\n",
        "print(\"Number of condition sample:\", n1, \"Number of control sample:\", n2)\n",
        "print(\"condition mean:\", x1_bar, \"control mean:\", x2_bar)\n",
        "print(\"condtn_std:\", s1, \"control_std:\", s2)"
      ],
      "metadata": {
        "colab": {
          "base_uri": "https://localhost:8080/"
        },
        "id": "LiOjDRx3RZ_x",
        "outputId": "4752bd08-ba76-436c-d52b-f4169fd5aded"
      },
      "execution_count": 24,
      "outputs": [
        {
          "output_type": "stream",
          "name": "stdout",
          "text": [
            "Basic Statistics from the data\n",
            "Number of condition sample: 9214 Number of control sample: 17016\n",
            "condition mean: -0.748236546171556 control mean: -0.7171595760785524\n",
            "condtn_std: 0.004593563907773416 control_std: 0.0038076442651016206\n"
          ]
        }
      ]
    },
    {
      "cell_type": "code",
      "source": [
        "def ztest_ind(X1, X2, mudiff, std_dev_1, std_dev_2, n1, n2):\n",
        "    from numpy import sqrt, abs, round\n",
        "    from scipy.stats import norm\n",
        "    pooled_SE = sqrt(std_dev_1**2/n1 + std_dev_2**2/n2)\n",
        "    z = ((X1 - X2) - mudiff)/pooled_SE\n",
        "    if (z<0):\n",
        "        p=stats.norm.cdf(z)\n",
        "    else:\n",
        "        p=1-stats.norm.cdf(z)\n",
        "\n",
        "    pval = 2*p\n",
        "    return round(z, 3), round(pval, 20)\n"
      ],
      "metadata": {
        "id": "aKCuBhg8RcKA"
      },
      "execution_count": 25,
      "outputs": []
    },
    {
      "cell_type": "code",
      "source": [
        "z_statistics, p_value = ztest_ind(x1_bar,x2_bar, 0, s1, s2, n1, n2)\n",
        "print(\"Z-statistics: \", z_statistics)\n",
        "print(\"P-value: \", p_value)\n"
      ],
      "metadata": {
        "colab": {
          "base_uri": "https://localhost:8080/"
        },
        "id": "sNrD41esRewB",
        "outputId": "83fc7a07-152b-45f0-dd0c-984555a787b1"
      },
      "execution_count": 26,
      "outputs": [
        {
          "output_type": "stream",
          "name": "stdout",
          "text": [
            "Z-statistics:  -554.406\n",
            "P-value:  0.0\n"
          ]
        }
      ]
    }
  ]
}