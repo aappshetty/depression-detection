{
 "cells": [
  {
   "cell_type": "code",
   "execution_count": 9,
   "id": "d62c2a71",
   "metadata": {},
   "outputs": [],
   "source": [
    "import os,sys\n",
    "import pandas as pd\n",
    "import numpy as np\n",
    "import datetime\n",
    "import warnings\n",
    "warnings.filterwarnings(\"ignore\")\n",
    "from matplotlib import pyplot as plt\n",
    "\n",
    "base_dir = '/Users/ananyahegde/Desktop/IEEE/data/condition'\n",
    "file_list = os.listdir(base_dir)\n",
    "for file in file_list:    \n",
    "   \n",
    "        df=pd.read_csv('/Users/ananyahegde/Desktop/IEEE/data/condition/'+file)\n",
    "        df.head()\n",
    "        df.timestamp = df.timestamp.str.split(' ', expand=True)[[1]]\n",
    "        df\n",
    "        #hourly:\n",
    "        df['hour'] = df.timestamp.str.split(':', expand=True)[[0]]\n",
    "        df['hour']\n",
    "        \n",
    "        ab = df.groupby(['date', 'hour'])['activity'].mean()\n",
    "        df_agg = pd.DataFrame(columns=('date','hour','Avg_activity'))  #to create an empty dataframe\n",
    "        for i in range(0,len(ab)):\n",
    "            df_agg=df_agg.append({'date':ab.index[i][0],'hour': ab.index[i][1],'Avg_activity': round(ab[i],2)},ignore_index=True)\n",
    "        \n",
    "        df_agg\n",
    "        df_agg.to_csv(\"/Users/ananyahegde/Desktop/IEEE/data/condition_new/\"+os.path.splitext(file)[0]+'_new.csv', index=False)"
   ]
  },
  {
   "cell_type": "code",
   "execution_count": null,
   "id": "b527c94d",
   "metadata": {},
   "outputs": [],
   "source": []
  }
 ],
 "metadata": {
  "kernelspec": {
   "display_name": "Python 3 (ipykernel)",
   "language": "python",
   "name": "python3"
  },
  "language_info": {
   "codemirror_mode": {
    "name": "ipython",
    "version": 3
   },
   "file_extension": ".py",
   "mimetype": "text/x-python",
   "name": "python",
   "nbconvert_exporter": "python",
   "pygments_lexer": "ipython3",
   "version": "3.9.12"
  }
 },
 "nbformat": 4,
 "nbformat_minor": 5
}
