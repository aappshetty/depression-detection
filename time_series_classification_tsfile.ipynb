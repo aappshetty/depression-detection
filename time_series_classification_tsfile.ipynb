{
 "cells": [
  {
   "cell_type": "code",
   "execution_count": 4,
   "metadata": {
    "colab": {
     "base_uri": "https://localhost:8080/"
    },
    "id": "hyBfTrV30cPA",
    "outputId": "2cd0c152-8f4f-476e-ee78-7a411964e7ce"
   },
   "outputs": [
    {
     "ename": "ModuleNotFoundError",
     "evalue": "No module named 'google.colab'",
     "output_type": "error",
     "traceback": [
      "\u001b[1;31m---------------------------------------------------------------------------\u001b[0m",
      "\u001b[1;31mModuleNotFoundError\u001b[0m                       Traceback (most recent call last)",
      "Cell \u001b[1;32mIn[4], line 1\u001b[0m\n\u001b[1;32m----> 1\u001b[0m \u001b[38;5;28;01mfrom\u001b[39;00m \u001b[38;5;21;01mgoogle\u001b[39;00m\u001b[38;5;21;01m.\u001b[39;00m\u001b[38;5;21;01mcolab\u001b[39;00m \u001b[38;5;28;01mimport\u001b[39;00m drive\n\u001b[0;32m      2\u001b[0m drive\u001b[38;5;241m.\u001b[39mmount(\u001b[38;5;124m'\u001b[39m\u001b[38;5;124m/content/gdrive\u001b[39m\u001b[38;5;124m'\u001b[39m)\n",
      "\u001b[1;31mModuleNotFoundError\u001b[0m: No module named 'google.colab'"
     ]
    }
   ],
   "source": [
    "from google.colab import drive\n",
    "drive.mount('/content/gdrive')"
   ]
  },
  {
   "cell_type": "code",
   "execution_count": 4,
   "metadata": {
    "colab": {
     "base_uri": "https://localhost:8080/"
    },
    "id": "P8XCmWGw0k6j",
    "outputId": "7338ab17-e91e-4d5c-e52c-7eb106f80598"
   },
   "outputs": [
    {
     "name": "stdout",
     "output_type": "stream",
     "text": [
      "Requirement already satisfied: sktime in c:\\users\\pradeep shetty\\anaconda3\\lib\\site-packages (0.21.0)\n",
      "Requirement already satisfied: deprecated>=1.2.13 in c:\\users\\pradeep shetty\\anaconda3\\lib\\site-packages (from sktime) (1.2.14)\n",
      "Requirement already satisfied: numpy<1.26,>=1.21.0 in c:\\users\\pradeep shetty\\anaconda3\\lib\\site-packages (from sktime) (1.24.3)\n",
      "Requirement already satisfied: pandas<2.1.0,>=1.1.0 in c:\\users\\pradeep shetty\\anaconda3\\lib\\site-packages (from sktime) (1.5.3)\n",
      "Requirement already satisfied: packaging in c:\\users\\pradeep shetty\\anaconda3\\lib\\site-packages (from sktime) (23.0)\n",
      "Requirement already satisfied: scikit-base<0.6.0 in c:\\users\\pradeep shetty\\anaconda3\\lib\\site-packages (from sktime) (0.5.0)\n",
      "Requirement already satisfied: scikit-learn<1.4.0,>=0.24.0 in c:\\users\\pradeep shetty\\anaconda3\\lib\\site-packages (from sktime) (1.2.2)\n",
      "Requirement already satisfied: scipy<2.0.0,>=1.2.0 in c:\\users\\pradeep shetty\\anaconda3\\lib\\site-packages (from sktime) (1.10.1)\n",
      "Requirement already satisfied: wrapt<2,>=1.10 in c:\\users\\pradeep shetty\\anaconda3\\lib\\site-packages (from deprecated>=1.2.13->sktime) (1.14.1)\n",
      "Requirement already satisfied: python-dateutil>=2.8.1 in c:\\users\\pradeep shetty\\anaconda3\\lib\\site-packages (from pandas<2.1.0,>=1.1.0->sktime) (2.8.2)\n",
      "Requirement already satisfied: pytz>=2020.1 in c:\\users\\pradeep shetty\\anaconda3\\lib\\site-packages (from pandas<2.1.0,>=1.1.0->sktime) (2022.7)\n",
      "Requirement already satisfied: joblib>=1.1.1 in c:\\users\\pradeep shetty\\anaconda3\\lib\\site-packages (from scikit-learn<1.4.0,>=0.24.0->sktime) (1.2.0)\n",
      "Requirement already satisfied: threadpoolctl>=2.0.0 in c:\\users\\pradeep shetty\\anaconda3\\lib\\site-packages (from scikit-learn<1.4.0,>=0.24.0->sktime) (2.2.0)\n",
      "Requirement already satisfied: six>=1.5 in c:\\users\\pradeep shetty\\anaconda3\\lib\\site-packages (from python-dateutil>=2.8.1->pandas<2.1.0,>=1.1.0->sktime) (1.16.0)\n",
      "Note: you may need to restart the kernel to use updated packages.\n"
     ]
    }
   ],
   "source": [
    "pip install sktime"
   ]
  },
  {
   "cell_type": "code",
   "execution_count": 5,
   "metadata": {
    "id": "XbiiFphD0Qds"
   },
   "outputs": [],
   "source": [
    "import os\n",
    "import sktime\n",
    "from sktime.datasets import load_from_tsfile"
   ]
  },
  {
   "cell_type": "code",
   "execution_count": 6,
   "metadata": {
    "id": "kuo-Qq0_0twq"
   },
   "outputs": [],
   "source": [
    "X, y = load_from_tsfile('/Users/PRADEEP SHETTY/Desktop/IEEE internship/data_final.ts',return_data_type=\"numpy3d\")"
   ]
  },
  {
   "cell_type": "code",
   "execution_count": 8,
   "metadata": {
    "colab": {
     "base_uri": "https://localhost:8080/"
    },
    "id": "bvlWcNPo1XNv",
    "outputId": "c4094bf5-0926-4d44-9418-c07667ef372d"
   },
   "outputs": [
    {
     "name": "stdout",
     "output_type": "stream",
     "text": [
      "(629, 1, 24)\n"
     ]
    }
   ],
   "source": [
    "print(X.shape)"
   ]
  },
  {
   "cell_type": "code",
   "execution_count": 9,
   "metadata": {
    "colab": {
     "base_uri": "https://localhost:8080/"
    },
    "id": "epCJZGFm1yu0",
    "outputId": "aa5313a8-6165-49ef-f3df-685c14849ac8"
   },
   "outputs": [
    {
     "name": "stdout",
     "output_type": "stream",
     "text": [
      "[[[  3.17   3.     3.2  ...   3.     4.47  83.45]]\n",
      "\n",
      " [[  0.     0.     0.   ...   0.     0.     0.  ]]\n",
      "\n",
      " [[ 68.75  24.15  34.22 ...  41.43  75.58  45.27]]\n",
      "\n",
      " ...\n",
      "\n",
      " [[  0.     0.     0.   ...   0.     0.     0.  ]]\n",
      "\n",
      " [[ 25.3   16.17   1.75 ... 189.75 723.52 344.92]]\n",
      "\n",
      " [[341.02 255.58 506.85 ...   0.     0.     0.  ]]]\n"
     ]
    }
   ],
   "source": [
    "print(X)"
   ]
  },
  {
   "cell_type": "code",
   "execution_count": 10,
   "metadata": {
    "colab": {
     "base_uri": "https://localhost:8080/"
    },
    "id": "qMmx41m9cXhy",
    "outputId": "f84eb3a4-81df-4a15-e9c8-9dd0a948a838"
   },
   "outputs": [
    {
     "name": "stdout",
     "output_type": "stream",
     "text": [
      "[[3.   3.   3.   3.   3.   3.   3.   3.   3.   3.   3.   3.   3.   3.\n",
      "  3.   3.   2.08 0.   0.   0.   0.05 1.   2.9  3.  ]]\n"
     ]
    }
   ],
   "source": [
    "print(X[298])"
   ]
  },
  {
   "cell_type": "code",
   "execution_count": 11,
   "metadata": {
    "colab": {
     "base_uri": "https://localhost:8080/"
    },
    "id": "p5HtS0JtWGn6",
    "outputId": "303a11ba-7cac-4796-9e59-9afb2a35ba2c"
   },
   "outputs": [
    {
     "name": "stdout",
     "output_type": "stream",
     "text": [
      "(629, 1, 24)\n"
     ]
    }
   ],
   "source": [
    "print(X.shape)"
   ]
  },
  {
   "cell_type": "code",
   "execution_count": 12,
   "metadata": {
    "colab": {
     "base_uri": "https://localhost:8080/"
    },
    "id": "TrvOSAqXW9sy",
    "outputId": "0d22e5ce-9679-4ae7-c4cb-bbe3a1454eaf"
   },
   "outputs": [
    {
     "name": "stdout",
     "output_type": "stream",
     "text": [
      "Original array:\n",
      " (629, 1, 24)\n",
      "Reshaped array:\n",
      " (629, 24)\n"
     ]
    }
   ],
   "source": [
    "X1= X.reshape(X.shape[0], (X.shape[1]*X.shape[2]))\n",
    "print(\"Original array:\\n\",X.shape )\n",
    "print(\"Reshaped array:\\n\",X1.shape)"
   ]
  },
  {
   "cell_type": "code",
   "execution_count": 13,
   "metadata": {
    "colab": {
     "base_uri": "https://localhost:8080/"
    },
    "id": "2oPOSo7dYMyf",
    "outputId": "62252905-aa01-4f30-b7e7-566e6f18d980"
   },
   "outputs": [
    {
     "name": "stdout",
     "output_type": "stream",
     "text": [
      "[[  3.17   3.     3.2  ...   3.     4.47  83.45]\n",
      " [  0.     0.     0.   ...   0.     0.     0.  ]\n",
      " [ 68.75  24.15  34.22 ...  41.43  75.58  45.27]\n",
      " ...\n",
      " [  0.     0.     0.   ...   0.     0.     0.  ]\n",
      " [ 25.3   16.17   1.75 ... 189.75 723.52 344.92]\n",
      " [341.02 255.58 506.85 ...   0.     0.     0.  ]]\n"
     ]
    }
   ],
   "source": [
    "print(X1)"
   ]
  },
  {
   "cell_type": "code",
   "execution_count": 14,
   "metadata": {
    "colab": {
     "base_uri": "https://localhost:8080/"
    },
    "id": "F4V2DtBP129l",
    "outputId": "685da363-56e0-44ba-f05b-61e6922e0913"
   },
   "outputs": [
    {
     "name": "stdout",
     "output_type": "stream",
     "text": [
      "0\n"
     ]
    }
   ],
   "source": [
    "print(y[298])"
   ]
  },
  {
   "cell_type": "code",
   "execution_count": 15,
   "metadata": {
    "id": "7M7xGHA92GzE"
   },
   "outputs": [],
   "source": [
    "from sklearn.model_selection import train_test_split\n",
    "\n",
    "X_train, X_test, y_train, y_test = train_test_split(X, y,random_state=42)"
   ]
  },
  {
   "cell_type": "code",
   "execution_count": 16,
   "metadata": {
    "colab": {
     "base_uri": "https://localhost:8080/"
    },
    "id": "-jxZHEsC2Lgr",
    "outputId": "575b3883-a63e-43ab-a998-b0323d095b8d"
   },
   "outputs": [
    {
     "name": "stdout",
     "output_type": "stream",
     "text": [
      "[[[2.3600e+01 7.0300e+00 5.2500e+00 ... 4.4800e+01 6.4193e+02 4.1742e+02]]\n",
      "\n",
      " [[1.6370e+01 5.3700e+00 1.1300e+00 ... 3.3007e+02 2.5835e+02 3.5072e+02]]\n",
      "\n",
      " [[1.0700e+00 9.6700e+00 5.3700e+00 ... 1.3492e+02 1.9915e+02 1.1068e+02]]\n",
      "\n",
      " ...\n",
      "\n",
      " [[1.8000e-01 6.6500e+00 3.1000e+00 ... 1.0493e+02 2.0197e+02 1.8592e+02]]\n",
      "\n",
      " [[0.0000e+00 0.0000e+00 0.0000e+00 ... 0.0000e+00 0.0000e+00 0.0000e+00]]\n",
      "\n",
      " [[3.0635e+02 8.3230e+01 1.3533e+02 ... 2.9322e+02 1.6388e+02 8.4030e+01]]]\n"
     ]
    }
   ],
   "source": [
    "print(X_train)"
   ]
  },
  {
   "cell_type": "code",
   "execution_count": 17,
   "metadata": {
    "colab": {
     "base_uri": "https://localhost:8080/"
    },
    "id": "vsKstt0o2ic7",
    "outputId": "505a87f0-7163-4148-848f-13cc40e67446"
   },
   "outputs": [
    {
     "name": "stdout",
     "output_type": "stream",
     "text": [
      "['0' '0' '1' '0' '1' '1' '1' '0' '1' '1' '1' '0' '0' '0' '0' '1' '1' '0'\n",
      " '0' '0' '0' '1' '1' '1' '1' '1' '1' '0' '1' '1' '1' '0' '1' '0' '1' '0'\n",
      " '0' '1' '1' '0' '1' '0' '0' '0' '0' '1' '0' '1' '1' '1' '1' '1' '1' '1'\n",
      " '0' '1' '0' '0' '0' '0' '1' '0' '0' '0' '1' '1' '1' '1' '1' '1' '0' '1'\n",
      " '0' '1' '0' '0' '0' '1' '0' '0' '1' '0' '0' '1' '1' '1' '0' '1' '0' '0'\n",
      " '0' '0' '0' '0' '1' '1' '0' '0' '1' '0' '0' '0' '0' '0' '1' '1' '1' '0'\n",
      " '0' '1' '0' '0' '0' '0' '1' '0' '1' '1' '1' '0' '1' '1' '1' '0' '1' '1'\n",
      " '1' '0' '1' '0' '0' '1' '0' '0' '0' '1' '1' '0' '0' '0' '0' '1' '1' '0'\n",
      " '0' '0' '1' '1' '0' '0' '1' '0' '0' '0' '0' '0' '0' '1' '1' '0' '1' '1'\n",
      " '1' '1' '1' '1' '0' '1' '0' '0' '1' '0' '0' '0' '0' '1' '0' '1' '0' '1'\n",
      " '0' '1' '0' '1' '0' '0' '1' '0' '0' '1' '0' '1' '0' '0' '1' '0' '0' '0'\n",
      " '1' '0' '0' '0' '0' '1' '0' '1' '1' '1' '0' '0' '0' '1' '1' '0' '0' '0'\n",
      " '1' '0' '0' '1' '1' '0' '0' '0' '1' '0' '0' '1' '0' '0' '1' '0' '0' '1'\n",
      " '0' '0' '0' '0' '1' '0' '1' '1' '1' '0' '0' '1' '0' '0' '1' '1' '1' '0'\n",
      " '1' '1' '1' '0' '1' '0' '0' '0' '0' '0' '0' '1' '0' '0' '0' '1' '0' '1'\n",
      " '1' '1' '0' '0' '0' '0' '0' '1' '0' '0' '0' '1' '1' '0' '0' '0' '1' '1'\n",
      " '0' '0' '0' '0' '0' '1' '1' '1' '0' '0' '1' '0' '1' '0' '0' '1' '0' '1'\n",
      " '1' '0' '1' '1' '0' '1' '0' '0' '1' '0' '0' '0' '0' '1' '0' '0' '1' '0'\n",
      " '1' '1' '0' '0' '1' '0' '1' '1' '1' '1' '1' '1' '1' '1' '0' '1' '1' '1'\n",
      " '1' '1' '1' '1' '0' '0' '0' '1' '0' '1' '0' '1' '1' '0' '0' '1' '0' '0'\n",
      " '0' '1' '1' '0' '1' '0' '0' '1' '1' '1' '1' '1' '0' '1' '0' '0' '1' '0'\n",
      " '0' '0' '1' '1' '0' '1' '0' '0' '1' '1' '1' '1' '0' '0' '1' '1' '1' '0'\n",
      " '1' '1' '0' '0' '0' '1' '1' '1' '0' '0' '0' '1' '0' '0' '1' '0' '0' '1'\n",
      " '1' '1' '0' '0' '0' '0' '1' '0' '0' '0' '1' '1' '0' '0' '1' '1' '0' '0'\n",
      " '0' '0' '1' '0' '0' '1' '0' '0' '1' '0' '0' '1' '1' '0' '0' '1' '1' '1'\n",
      " '0' '0' '0' '0' '0' '1' '1' '0' '1' '0' '0' '1' '0' '1' '0' '1' '1' '1'\n",
      " '1' '0' '1']\n"
     ]
    }
   ],
   "source": [
    "print(y_train)"
   ]
  },
  {
   "cell_type": "markdown",
   "metadata": {
    "id": "bFLAOAeJ6xPG"
   },
   "source": [
    "### Rocket Classifier"
   ]
  },
  {
   "cell_type": "code",
   "execution_count": 18,
   "metadata": {
    "id": "TBjp0xjqSvmC"
   },
   "outputs": [
    {
     "name": "stdout",
     "output_type": "stream",
     "text": [
      "['0' '1' '0' '1' '0' '0' '0' '1' '0' '0' '1' '1' '1' '1' '1' '1' '1' '1'\n",
      " '0' '0' '1' '1' '0' '0' '1' '0' '0' '0' '0' '0' '1' '0' '0' '1' '1' '1'\n",
      " '0' '0' '1' '0' '0' '1' '0' '0' '0' '0' '1' '1' '0' '0' '0' '1' '0' '1'\n",
      " '1' '1' '1' '0' '0' '1' '1' '0' '1' '1' '1' '0' '0' '1' '0' '0' '1' '1'\n",
      " '1' '0' '1' '1' '0' '1' '0' '0' '0' '0' '0' '1' '0' '1' '0' '0' '1' '1'\n",
      " '0' '1' '1' '1' '0' '1' '1' '1' '1' '0' '1' '0' '0' '1' '0' '1' '1' '1'\n",
      " '0' '0' '1' '1' '0' '0' '0' '1' '0' '1' '1' '0' '1' '1' '0' '1' '0' '0'\n",
      " '0' '1' '1' '1' '1' '1' '1' '1' '0' '0' '1' '0' '1' '0' '0' '1' '1' '0'\n",
      " '1' '1' '1' '1' '0' '0' '0' '1' '1' '0' '0' '0' '0' '0']\n"
     ]
    },
    {
     "data": {
      "text/plain": [
       "0.6772151898734177"
      ]
     },
     "execution_count": 18,
     "metadata": {},
     "output_type": "execute_result"
    }
   ],
   "source": [
    "from sktime.classification.kernel_based import RocketClassifier\n",
    "\n",
    "classifier = RocketClassifier()\n",
    "\n",
    "classifier.fit(X_train, y_train)\n",
    "\n",
    "y_pred = classifier.predict(X_test)\n",
    "\n",
    "print(y_pred)\n",
    "\n",
    "from sklearn.metrics import accuracy_score\n",
    "\n",
    "accuracy_score(y_test, y_pred)"
   ]
  },
  {
   "cell_type": "markdown",
   "metadata": {
    "id": "ytxOqfA16cp6"
   },
   "source": [
    "### TimeSeriesForestClassifier"
   ]
  },
  {
   "cell_type": "code",
   "execution_count": 62,
   "metadata": {
    "id": "Bf7tZcentQ8p"
   },
   "outputs": [],
   "source": [
    "from sktime.classification.interval_based import TimeSeriesForestClassifier"
   ]
  },
  {
   "cell_type": "code",
   "execution_count": 63,
   "metadata": {
    "colab": {
     "base_uri": "https://localhost:8080/",
     "height": 75
    },
    "id": "OHd3p3Bctg0u",
    "outputId": "a980a73b-6f41-48f4-b888-89c469782d08"
   },
   "outputs": [
    {
     "data": {
      "text/html": [
       "<style>#sk-container-id-2 {color: black;background-color: white;}#sk-container-id-2 pre{padding: 0;}#sk-container-id-2 div.sk-toggleable {background-color: white;}#sk-container-id-2 label.sk-toggleable__label {cursor: pointer;display: block;width: 100%;margin-bottom: 0;padding: 0.3em;box-sizing: border-box;text-align: center;}#sk-container-id-2 label.sk-toggleable__label-arrow:before {content: \"▸\";float: left;margin-right: 0.25em;color: #696969;}#sk-container-id-2 label.sk-toggleable__label-arrow:hover:before {color: black;}#sk-container-id-2 div.sk-estimator:hover label.sk-toggleable__label-arrow:before {color: black;}#sk-container-id-2 div.sk-toggleable__content {max-height: 0;max-width: 0;overflow: hidden;text-align: left;background-color: #f0f8ff;}#sk-container-id-2 div.sk-toggleable__content pre {margin: 0.2em;color: black;border-radius: 0.25em;background-color: #f0f8ff;}#sk-container-id-2 input.sk-toggleable__control:checked~div.sk-toggleable__content {max-height: 200px;max-width: 100%;overflow: auto;}#sk-container-id-2 input.sk-toggleable__control:checked~label.sk-toggleable__label-arrow:before {content: \"▾\";}#sk-container-id-2 div.sk-estimator input.sk-toggleable__control:checked~label.sk-toggleable__label {background-color: #d4ebff;}#sk-container-id-2 div.sk-label input.sk-toggleable__control:checked~label.sk-toggleable__label {background-color: #d4ebff;}#sk-container-id-2 input.sk-hidden--visually {border: 0;clip: rect(1px 1px 1px 1px);clip: rect(1px, 1px, 1px, 1px);height: 1px;margin: -1px;overflow: hidden;padding: 0;position: absolute;width: 1px;}#sk-container-id-2 div.sk-estimator {font-family: monospace;background-color: #f0f8ff;border: 1px dotted black;border-radius: 0.25em;box-sizing: border-box;margin-bottom: 0.5em;}#sk-container-id-2 div.sk-estimator:hover {background-color: #d4ebff;}#sk-container-id-2 div.sk-parallel-item::after {content: \"\";width: 100%;border-bottom: 1px solid gray;flex-grow: 1;}#sk-container-id-2 div.sk-label:hover label.sk-toggleable__label {background-color: #d4ebff;}#sk-container-id-2 div.sk-serial::before {content: \"\";position: absolute;border-left: 1px solid gray;box-sizing: border-box;top: 0;bottom: 0;left: 50%;z-index: 0;}#sk-container-id-2 div.sk-serial {display: flex;flex-direction: column;align-items: center;background-color: white;padding-right: 0.2em;padding-left: 0.2em;position: relative;}#sk-container-id-2 div.sk-item {position: relative;z-index: 1;}#sk-container-id-2 div.sk-parallel {display: flex;align-items: stretch;justify-content: center;background-color: white;position: relative;}#sk-container-id-2 div.sk-item::before, #sk-container-id-2 div.sk-parallel-item::before {content: \"\";position: absolute;border-left: 1px solid gray;box-sizing: border-box;top: 0;bottom: 0;left: 50%;z-index: -1;}#sk-container-id-2 div.sk-parallel-item {display: flex;flex-direction: column;z-index: 1;position: relative;background-color: white;}#sk-container-id-2 div.sk-parallel-item:first-child::after {align-self: flex-end;width: 50%;}#sk-container-id-2 div.sk-parallel-item:last-child::after {align-self: flex-start;width: 50%;}#sk-container-id-2 div.sk-parallel-item:only-child::after {width: 0;}#sk-container-id-2 div.sk-dashed-wrapped {border: 1px dashed gray;margin: 0 0.4em 0.5em 0.4em;box-sizing: border-box;padding-bottom: 0.4em;background-color: white;}#sk-container-id-2 div.sk-label label {font-family: monospace;font-weight: bold;display: inline-block;line-height: 1.2em;}#sk-container-id-2 div.sk-label-container {text-align: center;}#sk-container-id-2 div.sk-container {/* jupyter's `normalize.less` sets `[hidden] { display: none; }` but bootstrap.min.css set `[hidden] { display: none !important; }` so we also need the `!important` here to be able to override the default hidden behavior on the sphinx rendered scikit-learn.org. See: https://github.com/scikit-learn/scikit-learn/issues/21755 */display: inline-block !important;position: relative;}#sk-container-id-2 div.sk-text-repr-fallback {display: none;}</style><div id=\"sk-container-id-2\" class=\"sk-top-container\"><div class=\"sk-text-repr-fallback\"><pre>TimeSeriesForestClassifier(n_estimators=5)</pre><b>In a Jupyter environment, please rerun this cell to show the HTML representation or trust the notebook. <br />On GitHub, the HTML representation is unable to render, please try loading this page with nbviewer.org.</b></div><div class=\"sk-container\" hidden><div class=\"sk-item\"><div class=\"sk-estimator sk-toggleable\"><input class=\"sk-toggleable__control sk-hidden--visually\" id=\"sk-estimator-id-2\" type=\"checkbox\" checked><label for=\"sk-estimator-id-2\" class=\"sk-toggleable__label sk-toggleable__label-arrow\">TimeSeriesForestClassifier</label><div class=\"sk-toggleable__content\"><pre>TimeSeriesForestClassifier(n_estimators=5)</pre></div></div></div></div></div>"
      ],
      "text/plain": [
       "TimeSeriesForestClassifier(n_estimators=5)"
      ]
     },
     "execution_count": 63,
     "metadata": {},
     "output_type": "execute_result"
    }
   ],
   "source": [
    "clf = TimeSeriesForestClassifier(n_estimators=5)\n",
    "clf.fit(X_train, y_train)"
   ]
  },
  {
   "cell_type": "code",
   "execution_count": 57,
   "metadata": {
    "id": "gsBcXdORtkCt"
   },
   "outputs": [],
   "source": [
    "y_pred3 = clf.predict(X_test)\n"
   ]
  },
  {
   "cell_type": "code",
   "execution_count": 58,
   "metadata": {
    "colab": {
     "base_uri": "https://localhost:8080/"
    },
    "id": "dgAnCSRZ5MEY",
    "outputId": "a67a0217-55ec-4fb8-cfd4-828f1bd18998"
   },
   "outputs": [
    {
     "name": "stdout",
     "output_type": "stream",
     "text": [
      "['1' '1' '0' '1' '1' '0' '1' '1' '0' '1' '0' '0' '0' '0' '1' '1' '1' '1'\n",
      " '0' '0' '1' '1' '1' '1' '0' '1' '0' '0' '0' '0' '1' '0' '1' '1' '1' '0'\n",
      " '0' '0' '1' '1' '1' '1' '1' '0' '0' '0' '0' '1' '0' '0' '1' '1' '0' '1'\n",
      " '0' '1' '1' '0' '1' '1' '0' '1' '0' '1' '1' '0' '1' '0' '0' '0' '1' '1'\n",
      " '0' '1' '1' '1' '0' '1' '1' '0' '0' '1' '0' '1' '0' '1' '1' '1' '0' '1'\n",
      " '0' '0' '1' '1' '0' '0' '1' '1' '1' '0' '1' '0' '0' '0' '1' '1' '1' '1'\n",
      " '1' '0' '1' '1' '0' '1' '1' '1' '1' '1' '1' '1' '1' '1' '0' '1' '0' '0'\n",
      " '0' '1' '1' '1' '1' '0' '1' '0' '0' '0' '0' '0' '0' '0' '0' '0' '1' '0'\n",
      " '0' '1' '0' '0' '0' '0' '0' '0' '1' '0' '0' '0' '1' '0']\n"
     ]
    }
   ],
   "source": [
    "print(y_pred3)"
   ]
  },
  {
   "cell_type": "code",
   "execution_count": 59,
   "metadata": {
    "colab": {
     "base_uri": "https://localhost:8080/"
    },
    "id": "xGJ8F_TL5o6S",
    "outputId": "ff6d7916-24d3-4a72-bdac-d6c9e7fde61b"
   },
   "outputs": [
    {
     "name": "stdout",
     "output_type": "stream",
     "text": [
      "['0' '1' '0' '1' '0' '0' '0' '1' '0' '1' '0' '1' '1' '1' '0' '1' '1' '0'\n",
      " '1' '0' '1' '1' '1' '0' '0' '1' '1' '0' '0' '0' '1' '0' '1' '1' '1' '0'\n",
      " '0' '0' '1' '0' '0' '1' '1' '0' '0' '1' '0' '0' '1' '0' '1' '1' '1' '1'\n",
      " '0' '1' '1' '0' '1' '1' '0' '0' '0' '1' '1' '1' '1' '0' '0' '0' '1' '1'\n",
      " '1' '0' '1' '0' '0' '1' '0' '0' '0' '1' '0' '0' '1' '0' '1' '1' '1' '1'\n",
      " '0' '0' '1' '1' '1' '0' '1' '1' '1' '0' '1' '0' '0' '0' '0' '1' '1' '1'\n",
      " '1' '0' '1' '0' '1' '0' '0' '1' '0' '1' '1' '1' '1' '0' '0' '1' '0' '0'\n",
      " '0' '1' '1' '1' '0' '1' '1' '0' '0' '0' '0' '0' '0' '0' '0' '0' '1' '1'\n",
      " '0' '1' '1' '1' '0' '0' '0' '0' '1' '0' '0' '1' '1' '0']\n"
     ]
    }
   ],
   "source": [
    "print(y_test)"
   ]
  },
  {
   "cell_type": "code",
   "execution_count": 60,
   "metadata": {
    "colab": {
     "base_uri": "https://localhost:8080/"
    },
    "id": "-wM_ZP_ftm2E",
    "outputId": "dfacc0b4-80d3-470b-b90a-33df231a5a45"
   },
   "outputs": [
    {
     "data": {
      "text/plain": [
       "0.740506329113924"
      ]
     },
     "execution_count": 60,
     "metadata": {},
     "output_type": "execute_result"
    }
   ],
   "source": [
    "accuracy_score(y_test, y_pred3)"
   ]
  },
  {
   "cell_type": "markdown",
   "metadata": {
    "id": "9eHneIEc6kAZ"
   },
   "source": [
    "### CNN Classifier"
   ]
  },
  {
   "cell_type": "code",
   "execution_count": 64,
   "metadata": {
    "id": "BjlXN1d-T0vw"
   },
   "outputs": [],
   "source": [
    "from sktime.classification.deep_learning.cnn import CNNClassifier"
   ]
  },
  {
   "cell_type": "code",
   "execution_count": 65,
   "metadata": {
    "id": "yt1SArv7TroR"
   },
   "outputs": [],
   "source": [
    "\n",
    "cnn = CNNClassifier(n_epochs=20,batch_size=4)"
   ]
  },
  {
   "cell_type": "code",
   "execution_count": 66,
   "metadata": {
    "colab": {
     "base_uri": "https://localhost:8080/",
     "height": 130
    },
    "id": "scComkMBU0uS",
    "outputId": "55a836fd-09de-472f-e8a1-a367ccd01b31"
   },
   "outputs": [
    {
     "name": "stderr",
     "output_type": "stream",
     "text": [
      "C:\\Users\\PRADEEP SHETTY\\anaconda3\\Lib\\site-packages\\sklearn\\preprocessing\\_encoders.py:868: FutureWarning: `sparse` was renamed to `sparse_output` in version 1.2 and will be removed in 1.4. `sparse_output` is ignored unless you leave `sparse` to its default value.\n",
      "  warnings.warn(\n"
     ]
    },
    {
     "data": {
      "text/html": [
       "<style>#sk-c069176d-2c07-4044-b07d-f1d85cbb88b0 {color: black;background-color: white;}#sk-c069176d-2c07-4044-b07d-f1d85cbb88b0 pre{padding: 0;}#sk-c069176d-2c07-4044-b07d-f1d85cbb88b0 div.sk-toggleable {background-color: white;}#sk-c069176d-2c07-4044-b07d-f1d85cbb88b0 label.sk-toggleable__label {cursor: pointer;display: block;width: 100%;margin-bottom: 0;padding: 0.3em;box-sizing: border-box;text-align: center;}#sk-c069176d-2c07-4044-b07d-f1d85cbb88b0 label.sk-toggleable__label-arrow:before {content: \"▸\";float: left;margin-right: 0.25em;color: #696969;}#sk-c069176d-2c07-4044-b07d-f1d85cbb88b0 label.sk-toggleable__label-arrow:hover:before {color: black;}#sk-c069176d-2c07-4044-b07d-f1d85cbb88b0 div.sk-estimator:hover label.sk-toggleable__label-arrow:before {color: black;}#sk-c069176d-2c07-4044-b07d-f1d85cbb88b0 div.sk-toggleable__content {max-height: 0;max-width: 0;overflow: hidden;text-align: left;background-color: #f0f8ff;}#sk-c069176d-2c07-4044-b07d-f1d85cbb88b0 div.sk-toggleable__content pre {margin: 0.2em;color: black;border-radius: 0.25em;background-color: #f0f8ff;}#sk-c069176d-2c07-4044-b07d-f1d85cbb88b0 input.sk-toggleable__control:checked~div.sk-toggleable__content {max-height: 200px;max-width: 100%;overflow: auto;}#sk-c069176d-2c07-4044-b07d-f1d85cbb88b0 input.sk-toggleable__control:checked~label.sk-toggleable__label-arrow:before {content: \"▾\";}#sk-c069176d-2c07-4044-b07d-f1d85cbb88b0 div.sk-estimator input.sk-toggleable__control:checked~label.sk-toggleable__label {background-color: #d4ebff;}#sk-c069176d-2c07-4044-b07d-f1d85cbb88b0 div.sk-label input.sk-toggleable__control:checked~label.sk-toggleable__label {background-color: #d4ebff;}#sk-c069176d-2c07-4044-b07d-f1d85cbb88b0 input.sk-hidden--visually {border: 0;clip: rect(1px 1px 1px 1px);clip: rect(1px, 1px, 1px, 1px);height: 1px;margin: -1px;overflow: hidden;padding: 0;position: absolute;width: 1px;}#sk-c069176d-2c07-4044-b07d-f1d85cbb88b0 div.sk-estimator {font-family: monospace;background-color: #f0f8ff;border: 1px dotted black;border-radius: 0.25em;box-sizing: border-box;margin-bottom: 0.5em;}#sk-c069176d-2c07-4044-b07d-f1d85cbb88b0 div.sk-estimator:hover {background-color: #d4ebff;}#sk-c069176d-2c07-4044-b07d-f1d85cbb88b0 div.sk-parallel-item::after {content: \"\";width: 100%;border-bottom: 1px solid gray;flex-grow: 1;}#sk-c069176d-2c07-4044-b07d-f1d85cbb88b0 div.sk-label:hover label.sk-toggleable__label {background-color: #d4ebff;}#sk-c069176d-2c07-4044-b07d-f1d85cbb88b0 div.sk-serial::before {content: \"\";position: absolute;border-left: 1px solid gray;box-sizing: border-box;top: 2em;bottom: 0;left: 50%;}#sk-c069176d-2c07-4044-b07d-f1d85cbb88b0 div.sk-serial {display: flex;flex-direction: column;align-items: center;background-color: white;padding-right: 0.2em;padding-left: 0.2em;}#sk-c069176d-2c07-4044-b07d-f1d85cbb88b0 div.sk-item {z-index: 1;}#sk-c069176d-2c07-4044-b07d-f1d85cbb88b0 div.sk-parallel {display: flex;align-items: stretch;justify-content: center;background-color: white;}#sk-c069176d-2c07-4044-b07d-f1d85cbb88b0 div.sk-parallel::before {content: \"\";position: absolute;border-left: 1px solid gray;box-sizing: border-box;top: 2em;bottom: 0;left: 50%;}#sk-c069176d-2c07-4044-b07d-f1d85cbb88b0 div.sk-parallel-item {display: flex;flex-direction: column;position: relative;background-color: white;}#sk-c069176d-2c07-4044-b07d-f1d85cbb88b0 div.sk-parallel-item:first-child::after {align-self: flex-end;width: 50%;}#sk-c069176d-2c07-4044-b07d-f1d85cbb88b0 div.sk-parallel-item:last-child::after {align-self: flex-start;width: 50%;}#sk-c069176d-2c07-4044-b07d-f1d85cbb88b0 div.sk-parallel-item:only-child::after {width: 0;}#sk-c069176d-2c07-4044-b07d-f1d85cbb88b0 div.sk-dashed-wrapped {border: 1px dashed gray;margin: 0 0.4em 0.5em 0.4em;box-sizing: border-box;padding-bottom: 0.4em;background-color: white;position: relative;}#sk-c069176d-2c07-4044-b07d-f1d85cbb88b0 div.sk-label label {font-family: monospace;font-weight: bold;background-color: white;display: inline-block;line-height: 1.2em;}#sk-c069176d-2c07-4044-b07d-f1d85cbb88b0 div.sk-label-container {position: relative;z-index: 2;text-align: center;}#sk-c069176d-2c07-4044-b07d-f1d85cbb88b0 div.sk-container {/* jupyter's `normalize.less` sets `[hidden] { display: none; }` but bootstrap.min.css set `[hidden] { display: none !important; }` so we also need the `!important` here to be able to override the default hidden behavior on the sphinx rendered scikit-learn.org. See: https://github.com/scikit-learn/scikit-learn/issues/21755 */display: inline-block !important;position: relative;}#sk-c069176d-2c07-4044-b07d-f1d85cbb88b0 div.sk-text-repr-fallback {display: none;}</style><div id='sk-c069176d-2c07-4044-b07d-f1d85cbb88b0' class=\"sk-top-container\"><div class=\"sk-text-repr-fallback\"><pre>CNNClassifier(batch_size=4, n_epochs=20)</pre><b>Please rerun this cell to show the HTML repr or trust the notebook.</b></div><div class=\"sk-container\" hidden><div class='sk-item'><div class=\"sk-estimator sk-toggleable\"><input class=\"sk-toggleable__control sk-hidden--visually\" id=UUID('7bc0050c-a1c5-4587-91eb-741fdcfe9485') type=\"checkbox\" checked><label for=UUID('7bc0050c-a1c5-4587-91eb-741fdcfe9485') class='sk-toggleable__label sk-toggleable__label-arrow'>CNNClassifier</label><div class=\"sk-toggleable__content\"><pre>CNNClassifier(batch_size=4, n_epochs=20)</pre></div></div></div></div></div>"
      ],
      "text/plain": [
       "CNNClassifier(batch_size=4, n_epochs=20)"
      ]
     },
     "execution_count": 66,
     "metadata": {},
     "output_type": "execute_result"
    }
   ],
   "source": [
    "cnn.fit(X_train, y_train)"
   ]
  },
  {
   "cell_type": "code",
   "execution_count": 67,
   "metadata": {
    "colab": {
     "base_uri": "https://localhost:8080/"
    },
    "id": "2RUJJ1QPiPc0",
    "outputId": "c3dfa6f0-8606-4869-b4ee-ac098eb43b90"
   },
   "outputs": [
    {
     "name": "stdout",
     "output_type": "stream",
     "text": [
      "40/40 [==============================] - 0s 1ms/step\n"
     ]
    }
   ],
   "source": [
    "y_pred2 = cnn.predict(X_test)"
   ]
  },
  {
   "cell_type": "code",
   "execution_count": 68,
   "metadata": {
    "colab": {
     "base_uri": "https://localhost:8080/"
    },
    "id": "uau0J8muibMV",
    "outputId": "fa1b4a1c-dc93-43ea-a23e-15b6fd0ea155"
   },
   "outputs": [
    {
     "data": {
      "text/plain": [
       "0.5949367088607594"
      ]
     },
     "execution_count": 68,
     "metadata": {},
     "output_type": "execute_result"
    }
   ],
   "source": [
    "accuracy_score(y_test, y_pred2)"
   ]
  },
  {
   "cell_type": "markdown",
   "metadata": {
    "id": "od12KbEXvVSn"
   },
   "source": [
    "### SupervisedTimeSeriesForest"
   ]
  },
  {
   "cell_type": "code",
   "execution_count": 75,
   "metadata": {
    "id": "vxncVoCVuIsx"
   },
   "outputs": [],
   "source": [
    "from sktime.classification.interval_based import SupervisedTimeSeriesForest"
   ]
  },
  {
   "cell_type": "code",
   "execution_count": 76,
   "metadata": {
    "colab": {
     "base_uri": "https://localhost:8080/",
     "height": 75
    },
    "id": "-aQ5Gsj7vJZf",
    "outputId": "4125c2ab-c970-44b5-f616-644cd60bd277"
   },
   "outputs": [
    {
     "data": {
      "text/html": [
       "<style>#sk-be70452d-0904-4bb3-94cd-092c73361cca {color: black;background-color: white;}#sk-be70452d-0904-4bb3-94cd-092c73361cca pre{padding: 0;}#sk-be70452d-0904-4bb3-94cd-092c73361cca div.sk-toggleable {background-color: white;}#sk-be70452d-0904-4bb3-94cd-092c73361cca label.sk-toggleable__label {cursor: pointer;display: block;width: 100%;margin-bottom: 0;padding: 0.3em;box-sizing: border-box;text-align: center;}#sk-be70452d-0904-4bb3-94cd-092c73361cca label.sk-toggleable__label-arrow:before {content: \"▸\";float: left;margin-right: 0.25em;color: #696969;}#sk-be70452d-0904-4bb3-94cd-092c73361cca label.sk-toggleable__label-arrow:hover:before {color: black;}#sk-be70452d-0904-4bb3-94cd-092c73361cca div.sk-estimator:hover label.sk-toggleable__label-arrow:before {color: black;}#sk-be70452d-0904-4bb3-94cd-092c73361cca div.sk-toggleable__content {max-height: 0;max-width: 0;overflow: hidden;text-align: left;background-color: #f0f8ff;}#sk-be70452d-0904-4bb3-94cd-092c73361cca div.sk-toggleable__content pre {margin: 0.2em;color: black;border-radius: 0.25em;background-color: #f0f8ff;}#sk-be70452d-0904-4bb3-94cd-092c73361cca input.sk-toggleable__control:checked~div.sk-toggleable__content {max-height: 200px;max-width: 100%;overflow: auto;}#sk-be70452d-0904-4bb3-94cd-092c73361cca input.sk-toggleable__control:checked~label.sk-toggleable__label-arrow:before {content: \"▾\";}#sk-be70452d-0904-4bb3-94cd-092c73361cca div.sk-estimator input.sk-toggleable__control:checked~label.sk-toggleable__label {background-color: #d4ebff;}#sk-be70452d-0904-4bb3-94cd-092c73361cca div.sk-label input.sk-toggleable__control:checked~label.sk-toggleable__label {background-color: #d4ebff;}#sk-be70452d-0904-4bb3-94cd-092c73361cca input.sk-hidden--visually {border: 0;clip: rect(1px 1px 1px 1px);clip: rect(1px, 1px, 1px, 1px);height: 1px;margin: -1px;overflow: hidden;padding: 0;position: absolute;width: 1px;}#sk-be70452d-0904-4bb3-94cd-092c73361cca div.sk-estimator {font-family: monospace;background-color: #f0f8ff;border: 1px dotted black;border-radius: 0.25em;box-sizing: border-box;margin-bottom: 0.5em;}#sk-be70452d-0904-4bb3-94cd-092c73361cca div.sk-estimator:hover {background-color: #d4ebff;}#sk-be70452d-0904-4bb3-94cd-092c73361cca div.sk-parallel-item::after {content: \"\";width: 100%;border-bottom: 1px solid gray;flex-grow: 1;}#sk-be70452d-0904-4bb3-94cd-092c73361cca div.sk-label:hover label.sk-toggleable__label {background-color: #d4ebff;}#sk-be70452d-0904-4bb3-94cd-092c73361cca div.sk-serial::before {content: \"\";position: absolute;border-left: 1px solid gray;box-sizing: border-box;top: 2em;bottom: 0;left: 50%;}#sk-be70452d-0904-4bb3-94cd-092c73361cca div.sk-serial {display: flex;flex-direction: column;align-items: center;background-color: white;padding-right: 0.2em;padding-left: 0.2em;}#sk-be70452d-0904-4bb3-94cd-092c73361cca div.sk-item {z-index: 1;}#sk-be70452d-0904-4bb3-94cd-092c73361cca div.sk-parallel {display: flex;align-items: stretch;justify-content: center;background-color: white;}#sk-be70452d-0904-4bb3-94cd-092c73361cca div.sk-parallel::before {content: \"\";position: absolute;border-left: 1px solid gray;box-sizing: border-box;top: 2em;bottom: 0;left: 50%;}#sk-be70452d-0904-4bb3-94cd-092c73361cca div.sk-parallel-item {display: flex;flex-direction: column;position: relative;background-color: white;}#sk-be70452d-0904-4bb3-94cd-092c73361cca div.sk-parallel-item:first-child::after {align-self: flex-end;width: 50%;}#sk-be70452d-0904-4bb3-94cd-092c73361cca div.sk-parallel-item:last-child::after {align-self: flex-start;width: 50%;}#sk-be70452d-0904-4bb3-94cd-092c73361cca div.sk-parallel-item:only-child::after {width: 0;}#sk-be70452d-0904-4bb3-94cd-092c73361cca div.sk-dashed-wrapped {border: 1px dashed gray;margin: 0 0.4em 0.5em 0.4em;box-sizing: border-box;padding-bottom: 0.4em;background-color: white;position: relative;}#sk-be70452d-0904-4bb3-94cd-092c73361cca div.sk-label label {font-family: monospace;font-weight: bold;background-color: white;display: inline-block;line-height: 1.2em;}#sk-be70452d-0904-4bb3-94cd-092c73361cca div.sk-label-container {position: relative;z-index: 2;text-align: center;}#sk-be70452d-0904-4bb3-94cd-092c73361cca div.sk-container {/* jupyter's `normalize.less` sets `[hidden] { display: none; }` but bootstrap.min.css set `[hidden] { display: none !important; }` so we also need the `!important` here to be able to override the default hidden behavior on the sphinx rendered scikit-learn.org. See: https://github.com/scikit-learn/scikit-learn/issues/21755 */display: inline-block !important;position: relative;}#sk-be70452d-0904-4bb3-94cd-092c73361cca div.sk-text-repr-fallback {display: none;}</style><div id='sk-be70452d-0904-4bb3-94cd-092c73361cca' class=\"sk-top-container\"><div class=\"sk-text-repr-fallback\"><pre>SupervisedTimeSeriesForest(n_estimators=5)</pre><b>Please rerun this cell to show the HTML repr or trust the notebook.</b></div><div class=\"sk-container\" hidden><div class='sk-item'><div class=\"sk-estimator sk-toggleable\"><input class=\"sk-toggleable__control sk-hidden--visually\" id=UUID('7695f3e0-c56d-4841-b002-0f68e835943f') type=\"checkbox\" checked><label for=UUID('7695f3e0-c56d-4841-b002-0f68e835943f') class='sk-toggleable__label sk-toggleable__label-arrow'>SupervisedTimeSeriesForest</label><div class=\"sk-toggleable__content\"><pre>SupervisedTimeSeriesForest(n_estimators=5)</pre></div></div></div></div></div>"
      ],
      "text/plain": [
       "SupervisedTimeSeriesForest(n_estimators=5)"
      ]
     },
     "execution_count": 76,
     "metadata": {},
     "output_type": "execute_result"
    }
   ],
   "source": [
    "clf = SupervisedTimeSeriesForest(n_estimators=5)\n",
    "clf.fit(X_train, y_train)"
   ]
  },
  {
   "cell_type": "code",
   "execution_count": 77,
   "metadata": {
    "id": "UDbtcxB3vNPt"
   },
   "outputs": [],
   "source": [
    "y_pred4 = clf.predict(X_test)"
   ]
  },
  {
   "cell_type": "code",
   "execution_count": 72,
   "metadata": {
    "colab": {
     "base_uri": "https://localhost:8080/"
    },
    "id": "ld6tBfEcvRdi",
    "outputId": "417524f0-6252-48b0-a642-1649baa98628"
   },
   "outputs": [
    {
     "data": {
      "text/plain": [
       "0.7215189873417721"
      ]
     },
     "execution_count": 72,
     "metadata": {},
     "output_type": "execute_result"
    }
   ],
   "source": [
    "accuracy_score(y_test, y_pred4)"
   ]
  },
  {
   "cell_type": "markdown",
   "metadata": {
    "id": "DaDmnLQr_fIv"
   },
   "source": [
    "### PYTS RandomForest Classification"
   ]
  },
  {
   "cell_type": "code",
   "execution_count": 73,
   "metadata": {
    "colab": {
     "base_uri": "https://localhost:8080/"
    },
    "id": "v6sZ7oha73B3",
    "outputId": "f4c13709-1378-4733-922b-6db7c4e29019"
   },
   "outputs": [
    {
     "name": "stdout",
     "output_type": "stream",
     "text": [
      "Collecting pyts\n",
      "  Downloading pyts-0.13.0-py3-none-any.whl (2.5 MB)\n",
      "                                              0.0/2.5 MB ? eta -:--:--\n",
      "     -                                        0.1/2.5 MB 1.3 MB/s eta 0:00:02\n",
      "     ---                                      0.2/2.5 MB 2.4 MB/s eta 0:00:01\n",
      "     -----                                    0.4/2.5 MB 2.9 MB/s eta 0:00:01\n",
      "     ---------                                0.6/2.5 MB 3.1 MB/s eta 0:00:01\n",
      "     ------------                             0.8/2.5 MB 3.3 MB/s eta 0:00:01\n",
      "     ---------------                          1.0/2.5 MB 3.6 MB/s eta 0:00:01\n",
      "     ----------------                         1.0/2.5 MB 3.5 MB/s eta 0:00:01\n",
      "     -----------------                        1.1/2.5 MB 3.0 MB/s eta 0:00:01\n",
      "     --------------------                     1.3/2.5 MB 3.0 MB/s eta 0:00:01\n",
      "     -----------------------                  1.5/2.5 MB 3.2 MB/s eta 0:00:01\n",
      "     ---------------------------              1.7/2.5 MB 3.3 MB/s eta 0:00:01\n",
      "     -----------------------------            1.9/2.5 MB 3.5 MB/s eta 0:00:01\n",
      "     --------------------------------         2.1/2.5 MB 3.5 MB/s eta 0:00:01\n",
      "     -----------------------------------      2.3/2.5 MB 3.5 MB/s eta 0:00:01\n",
      "     -------------------------------------    2.4/2.5 MB 3.5 MB/s eta 0:00:01\n",
      "     ---------------------------------------  2.5/2.5 MB 3.5 MB/s eta 0:00:01\n",
      "     ---------------------------------------- 2.5/2.5 MB 3.3 MB/s eta 0:00:00\n",
      "Requirement already satisfied: numpy>=1.22.4 in c:\\users\\pradeep shetty\\anaconda3\\lib\\site-packages (from pyts) (1.24.3)\n",
      "Requirement already satisfied: scipy>=1.8.1 in c:\\users\\pradeep shetty\\anaconda3\\lib\\site-packages (from pyts) (1.10.1)\n",
      "Requirement already satisfied: scikit-learn>=1.2.0 in c:\\users\\pradeep shetty\\anaconda3\\lib\\site-packages (from pyts) (1.2.2)\n",
      "Requirement already satisfied: joblib>=1.1.1 in c:\\users\\pradeep shetty\\anaconda3\\lib\\site-packages (from pyts) (1.2.0)\n",
      "Requirement already satisfied: numba>=0.55.2 in c:\\users\\pradeep shetty\\anaconda3\\lib\\site-packages (from pyts) (0.57.0)\n",
      "Requirement already satisfied: llvmlite<0.41,>=0.40.0dev0 in c:\\users\\pradeep shetty\\anaconda3\\lib\\site-packages (from numba>=0.55.2->pyts) (0.40.0)\n",
      "Requirement already satisfied: threadpoolctl>=2.0.0 in c:\\users\\pradeep shetty\\anaconda3\\lib\\site-packages (from scikit-learn>=1.2.0->pyts) (2.2.0)\n",
      "Installing collected packages: pyts\n",
      "Successfully installed pyts-0.13.0\n",
      "Note: you may need to restart the kernel to use updated packages.\n"
     ]
    }
   ],
   "source": [
    "pip install pyts"
   ]
  },
  {
   "cell_type": "code",
   "execution_count": null,
   "metadata": {
    "id": "hnrkb-vc9F-E"
   },
   "outputs": [],
   "source": []
  },
  {
   "cell_type": "code",
   "execution_count": 74,
   "metadata": {
    "id": "--MCzN8KDY1H"
   },
   "outputs": [
    {
     "ename": "ModuleNotFoundError",
     "evalue": "No module named 'natsort'",
     "output_type": "error",
     "traceback": [
      "\u001b[1;31m---------------------------------------------------------------------------\u001b[0m",
      "\u001b[1;31mModuleNotFoundError\u001b[0m                       Traceback (most recent call last)",
      "Cell \u001b[1;32mIn[74], line 8\u001b[0m\n\u001b[0;32m      6\u001b[0m \u001b[38;5;28;01mimport\u001b[39;00m \u001b[38;5;21;01mglob\u001b[39;00m\n\u001b[0;32m      7\u001b[0m \u001b[38;5;28;01mimport\u001b[39;00m \u001b[38;5;21;01mos\u001b[39;00m\n\u001b[1;32m----> 8\u001b[0m \u001b[38;5;28;01mfrom\u001b[39;00m \u001b[38;5;21;01mnatsort\u001b[39;00m \u001b[38;5;28;01mimport\u001b[39;00m natsorted\n\u001b[0;32m      9\u001b[0m \u001b[38;5;28;01mfrom\u001b[39;00m \u001b[38;5;21;01mkeras\u001b[39;00m\u001b[38;5;21;01m.\u001b[39;00m\u001b[38;5;21;01mpreprocessing\u001b[39;00m \u001b[38;5;28;01mimport\u001b[39;00m sequence\n\u001b[0;32m     10\u001b[0m \u001b[38;5;28;01mimport\u001b[39;00m \u001b[38;5;21;01mtensorflow\u001b[39;00m \u001b[38;5;28;01mas\u001b[39;00m \u001b[38;5;21;01mtf\u001b[39;00m\n",
      "\u001b[1;31mModuleNotFoundError\u001b[0m: No module named 'natsort'"
     ]
    }
   ],
   "source": [
    "import pandas as pd\n",
    "import numpy as np\n",
    "%matplotlib inline\n",
    "import matplotlib.pyplot as plt\n",
    "from os import listdir\n",
    "import glob\n",
    "import os\n",
    "from natsort import natsorted\n",
    "from keras.preprocessing import sequence\n",
    "import tensorflow as tf\n",
    "from keras.models import Sequential\n",
    "from keras.layers import Dense\n",
    "from keras.layers import LSTM\n",
    "\n",
    "from keras.optimizers import Adam\n",
    "from keras.models import load_model\n",
    "from keras.callbacks import ModelCheckpoint\n"
   ]
  },
  {
   "cell_type": "code",
   "execution_count": null,
   "metadata": {
    "id": "nRQ5hRqgFiuI"
   },
   "outputs": [],
   "source": [
    "# base_dir = '/content/gdrive/MyDrive/IEEE/data/exp'\n",
    "# count=0\n",
    "# sequences=list()\n",
    "# file_list = [os.path.basename(x) for x in glob.glob(base_dir+\"/*.csv\")]\n",
    "# file_list = natsorted(file_list)\n",
    "# print(file_list)\n",
    "# for file in file_list:\n",
    "#             count+=1\n",
    "#             df=pd.read_csv(\"/content/gdrive/MyDrive/IEEE/data/exp/\"+file,header=0)\n",
    "#             values = df['Avg_activity'].values\n",
    "#             # print(values)\n",
    "#             sequences.append(values)\n",
    "\n"
   ]
  },
  {
   "cell_type": "code",
   "execution_count": null,
   "metadata": {
    "id": "QvhE7iA29Wn7"
   },
   "outputs": [],
   "source": [
    "# from keras.utils import pad_sequences\n",
    "\n",
    "# seq_len = 500\n",
    "# final_seq=pad_sequences(sequences, maxlen=seq_len, padding='post', dtype='float', truncating='post')"
   ]
  },
  {
   "cell_type": "code",
   "execution_count": null,
   "metadata": {
    "id": "VYEC0IiyHTao"
   },
   "outputs": [],
   "source": [
    "# print(type(final_seq))"
   ]
  },
  {
   "cell_type": "code",
   "execution_count": null,
   "metadata": {
    "id": "_30Sr82SHarw"
   },
   "outputs": [],
   "source": [
    "# print(final_seq.shape)"
   ]
  },
  {
   "cell_type": "code",
   "execution_count": 80,
   "metadata": {
    "colab": {
     "base_uri": "https://localhost:8080/"
    },
    "id": "EYzLzeAf9rcz",
    "outputId": "ea20ec4c-6619-4d14-8527-39153884dc78"
   },
   "outputs": [
    {
     "name": "stdout",
     "output_type": "stream",
     "text": [
      "Requirement already satisfied: tslearn in c:\\users\\pradeep shetty\\anaconda3\\lib\\site-packages (0.6.1)\n",
      "Requirement already satisfied: numpy in c:\\users\\pradeep shetty\\anaconda3\\lib\\site-packages (from tslearn) (1.24.3)\n",
      "Requirement already satisfied: scipy in c:\\users\\pradeep shetty\\anaconda3\\lib\\site-packages (from tslearn) (1.10.1)\n",
      "Requirement already satisfied: scikit-learn in c:\\users\\pradeep shetty\\anaconda3\\lib\\site-packages (from tslearn) (1.2.2)\n",
      "Requirement already satisfied: numba in c:\\users\\pradeep shetty\\anaconda3\\lib\\site-packages (from tslearn) (0.57.0)\n",
      "Requirement already satisfied: joblib in c:\\users\\pradeep shetty\\anaconda3\\lib\\site-packages (from tslearn) (1.2.0)\n",
      "Requirement already satisfied: llvmlite<0.41,>=0.40.0dev0 in c:\\users\\pradeep shetty\\anaconda3\\lib\\site-packages (from numba->tslearn) (0.40.0)\n",
      "Requirement already satisfied: threadpoolctl>=2.0.0 in c:\\users\\pradeep shetty\\anaconda3\\lib\\site-packages (from scikit-learn->tslearn) (2.2.0)\n",
      "Note: you may need to restart the kernel to use updated packages.\n"
     ]
    }
   ],
   "source": [
    " pip install tslearn"
   ]
  },
  {
   "cell_type": "code",
   "execution_count": 81,
   "metadata": {
    "id": "8Tf5-kye9ZjL"
   },
   "outputs": [],
   "source": [
    "from tslearn.utils import to_pyts_dataset"
   ]
  },
  {
   "cell_type": "code",
   "execution_count": 82,
   "metadata": {
    "id": "B95AByVQ9ypd"
   },
   "outputs": [],
   "source": [
    "pyts_arr = to_pyts_dataset(X1)"
   ]
  },
  {
   "cell_type": "code",
   "execution_count": 83,
   "metadata": {
    "colab": {
     "base_uri": "https://localhost:8080/"
    },
    "id": "dOyGFGYq99CB",
    "outputId": "ed0fc852-a466-4e19-835c-668b2f36bcc8"
   },
   "outputs": [
    {
     "name": "stdout",
     "output_type": "stream",
     "text": [
      "[[  3.17   3.     3.2  ...   3.     4.47  83.45]\n",
      " [  0.     0.     0.   ...   0.     0.     0.  ]\n",
      " [ 68.75  24.15  34.22 ...  41.43  75.58  45.27]\n",
      " ...\n",
      " [  0.     0.     0.   ...   0.     0.     0.  ]\n",
      " [ 25.3   16.17   1.75 ... 189.75 723.52 344.92]\n",
      " [341.02 255.58 506.85 ...   0.     0.     0.  ]]\n"
     ]
    }
   ],
   "source": [
    "print(pyts_arr)"
   ]
  },
  {
   "cell_type": "code",
   "execution_count": 84,
   "metadata": {
    "id": "1wXZwOZB-Fv1"
   },
   "outputs": [],
   "source": [
    "from sklearn.model_selection import train_test_split\n",
    "\n",
    "X_train, X_test, y_train, y_test = train_test_split(pyts_arr, y,random_state=42)"
   ]
  },
  {
   "cell_type": "code",
   "execution_count": 85,
   "metadata": {
    "colab": {
     "base_uri": "https://localhost:8080/",
     "height": 75
    },
    "id": "wwObGP8q7ewM",
    "outputId": "76e2e933-26e3-4530-f170-ab2d0044257c"
   },
   "outputs": [
    {
     "data": {
      "text/html": [
       "<style>#sk-container-id-3 {color: black;background-color: white;}#sk-container-id-3 pre{padding: 0;}#sk-container-id-3 div.sk-toggleable {background-color: white;}#sk-container-id-3 label.sk-toggleable__label {cursor: pointer;display: block;width: 100%;margin-bottom: 0;padding: 0.3em;box-sizing: border-box;text-align: center;}#sk-container-id-3 label.sk-toggleable__label-arrow:before {content: \"▸\";float: left;margin-right: 0.25em;color: #696969;}#sk-container-id-3 label.sk-toggleable__label-arrow:hover:before {color: black;}#sk-container-id-3 div.sk-estimator:hover label.sk-toggleable__label-arrow:before {color: black;}#sk-container-id-3 div.sk-toggleable__content {max-height: 0;max-width: 0;overflow: hidden;text-align: left;background-color: #f0f8ff;}#sk-container-id-3 div.sk-toggleable__content pre {margin: 0.2em;color: black;border-radius: 0.25em;background-color: #f0f8ff;}#sk-container-id-3 input.sk-toggleable__control:checked~div.sk-toggleable__content {max-height: 200px;max-width: 100%;overflow: auto;}#sk-container-id-3 input.sk-toggleable__control:checked~label.sk-toggleable__label-arrow:before {content: \"▾\";}#sk-container-id-3 div.sk-estimator input.sk-toggleable__control:checked~label.sk-toggleable__label {background-color: #d4ebff;}#sk-container-id-3 div.sk-label input.sk-toggleable__control:checked~label.sk-toggleable__label {background-color: #d4ebff;}#sk-container-id-3 input.sk-hidden--visually {border: 0;clip: rect(1px 1px 1px 1px);clip: rect(1px, 1px, 1px, 1px);height: 1px;margin: -1px;overflow: hidden;padding: 0;position: absolute;width: 1px;}#sk-container-id-3 div.sk-estimator {font-family: monospace;background-color: #f0f8ff;border: 1px dotted black;border-radius: 0.25em;box-sizing: border-box;margin-bottom: 0.5em;}#sk-container-id-3 div.sk-estimator:hover {background-color: #d4ebff;}#sk-container-id-3 div.sk-parallel-item::after {content: \"\";width: 100%;border-bottom: 1px solid gray;flex-grow: 1;}#sk-container-id-3 div.sk-label:hover label.sk-toggleable__label {background-color: #d4ebff;}#sk-container-id-3 div.sk-serial::before {content: \"\";position: absolute;border-left: 1px solid gray;box-sizing: border-box;top: 0;bottom: 0;left: 50%;z-index: 0;}#sk-container-id-3 div.sk-serial {display: flex;flex-direction: column;align-items: center;background-color: white;padding-right: 0.2em;padding-left: 0.2em;position: relative;}#sk-container-id-3 div.sk-item {position: relative;z-index: 1;}#sk-container-id-3 div.sk-parallel {display: flex;align-items: stretch;justify-content: center;background-color: white;position: relative;}#sk-container-id-3 div.sk-item::before, #sk-container-id-3 div.sk-parallel-item::before {content: \"\";position: absolute;border-left: 1px solid gray;box-sizing: border-box;top: 0;bottom: 0;left: 50%;z-index: -1;}#sk-container-id-3 div.sk-parallel-item {display: flex;flex-direction: column;z-index: 1;position: relative;background-color: white;}#sk-container-id-3 div.sk-parallel-item:first-child::after {align-self: flex-end;width: 50%;}#sk-container-id-3 div.sk-parallel-item:last-child::after {align-self: flex-start;width: 50%;}#sk-container-id-3 div.sk-parallel-item:only-child::after {width: 0;}#sk-container-id-3 div.sk-dashed-wrapped {border: 1px dashed gray;margin: 0 0.4em 0.5em 0.4em;box-sizing: border-box;padding-bottom: 0.4em;background-color: white;}#sk-container-id-3 div.sk-label label {font-family: monospace;font-weight: bold;display: inline-block;line-height: 1.2em;}#sk-container-id-3 div.sk-label-container {text-align: center;}#sk-container-id-3 div.sk-container {/* jupyter's `normalize.less` sets `[hidden] { display: none; }` but bootstrap.min.css set `[hidden] { display: none !important; }` so we also need the `!important` here to be able to override the default hidden behavior on the sphinx rendered scikit-learn.org. See: https://github.com/scikit-learn/scikit-learn/issues/21755 */display: inline-block !important;position: relative;}#sk-container-id-3 div.sk-text-repr-fallback {display: none;}</style><div id=\"sk-container-id-3\" class=\"sk-top-container\"><div class=\"sk-text-repr-fallback\"><pre>TimeSeriesForest(random_state=43)</pre><b>In a Jupyter environment, please rerun this cell to show the HTML representation or trust the notebook. <br />On GitHub, the HTML representation is unable to render, please try loading this page with nbviewer.org.</b></div><div class=\"sk-container\" hidden><div class=\"sk-item\"><div class=\"sk-estimator sk-toggleable\"><input class=\"sk-toggleable__control sk-hidden--visually\" id=\"sk-estimator-id-3\" type=\"checkbox\" checked><label for=\"sk-estimator-id-3\" class=\"sk-toggleable__label sk-toggleable__label-arrow\">TimeSeriesForest</label><div class=\"sk-toggleable__content\"><pre>TimeSeriesForest(random_state=43)</pre></div></div></div></div></div>"
      ],
      "text/plain": [
       "TimeSeriesForest(random_state=43)"
      ]
     },
     "execution_count": 85,
     "metadata": {},
     "output_type": "execute_result"
    }
   ],
   "source": [
    "import numpy as np\n",
    "from pyts.datasets import load_gunpoint\n",
    "from pyts.classification import TimeSeriesForest\n",
    "import matplotlib.pyplot as plt\n",
    "\n",
    "# X_train, X_test, y_train, y_test = load_gunpoint(return_X_y=True)\n",
    "clf = TimeSeriesForest(random_state=43)\n",
    "clf.fit(X_train, y_train)"
   ]
  },
  {
   "cell_type": "code",
   "execution_count": 86,
   "metadata": {
    "id": "I5GMnAhz-5_8"
   },
   "outputs": [],
   "source": [
    "y_pred5 = clf.predict(X_test)"
   ]
  },
  {
   "cell_type": "code",
   "execution_count": 87,
   "metadata": {
    "colab": {
     "base_uri": "https://localhost:8080/"
    },
    "id": "V6a09wVP-tH7",
    "outputId": "884998b4-7438-4403-abf3-452d4ec9ab25"
   },
   "outputs": [
    {
     "data": {
      "text/plain": [
       "0.7531645569620253"
      ]
     },
     "execution_count": 87,
     "metadata": {},
     "output_type": "execute_result"
    }
   ],
   "source": [
    "accuracy_score(y_test, y_pred5)"
   ]
  },
  {
   "cell_type": "code",
   "execution_count": 88,
   "metadata": {
    "colab": {
     "base_uri": "https://localhost:8080/"
    },
    "id": "5Zg9mIko_RqK",
    "outputId": "c73ff5de-d547-47fd-f576-5a7a3f6983f8"
   },
   "outputs": [
    {
     "name": "stdout",
     "output_type": "stream",
     "text": [
      "['0' '1' '0' '1' '0' '0' '0' '1' '0' '1' '0' '1' '1' '1' '0' '1' '1' '0'\n",
      " '1' '0' '1' '1' '1' '0' '0' '1' '1' '0' '0' '0' '1' '0' '1' '1' '1' '0'\n",
      " '0' '0' '1' '0' '0' '1' '1' '0' '0' '1' '0' '0' '1' '0' '1' '1' '1' '1'\n",
      " '0' '1' '1' '0' '1' '1' '0' '0' '0' '1' '1' '1' '1' '0' '0' '0' '1' '1'\n",
      " '1' '0' '1' '0' '0' '1' '0' '0' '0' '1' '0' '0' '1' '0' '1' '1' '1' '1'\n",
      " '0' '0' '1' '1' '1' '0' '1' '1' '1' '0' '1' '0' '0' '0' '0' '1' '1' '1'\n",
      " '1' '0' '1' '0' '1' '0' '0' '1' '0' '1' '1' '1' '1' '0' '0' '1' '0' '0'\n",
      " '0' '1' '1' '1' '0' '1' '1' '0' '0' '0' '0' '0' '0' '0' '0' '0' '1' '1'\n",
      " '0' '1' '1' '1' '0' '0' '0' '0' '1' '0' '0' '1' '1' '0']\n"
     ]
    }
   ],
   "source": [
    "print(y_test)"
   ]
  },
  {
   "cell_type": "code",
   "execution_count": 89,
   "metadata": {
    "colab": {
     "base_uri": "https://localhost:8080/"
    },
    "id": "UvRUI1dK_WFL",
    "outputId": "824dbaed-750b-4017-da3f-00bd96ea8237"
   },
   "outputs": [
    {
     "name": "stdout",
     "output_type": "stream",
     "text": [
      "['0' '1' '0' '1' '0' '0' '1' '1' '0' '1' '0' '1' '0' '0' '1' '1' '1' '1'\n",
      " '0' '0' '1' '0' '0' '1' '0' '1' '0' '0' '0' '0' '1' '0' '1' '1' '1' '0'\n",
      " '0' '0' '1' '1' '1' '1' '1' '0' '0' '0' '1' '1' '0' '0' '1' '1' '0' '1'\n",
      " '1' '1' '1' '0' '1' '1' '0' '0' '0' '1' '1' '0' '1' '0' '0' '0' '1' '0'\n",
      " '0' '0' '1' '1' '0' '1' '1' '0' '0' '1' '0' '1' '1' '1' '1' '1' '1' '1'\n",
      " '0' '0' '1' '1' '0' '0' '1' '1' '1' '0' '0' '0' '0' '0' '1' '1' '1' '1'\n",
      " '0' '0' '1' '1' '0' '0' '0' '1' '1' '1' '1' '1' '1' '0' '0' '0' '0' '0'\n",
      " '0' '0' '1' '1' '0' '0' '1' '0' '0' '0' '0' '0' '0' '0' '0' '0' '1' '0'\n",
      " '0' '1' '0' '0' '0' '0' '0' '0' '1' '0' '0' '0' '1' '0']\n"
     ]
    }
   ],
   "source": [
    "print(y_pred5)"
   ]
  },
  {
   "cell_type": "markdown",
   "metadata": {
    "id": "fUPllrkxBx0q"
   },
   "source": [
    "### Learning Shapelets"
   ]
  },
  {
   "cell_type": "code",
   "execution_count": 93,
   "metadata": {
    "id": "ze58AAcAAO9-"
   },
   "outputs": [],
   "source": [
    "import matplotlib.pyplot as plt\n",
    "import numpy as np\n",
    "from pyts.classification import LearningShapelets\n",
    "from pyts.datasets import load_gunpoint\n",
    "from pyts.utils import windowed_view"
   ]
  },
  {
   "cell_type": "code",
   "execution_count": 94,
   "metadata": {
    "colab": {
     "base_uri": "https://localhost:8080/",
     "height": 75
    },
    "id": "ZoqflR_mASTN",
    "outputId": "51fff287-3e17-4290-9662-94d74a260d6a"
   },
   "outputs": [
    {
     "data": {
      "text/html": [
       "<style>#sk-container-id-6 {color: black;background-color: white;}#sk-container-id-6 pre{padding: 0;}#sk-container-id-6 div.sk-toggleable {background-color: white;}#sk-container-id-6 label.sk-toggleable__label {cursor: pointer;display: block;width: 100%;margin-bottom: 0;padding: 0.3em;box-sizing: border-box;text-align: center;}#sk-container-id-6 label.sk-toggleable__label-arrow:before {content: \"▸\";float: left;margin-right: 0.25em;color: #696969;}#sk-container-id-6 label.sk-toggleable__label-arrow:hover:before {color: black;}#sk-container-id-6 div.sk-estimator:hover label.sk-toggleable__label-arrow:before {color: black;}#sk-container-id-6 div.sk-toggleable__content {max-height: 0;max-width: 0;overflow: hidden;text-align: left;background-color: #f0f8ff;}#sk-container-id-6 div.sk-toggleable__content pre {margin: 0.2em;color: black;border-radius: 0.25em;background-color: #f0f8ff;}#sk-container-id-6 input.sk-toggleable__control:checked~div.sk-toggleable__content {max-height: 200px;max-width: 100%;overflow: auto;}#sk-container-id-6 input.sk-toggleable__control:checked~label.sk-toggleable__label-arrow:before {content: \"▾\";}#sk-container-id-6 div.sk-estimator input.sk-toggleable__control:checked~label.sk-toggleable__label {background-color: #d4ebff;}#sk-container-id-6 div.sk-label input.sk-toggleable__control:checked~label.sk-toggleable__label {background-color: #d4ebff;}#sk-container-id-6 input.sk-hidden--visually {border: 0;clip: rect(1px 1px 1px 1px);clip: rect(1px, 1px, 1px, 1px);height: 1px;margin: -1px;overflow: hidden;padding: 0;position: absolute;width: 1px;}#sk-container-id-6 div.sk-estimator {font-family: monospace;background-color: #f0f8ff;border: 1px dotted black;border-radius: 0.25em;box-sizing: border-box;margin-bottom: 0.5em;}#sk-container-id-6 div.sk-estimator:hover {background-color: #d4ebff;}#sk-container-id-6 div.sk-parallel-item::after {content: \"\";width: 100%;border-bottom: 1px solid gray;flex-grow: 1;}#sk-container-id-6 div.sk-label:hover label.sk-toggleable__label {background-color: #d4ebff;}#sk-container-id-6 div.sk-serial::before {content: \"\";position: absolute;border-left: 1px solid gray;box-sizing: border-box;top: 0;bottom: 0;left: 50%;z-index: 0;}#sk-container-id-6 div.sk-serial {display: flex;flex-direction: column;align-items: center;background-color: white;padding-right: 0.2em;padding-left: 0.2em;position: relative;}#sk-container-id-6 div.sk-item {position: relative;z-index: 1;}#sk-container-id-6 div.sk-parallel {display: flex;align-items: stretch;justify-content: center;background-color: white;position: relative;}#sk-container-id-6 div.sk-item::before, #sk-container-id-6 div.sk-parallel-item::before {content: \"\";position: absolute;border-left: 1px solid gray;box-sizing: border-box;top: 0;bottom: 0;left: 50%;z-index: -1;}#sk-container-id-6 div.sk-parallel-item {display: flex;flex-direction: column;z-index: 1;position: relative;background-color: white;}#sk-container-id-6 div.sk-parallel-item:first-child::after {align-self: flex-end;width: 50%;}#sk-container-id-6 div.sk-parallel-item:last-child::after {align-self: flex-start;width: 50%;}#sk-container-id-6 div.sk-parallel-item:only-child::after {width: 0;}#sk-container-id-6 div.sk-dashed-wrapped {border: 1px dashed gray;margin: 0 0.4em 0.5em 0.4em;box-sizing: border-box;padding-bottom: 0.4em;background-color: white;}#sk-container-id-6 div.sk-label label {font-family: monospace;font-weight: bold;display: inline-block;line-height: 1.2em;}#sk-container-id-6 div.sk-label-container {text-align: center;}#sk-container-id-6 div.sk-container {/* jupyter's `normalize.less` sets `[hidden] { display: none; }` but bootstrap.min.css set `[hidden] { display: none !important; }` so we also need the `!important` here to be able to override the default hidden behavior on the sphinx rendered scikit-learn.org. See: https://github.com/scikit-learn/scikit-learn/issues/21755 */display: inline-block !important;position: relative;}#sk-container-id-6 div.sk-text-repr-fallback {display: none;}</style><div id=\"sk-container-id-6\" class=\"sk-top-container\"><div class=\"sk-text-repr-fallback\"><pre>LearningShapelets(random_state=42, tol=0.01)</pre><b>In a Jupyter environment, please rerun this cell to show the HTML representation or trust the notebook. <br />On GitHub, the HTML representation is unable to render, please try loading this page with nbviewer.org.</b></div><div class=\"sk-container\" hidden><div class=\"sk-item\"><div class=\"sk-estimator sk-toggleable\"><input class=\"sk-toggleable__control sk-hidden--visually\" id=\"sk-estimator-id-6\" type=\"checkbox\" checked><label for=\"sk-estimator-id-6\" class=\"sk-toggleable__label sk-toggleable__label-arrow\">LearningShapelets</label><div class=\"sk-toggleable__content\"><pre>LearningShapelets(random_state=42, tol=0.01)</pre></div></div></div></div></div>"
      ],
      "text/plain": [
       "LearningShapelets(random_state=42, tol=0.01)"
      ]
     },
     "execution_count": 94,
     "metadata": {},
     "output_type": "execute_result"
    }
   ],
   "source": [
    "clf = LearningShapelets(random_state=42, tol=0.01)\n",
    "clf.fit(X_train, y_train)"
   ]
  },
  {
   "cell_type": "code",
   "execution_count": 95,
   "metadata": {
    "id": "lFa4Dx5MBPV5"
   },
   "outputs": [],
   "source": [
    "y_pred6 = clf.predict(X_test)"
   ]
  },
  {
   "cell_type": "code",
   "execution_count": 96,
   "metadata": {
    "colab": {
     "base_uri": "https://localhost:8080/"
    },
    "id": "eA4YlFCoBTve",
    "outputId": "174e35a9-d701-4159-b5ec-3ab7aa748e51"
   },
   "outputs": [
    {
     "data": {
      "text/plain": [
       "0.41139240506329117"
      ]
     },
     "execution_count": 96,
     "metadata": {},
     "output_type": "execute_result"
    }
   ],
   "source": [
    "accuracy_score(y_test, y_pred6)"
   ]
  },
  {
   "cell_type": "markdown",
   "metadata": {
    "id": "-pUo8r9kB2ZP"
   },
   "source": [
    "### Bag_of_features"
   ]
  },
  {
   "cell_type": "code",
   "execution_count": 97,
   "metadata": {
    "colab": {
     "base_uri": "https://localhost:8080/",
     "height": 75
    },
    "id": "8LZ4pJbsBe6I",
    "outputId": "e379c17c-1259-46aa-af5e-8a9d45c1b3a6"
   },
   "outputs": [
    {
     "data": {
      "text/html": [
       "<style>#sk-container-id-7 {color: black;background-color: white;}#sk-container-id-7 pre{padding: 0;}#sk-container-id-7 div.sk-toggleable {background-color: white;}#sk-container-id-7 label.sk-toggleable__label {cursor: pointer;display: block;width: 100%;margin-bottom: 0;padding: 0.3em;box-sizing: border-box;text-align: center;}#sk-container-id-7 label.sk-toggleable__label-arrow:before {content: \"▸\";float: left;margin-right: 0.25em;color: #696969;}#sk-container-id-7 label.sk-toggleable__label-arrow:hover:before {color: black;}#sk-container-id-7 div.sk-estimator:hover label.sk-toggleable__label-arrow:before {color: black;}#sk-container-id-7 div.sk-toggleable__content {max-height: 0;max-width: 0;overflow: hidden;text-align: left;background-color: #f0f8ff;}#sk-container-id-7 div.sk-toggleable__content pre {margin: 0.2em;color: black;border-radius: 0.25em;background-color: #f0f8ff;}#sk-container-id-7 input.sk-toggleable__control:checked~div.sk-toggleable__content {max-height: 200px;max-width: 100%;overflow: auto;}#sk-container-id-7 input.sk-toggleable__control:checked~label.sk-toggleable__label-arrow:before {content: \"▾\";}#sk-container-id-7 div.sk-estimator input.sk-toggleable__control:checked~label.sk-toggleable__label {background-color: #d4ebff;}#sk-container-id-7 div.sk-label input.sk-toggleable__control:checked~label.sk-toggleable__label {background-color: #d4ebff;}#sk-container-id-7 input.sk-hidden--visually {border: 0;clip: rect(1px 1px 1px 1px);clip: rect(1px, 1px, 1px, 1px);height: 1px;margin: -1px;overflow: hidden;padding: 0;position: absolute;width: 1px;}#sk-container-id-7 div.sk-estimator {font-family: monospace;background-color: #f0f8ff;border: 1px dotted black;border-radius: 0.25em;box-sizing: border-box;margin-bottom: 0.5em;}#sk-container-id-7 div.sk-estimator:hover {background-color: #d4ebff;}#sk-container-id-7 div.sk-parallel-item::after {content: \"\";width: 100%;border-bottom: 1px solid gray;flex-grow: 1;}#sk-container-id-7 div.sk-label:hover label.sk-toggleable__label {background-color: #d4ebff;}#sk-container-id-7 div.sk-serial::before {content: \"\";position: absolute;border-left: 1px solid gray;box-sizing: border-box;top: 0;bottom: 0;left: 50%;z-index: 0;}#sk-container-id-7 div.sk-serial {display: flex;flex-direction: column;align-items: center;background-color: white;padding-right: 0.2em;padding-left: 0.2em;position: relative;}#sk-container-id-7 div.sk-item {position: relative;z-index: 1;}#sk-container-id-7 div.sk-parallel {display: flex;align-items: stretch;justify-content: center;background-color: white;position: relative;}#sk-container-id-7 div.sk-item::before, #sk-container-id-7 div.sk-parallel-item::before {content: \"\";position: absolute;border-left: 1px solid gray;box-sizing: border-box;top: 0;bottom: 0;left: 50%;z-index: -1;}#sk-container-id-7 div.sk-parallel-item {display: flex;flex-direction: column;z-index: 1;position: relative;background-color: white;}#sk-container-id-7 div.sk-parallel-item:first-child::after {align-self: flex-end;width: 50%;}#sk-container-id-7 div.sk-parallel-item:last-child::after {align-self: flex-start;width: 50%;}#sk-container-id-7 div.sk-parallel-item:only-child::after {width: 0;}#sk-container-id-7 div.sk-dashed-wrapped {border: 1px dashed gray;margin: 0 0.4em 0.5em 0.4em;box-sizing: border-box;padding-bottom: 0.4em;background-color: white;}#sk-container-id-7 div.sk-label label {font-family: monospace;font-weight: bold;display: inline-block;line-height: 1.2em;}#sk-container-id-7 div.sk-label-container {text-align: center;}#sk-container-id-7 div.sk-container {/* jupyter's `normalize.less` sets `[hidden] { display: none; }` but bootstrap.min.css set `[hidden] { display: none !important; }` so we also need the `!important` here to be able to override the default hidden behavior on the sphinx rendered scikit-learn.org. See: https://github.com/scikit-learn/scikit-learn/issues/21755 */display: inline-block !important;position: relative;}#sk-container-id-7 div.sk-text-repr-fallback {display: none;}</style><div id=\"sk-container-id-7\" class=\"sk-top-container\"><div class=\"sk-text-repr-fallback\"><pre>TSBF(bins=5, random_state=43)</pre><b>In a Jupyter environment, please rerun this cell to show the HTML representation or trust the notebook. <br />On GitHub, the HTML representation is unable to render, please try loading this page with nbviewer.org.</b></div><div class=\"sk-container\" hidden><div class=\"sk-item\"><div class=\"sk-estimator sk-toggleable\"><input class=\"sk-toggleable__control sk-hidden--visually\" id=\"sk-estimator-id-7\" type=\"checkbox\" checked><label for=\"sk-estimator-id-7\" class=\"sk-toggleable__label sk-toggleable__label-arrow\">TSBF</label><div class=\"sk-toggleable__content\"><pre>TSBF(bins=5, random_state=43)</pre></div></div></div></div></div>"
      ],
      "text/plain": [
       "TSBF(bins=5, random_state=43)"
      ]
     },
     "execution_count": 97,
     "metadata": {},
     "output_type": "execute_result"
    }
   ],
   "source": [
    "import numpy as np\n",
    "from pyts.datasets import load_gunpoint\n",
    "from pyts.classification import TSBF\n",
    "import matplotlib.pyplot as plt\n",
    "\n",
    "# X_train, X_test, y_train, y_test = load_gunpoint(return_X_y=True)\n",
    "clf = TSBF(random_state=43, bins=5)\n",
    "clf.fit(X_train, y_train)"
   ]
  },
  {
   "cell_type": "code",
   "execution_count": 98,
   "metadata": {
    "id": "k_AyxXrOBke1"
   },
   "outputs": [],
   "source": [
    "y_pred7 = clf.predict(X_test)"
   ]
  },
  {
   "cell_type": "code",
   "execution_count": 99,
   "metadata": {
    "colab": {
     "base_uri": "https://localhost:8080/"
    },
    "id": "i_gNBZNOBofV",
    "outputId": "37d08edd-7ab3-4d64-f5ee-509e642a8489"
   },
   "outputs": [
    {
     "data": {
      "text/plain": [
       "0.6518987341772152"
      ]
     },
     "execution_count": 99,
     "metadata": {},
     "output_type": "execute_result"
    }
   ],
   "source": [
    "accuracy_score(y_test, y_pred7)"
   ]
  },
  {
   "cell_type": "markdown",
   "metadata": {
    "id": "_bg22-rrCicf"
   },
   "source": [
    "### BOSSVS"
   ]
  },
  {
   "cell_type": "code",
   "execution_count": 100,
   "metadata": {
    "colab": {
     "base_uri": "https://localhost:8080/",
     "height": 75
    },
    "id": "_RXx0yatCHKV",
    "outputId": "6dcc5015-ab30-44de-c45b-4961972ec2f1"
   },
   "outputs": [
    {
     "data": {
      "text/html": [
       "<style>#sk-container-id-8 {color: black;background-color: white;}#sk-container-id-8 pre{padding: 0;}#sk-container-id-8 div.sk-toggleable {background-color: white;}#sk-container-id-8 label.sk-toggleable__label {cursor: pointer;display: block;width: 100%;margin-bottom: 0;padding: 0.3em;box-sizing: border-box;text-align: center;}#sk-container-id-8 label.sk-toggleable__label-arrow:before {content: \"▸\";float: left;margin-right: 0.25em;color: #696969;}#sk-container-id-8 label.sk-toggleable__label-arrow:hover:before {color: black;}#sk-container-id-8 div.sk-estimator:hover label.sk-toggleable__label-arrow:before {color: black;}#sk-container-id-8 div.sk-toggleable__content {max-height: 0;max-width: 0;overflow: hidden;text-align: left;background-color: #f0f8ff;}#sk-container-id-8 div.sk-toggleable__content pre {margin: 0.2em;color: black;border-radius: 0.25em;background-color: #f0f8ff;}#sk-container-id-8 input.sk-toggleable__control:checked~div.sk-toggleable__content {max-height: 200px;max-width: 100%;overflow: auto;}#sk-container-id-8 input.sk-toggleable__control:checked~label.sk-toggleable__label-arrow:before {content: \"▾\";}#sk-container-id-8 div.sk-estimator input.sk-toggleable__control:checked~label.sk-toggleable__label {background-color: #d4ebff;}#sk-container-id-8 div.sk-label input.sk-toggleable__control:checked~label.sk-toggleable__label {background-color: #d4ebff;}#sk-container-id-8 input.sk-hidden--visually {border: 0;clip: rect(1px 1px 1px 1px);clip: rect(1px, 1px, 1px, 1px);height: 1px;margin: -1px;overflow: hidden;padding: 0;position: absolute;width: 1px;}#sk-container-id-8 div.sk-estimator {font-family: monospace;background-color: #f0f8ff;border: 1px dotted black;border-radius: 0.25em;box-sizing: border-box;margin-bottom: 0.5em;}#sk-container-id-8 div.sk-estimator:hover {background-color: #d4ebff;}#sk-container-id-8 div.sk-parallel-item::after {content: \"\";width: 100%;border-bottom: 1px solid gray;flex-grow: 1;}#sk-container-id-8 div.sk-label:hover label.sk-toggleable__label {background-color: #d4ebff;}#sk-container-id-8 div.sk-serial::before {content: \"\";position: absolute;border-left: 1px solid gray;box-sizing: border-box;top: 0;bottom: 0;left: 50%;z-index: 0;}#sk-container-id-8 div.sk-serial {display: flex;flex-direction: column;align-items: center;background-color: white;padding-right: 0.2em;padding-left: 0.2em;position: relative;}#sk-container-id-8 div.sk-item {position: relative;z-index: 1;}#sk-container-id-8 div.sk-parallel {display: flex;align-items: stretch;justify-content: center;background-color: white;position: relative;}#sk-container-id-8 div.sk-item::before, #sk-container-id-8 div.sk-parallel-item::before {content: \"\";position: absolute;border-left: 1px solid gray;box-sizing: border-box;top: 0;bottom: 0;left: 50%;z-index: -1;}#sk-container-id-8 div.sk-parallel-item {display: flex;flex-direction: column;z-index: 1;position: relative;background-color: white;}#sk-container-id-8 div.sk-parallel-item:first-child::after {align-self: flex-end;width: 50%;}#sk-container-id-8 div.sk-parallel-item:last-child::after {align-self: flex-start;width: 50%;}#sk-container-id-8 div.sk-parallel-item:only-child::after {width: 0;}#sk-container-id-8 div.sk-dashed-wrapped {border: 1px dashed gray;margin: 0 0.4em 0.5em 0.4em;box-sizing: border-box;padding-bottom: 0.4em;background-color: white;}#sk-container-id-8 div.sk-label label {font-family: monospace;font-weight: bold;display: inline-block;line-height: 1.2em;}#sk-container-id-8 div.sk-label-container {text-align: center;}#sk-container-id-8 div.sk-container {/* jupyter's `normalize.less` sets `[hidden] { display: none; }` but bootstrap.min.css set `[hidden] { display: none !important; }` so we also need the `!important` here to be able to override the default hidden behavior on the sphinx rendered scikit-learn.org. See: https://github.com/scikit-learn/scikit-learn/issues/21755 */display: inline-block !important;position: relative;}#sk-container-id-8 div.sk-text-repr-fallback {display: none;}</style><div id=\"sk-container-id-8\" class=\"sk-top-container\"><div class=\"sk-text-repr-fallback\"><pre>BOSSVS(n_bins=3, word_size=2)</pre><b>In a Jupyter environment, please rerun this cell to show the HTML representation or trust the notebook. <br />On GitHub, the HTML representation is unable to render, please try loading this page with nbviewer.org.</b></div><div class=\"sk-container\" hidden><div class=\"sk-item\"><div class=\"sk-estimator sk-toggleable\"><input class=\"sk-toggleable__control sk-hidden--visually\" id=\"sk-estimator-id-8\" type=\"checkbox\" checked><label for=\"sk-estimator-id-8\" class=\"sk-toggleable__label sk-toggleable__label-arrow\">BOSSVS</label><div class=\"sk-toggleable__content\"><pre>BOSSVS(n_bins=3, word_size=2)</pre></div></div></div></div></div>"
      ],
      "text/plain": [
       "BOSSVS(n_bins=3, word_size=2)"
      ]
     },
     "execution_count": 100,
     "metadata": {},
     "output_type": "execute_result"
    }
   ],
   "source": [
    "from pyts.classification import BOSSVS\n",
    "bossvs = BOSSVS(word_size=2, n_bins=3, window_size=10)\n",
    "bossvs.fit(X_train, y_train)"
   ]
  },
  {
   "cell_type": "code",
   "execution_count": 101,
   "metadata": {
    "colab": {
     "base_uri": "https://localhost:8080/"
    },
    "id": "-RPkKPqjCV8-",
    "outputId": "47cb1443-b7fc-4a11-c70f-6a2d5fdf9e6d"
   },
   "outputs": [
    {
     "data": {
      "text/plain": [
       "0.6518987341772152"
      ]
     },
     "execution_count": 101,
     "metadata": {},
     "output_type": "execute_result"
    }
   ],
   "source": [
    "y_pred8 = clf.predict(X_test)\n",
    "accuracy_score(y_test, y_pred8)"
   ]
  },
  {
   "cell_type": "code",
   "execution_count": null,
   "metadata": {},
   "outputs": [],
   "source": []
  },
  {
   "cell_type": "code",
   "execution_count": null,
   "metadata": {},
   "outputs": [],
   "source": []
  },
  {
   "cell_type": "code",
   "execution_count": null,
   "metadata": {},
   "outputs": [],
   "source": []
  },
  {
   "cell_type": "code",
   "execution_count": null,
   "metadata": {},
   "outputs": [],
   "source": []
  }
 ],
 "metadata": {
  "colab": {
   "provenance": []
  },
  "kernelspec": {
   "display_name": "Python 3 (ipykernel)",
   "language": "python",
   "name": "python3"
  },
  "language_info": {
   "codemirror_mode": {
    "name": "ipython",
    "version": 3
   },
   "file_extension": ".py",
   "mimetype": "text/x-python",
   "name": "python",
   "nbconvert_exporter": "python",
   "pygments_lexer": "ipython3",
   "version": "3.11.3"
  }
 },
 "nbformat": 4,
 "nbformat_minor": 1
}
