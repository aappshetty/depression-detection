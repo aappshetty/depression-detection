{
 "cells": [
  {
   "cell_type": "code",
   "execution_count": 40,
   "id": "582a747c",
   "metadata": {},
   "outputs": [],
   "source": [
    "import numpy as np\n",
    "import pandas as pd\n",
    "import matplotlib.pyplot as plt\n",
    "from keras.models import Sequential\n",
    "from keras.layers import LSTM, Dense, Dropout\n",
    "from keras.optimizers import Adam\n",
    "from sklearn.model_selection import train_test_split\n",
    "from sklearn.metrics import accuracy_score, roc_curve, auc\n",
    "from sktime.datasets import load_from_tsfile\n",
    "from sklearn.metrics import confusion_matrix\n",
    "import seaborn as sns\n",
    "from scipy.stats import randint as sp_randint\n",
    "from sklearn.model_selection import RandomizedSearchCV\n",
    "from sklearn.preprocessing import StandardScaler"
   ]
  },
  {
   "cell_type": "code",
   "execution_count": 41,
   "id": "54f7eba5",
   "metadata": {},
   "outputs": [],
   "source": [
    "def plot_roc_curve(roc_auc_train, roc_auc_test):\n",
    "    plt.title('Receiver Operating Characteristic')\n",
    "    plt.plot(fpr_tr, tpr_tr, 'g', label='Training AUC = %0.2f' % roc_auc_train)\n",
    "    plt.plot(fpr_ts, tpr_ts, 'b', label='Testing AUC = %0.2f' % roc_auc_test)\n",
    "    plt.legend(loc='lower right')\n",
    "    plt.plot([0, 1], [0, 1], 'r--')\n",
    "    plt.xlim([0, 1])\n",
    "    plt.ylim([0, 1])\n",
    "    plt.ylabel('True Positive Rate')\n",
    "    plt.xlabel('False Positive Rate')\n",
    "    plt.show()"
   ]
  },
  {
   "cell_type": "code",
   "execution_count": 42,
   "id": "03f3ce65",
   "metadata": {},
   "outputs": [],
   "source": [
    "# Load your time series data and labels (X_train, X_test, y_train, y_test)\n",
    "# Replace this with your actual data loading code\n",
    "X, y = load_from_tsfile(\"/Users/PRADEEP SHETTY/Desktop/IEEE internship/final.ts\", return_data_type=\"numpy3d\")"
   ]
  },
  {
   "cell_type": "code",
   "execution_count": 43,
   "id": "947f99ca",
   "metadata": {},
   "outputs": [],
   "source": [
    "# Flatten the time series data\n",
    "X_flat = X.reshape(X.shape[0], -1)\n",
    "\n",
    "# Now, you can use StandardScaler on X_flat\n",
    "scaler = StandardScaler()\n",
    "X_scaled = scaler.fit_transform(X_flat)\n",
    "\n",
    "# Split the data into training and testing sets\n",
    "X_train, X_test, y_train, y_test = train_test_split(X_scaled, y, random_state=42, test_size=0.2, stratify=y)\n"
   ]
  },
  {
   "cell_type": "code",
   "execution_count": null,
   "id": "511e939c",
   "metadata": {},
   "outputs": [],
   "source": []
  },
  {
   "cell_type": "code",
   "execution_count": 44,
   "id": "f667a914",
   "metadata": {},
   "outputs": [
    {
     "ename": "IndexError",
     "evalue": "tuple index out of range",
     "output_type": "error",
     "traceback": [
      "\u001b[1;31m---------------------------------------------------------------------------\u001b[0m",
      "\u001b[1;31mIndexError\u001b[0m                                Traceback (most recent call last)",
      "Cell \u001b[1;32mIn[44], line 3\u001b[0m\n\u001b[0;32m      1\u001b[0m \u001b[38;5;66;03m# Define the LSTM model\u001b[39;00m\n\u001b[0;32m      2\u001b[0m model \u001b[38;5;241m=\u001b[39m Sequential()\n\u001b[1;32m----> 3\u001b[0m model\u001b[38;5;241m.\u001b[39madd(LSTM(\u001b[38;5;241m64\u001b[39m, input_shape\u001b[38;5;241m=\u001b[39m(X_train\u001b[38;5;241m.\u001b[39mshape[\u001b[38;5;241m1\u001b[39m], X_train\u001b[38;5;241m.\u001b[39mshape[\u001b[38;5;241m2\u001b[39m])))\n\u001b[0;32m      4\u001b[0m model\u001b[38;5;241m.\u001b[39madd(Dense(\u001b[38;5;241m1\u001b[39m, activation\u001b[38;5;241m=\u001b[39m\u001b[38;5;124m'\u001b[39m\u001b[38;5;124msigmoid\u001b[39m\u001b[38;5;124m'\u001b[39m))\n",
      "\u001b[1;31mIndexError\u001b[0m: tuple index out of range"
     ]
    }
   ],
   "source": [
    "# Define the LSTM model\n",
    "model = Sequential()\n",
    "model.add(LSTM(64, input_shape=(X_train.shape[1], X_train.shape[2])))\n",
    "model.add(Dense(1, activation='sigmoid'))"
   ]
  },
  {
   "cell_type": "code",
   "execution_count": 45,
   "id": "e31ae92c",
   "metadata": {},
   "outputs": [],
   "source": [
    "# Compile the LSTM model\n",
    "model.compile(optimizer=Adam(learning_rate=0.001), loss='binary_crossentropy', metrics=['accuracy'])"
   ]
  },
  {
   "cell_type": "code",
   "execution_count": null,
   "id": "efdb1e76",
   "metadata": {},
   "outputs": [],
   "source": [
    "# Train the LSTM model\n",
    "model.fit(X_train, y_train, epochs=10, batch_size=32, validation_data=(X_test, y_test))"
   ]
  },
  {
   "cell_type": "code",
   "execution_count": null,
   "id": "af3678cf",
   "metadata": {},
   "outputs": [],
   "source": [
    "# Evaluate the LSTM model on test data\n",
    "loss, test_accuracy = model.evaluate(X_test, y_test)\n",
    "print(f'LSTM Test Loss: {loss:.4f}, LSTM Test Accuracy: {test_accuracy:.4f}')"
   ]
  },
  {
   "cell_type": "code",
   "execution_count": null,
   "id": "fa88c3c0",
   "metadata": {},
   "outputs": [],
   "source": [
    "# Get the final training accuracy (accuracy on the last epoch)\n",
    "final_training_accuracy = model.history.history['accuracy'][-1]\n",
    "print(f'Final LSTM Training Accuracy: {final_training_accuracy:.4f}')"
   ]
  }
 ],
 "metadata": {
  "kernelspec": {
   "display_name": "Python 3 (ipykernel)",
   "language": "python",
   "name": "python3"
  },
  "language_info": {
   "codemirror_mode": {
    "name": "ipython",
    "version": 3
   },
   "file_extension": ".py",
   "mimetype": "text/x-python",
   "name": "python",
   "nbconvert_exporter": "python",
   "pygments_lexer": "ipython3",
   "version": "3.11.3"
  }
 },
 "nbformat": 4,
 "nbformat_minor": 5
}
