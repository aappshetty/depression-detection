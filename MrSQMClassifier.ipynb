{
 "cells": [
  {
   "cell_type": "code",
   "execution_count": 1,
   "metadata": {
    "colab": {
     "base_uri": "https://localhost:8080/"
    },
    "id": "hyBfTrV30cPA",
    "outputId": "819b2ff8-e357-42b3-f997-50cb74d2e278"
   },
   "outputs": [
    {
     "name": "stdout",
     "output_type": "stream",
     "text": [
      "Mounted at /content/gdrive\n"
     ]
    }
   ],
   "source": [
    "from google.colab import drive\n",
    "drive.mount('/content/gdrive')"
   ]
  },
  {
   "cell_type": "code",
   "execution_count": 1,
   "metadata": {
    "colab": {
     "base_uri": "https://localhost:8080/"
    },
    "id": "P8XCmWGw0k6j",
    "outputId": "628916da-0a9e-4fa0-c3a9-f30d4e3f9268"
   },
   "outputs": [
    {
     "name": "stdout",
     "output_type": "stream",
     "text": [
      "Requirement already satisfied: sktime in c:\\users\\pradeep shetty\\anaconda3\\lib\\site-packages (0.21.0)\n",
      "Requirement already satisfied: deprecated>=1.2.13 in c:\\users\\pradeep shetty\\anaconda3\\lib\\site-packages (from sktime) (1.2.14)\n",
      "Requirement already satisfied: numpy<1.26,>=1.21.0 in c:\\users\\pradeep shetty\\anaconda3\\lib\\site-packages (from sktime) (1.24.3)\n",
      "Requirement already satisfied: pandas<2.1.0,>=1.1.0 in c:\\users\\pradeep shetty\\anaconda3\\lib\\site-packages (from sktime) (1.5.3)\n",
      "Requirement already satisfied: packaging in c:\\users\\pradeep shetty\\anaconda3\\lib\\site-packages (from sktime) (23.0)\n",
      "Requirement already satisfied: scikit-base<0.6.0 in c:\\users\\pradeep shetty\\anaconda3\\lib\\site-packages (from sktime) (0.5.0)\n",
      "Requirement already satisfied: scikit-learn<1.4.0,>=0.24.0 in c:\\users\\pradeep shetty\\anaconda3\\lib\\site-packages (from sktime) (1.2.2)\n",
      "Requirement already satisfied: scipy<2.0.0,>=1.2.0 in c:\\users\\pradeep shetty\\anaconda3\\lib\\site-packages (from sktime) (1.10.1)\n",
      "Requirement already satisfied: wrapt<2,>=1.10 in c:\\users\\pradeep shetty\\anaconda3\\lib\\site-packages (from deprecated>=1.2.13->sktime) (1.14.1)\n",
      "Requirement already satisfied: python-dateutil>=2.8.1 in c:\\users\\pradeep shetty\\anaconda3\\lib\\site-packages (from pandas<2.1.0,>=1.1.0->sktime) (2.8.2)\n",
      "Requirement already satisfied: pytz>=2020.1 in c:\\users\\pradeep shetty\\anaconda3\\lib\\site-packages (from pandas<2.1.0,>=1.1.0->sktime) (2022.7)\n",
      "Requirement already satisfied: joblib>=1.1.1 in c:\\users\\pradeep shetty\\anaconda3\\lib\\site-packages (from scikit-learn<1.4.0,>=0.24.0->sktime) (1.2.0)\n",
      "Requirement already satisfied: threadpoolctl>=2.0.0 in c:\\users\\pradeep shetty\\anaconda3\\lib\\site-packages (from scikit-learn<1.4.0,>=0.24.0->sktime) (2.2.0)\n",
      "Requirement already satisfied: six>=1.5 in c:\\users\\pradeep shetty\\anaconda3\\lib\\site-packages (from python-dateutil>=2.8.1->pandas<2.1.0,>=1.1.0->sktime) (1.16.0)\n",
      "Note: you may need to restart the kernel to use updated packages.\n"
     ]
    }
   ],
   "source": [
    "pip install sktime"
   ]
  },
  {
   "cell_type": "code",
   "execution_count": 16,
   "metadata": {
    "colab": {
     "base_uri": "https://localhost:8080/"
    },
    "id": "B7I6H6jAWk40",
    "outputId": "769f5866-fbe8-4ca4-8508-a827e31c58ce"
   },
   "outputs": [
    {
     "name": "stdout",
     "output_type": "stream",
     "text": [
      "Collecting mrsqm\n",
      "  Using cached mrsqm-0.0.2.tar.gz (169 kB)\n",
      "  Installing build dependencies: started\n",
      "  Installing build dependencies: finished with status 'done'\n",
      "  Getting requirements to build wheel: started\n",
      "  Getting requirements to build wheel: finished with status 'done'\n",
      "  Preparing metadata (pyproject.toml): started\n",
      "  Preparing metadata (pyproject.toml): finished with status 'done'\n",
      "Building wheels for collected packages: mrsqm\n",
      "  Building wheel for mrsqm (pyproject.toml): started\n",
      "  Building wheel for mrsqm (pyproject.toml): finished with status 'error'\n",
      "Failed to build mrsqm\n",
      "Note: you may need to restart the kernel to use updated packages.\n"
     ]
    },
    {
     "name": "stderr",
     "output_type": "stream",
     "text": [
      "  error: subprocess-exited-with-error\n",
      "  \n",
      "  Building wheel for mrsqm (pyproject.toml) did not run successfully.\n",
      "  exit code: 1\n",
      "  \n",
      "  [10 lines of output]\n",
      "  running bdist_wheel\n",
      "  running build\n",
      "  running build_py\n",
      "  creating build\n",
      "  creating build\\lib.win-amd64-cpython-311\n",
      "  creating build\\lib.win-amd64-cpython-311\\mrsqm\n",
      "  copying src\\mrsqm\\__init__.py -> build\\lib.win-amd64-cpython-311\\mrsqm\n",
      "  running build_ext\n",
      "  building 'mrsqm.mrsqm_wrapper' extension\n",
      "  error: Microsoft Visual C++ 14.0 or greater is required. Get it with \"Microsoft C++ Build Tools\": https://visualstudio.microsoft.com/visual-cpp-build-tools/\n",
      "  [end of output]\n",
      "  \n",
      "  note: This error originates from a subprocess, and is likely not a problem with pip.\n",
      "  ERROR: Failed building wheel for mrsqm\n",
      "ERROR: Could not build wheels for mrsqm, which is required to install pyproject.toml-based projects\n"
     ]
    }
   ],
   "source": [
    "#pip install mrsqm"
   ]
  },
  {
   "cell_type": "code",
   "execution_count": 20,
   "metadata": {
    "id": "XbiiFphD0Qds"
   },
   "outputs": [],
   "source": [
    "import os\n",
    "import sktime\n",
    "from sktime.datasets import load_from_tsfile\n",
    "#from mrsqm import MrSQMClassifier, MrSQMTransformer\n",
    "import numpy as np\n",
    "import pandas as pd\n",
    "from sklearn import metrics\n",
    "from scipy.interpolate import interp1d\n",
    "import matplotlib.pyplot as plt\n",
    "import timeit\n",
    "\n",
    "from sklearn.linear_model import RidgeClassifierCV\n",
    "\n",
    "from sktime.datasets import load_UCR_UEA_dataset"
   ]
  },
  {
   "cell_type": "code",
   "execution_count": 21,
   "metadata": {
    "id": "kuo-Qq0_0twq"
   },
   "outputs": [],
   "source": [
    "X, y = load_from_tsfile(\"/Users/PRADEEP SHETTY/Desktop/IEEE internship/data_final.ts\")#,return_data_type=\"numpy3d\""
   ]
  },
  {
   "cell_type": "code",
   "execution_count": 22,
   "metadata": {
    "colab": {
     "base_uri": "https://localhost:8080/"
    },
    "id": "LzYvMvcTW_zA",
    "outputId": "8d25a015-59ce-4dc4-aa29-9b3bce5b2c7f"
   },
   "outputs": [
    {
     "name": "stdout",
     "output_type": "stream",
     "text": [
      "Requirement already satisfied: aeon in c:\\users\\pradeep shetty\\anaconda3\\lib\\site-packages (0.4.0)\n",
      "Requirement already satisfied: attrs>=19.2.0 in c:\\users\\pradeep shetty\\anaconda3\\lib\\site-packages (from aeon) (22.1.0)\n",
      "Requirement already satisfied: deprecated>=1.2.13 in c:\\users\\pradeep shetty\\anaconda3\\lib\\site-packages (from aeon) (1.2.14)\n",
      "Requirement already satisfied: numba>=0.55 in c:\\users\\pradeep shetty\\anaconda3\\lib\\site-packages (from aeon) (0.57.0)\n",
      "Requirement already satisfied: numpy<1.25.0,>=1.21.0 in c:\\users\\pradeep shetty\\anaconda3\\lib\\site-packages (from aeon) (1.24.3)\n",
      "Requirement already satisfied: packaging>=20.0 in c:\\users\\pradeep shetty\\anaconda3\\lib\\site-packages (from aeon) (23.0)\n",
      "Requirement already satisfied: pandas<2.1.0,>=1.5.3 in c:\\users\\pradeep shetty\\anaconda3\\lib\\site-packages (from aeon) (1.5.3)\n",
      "Requirement already satisfied: scikit-learn<1.3.0,>=1.0.0 in c:\\users\\pradeep shetty\\anaconda3\\lib\\site-packages (from aeon) (1.2.2)\n",
      "Requirement already satisfied: scipy<2.0.0,>=1.2.0 in c:\\users\\pradeep shetty\\anaconda3\\lib\\site-packages (from aeon) (1.10.1)\n",
      "Requirement already satisfied: wrapt<2,>=1.10 in c:\\users\\pradeep shetty\\anaconda3\\lib\\site-packages (from deprecated>=1.2.13->aeon) (1.14.1)\n",
      "Requirement already satisfied: llvmlite<0.41,>=0.40.0dev0 in c:\\users\\pradeep shetty\\anaconda3\\lib\\site-packages (from numba>=0.55->aeon) (0.40.0)\n",
      "Requirement already satisfied: python-dateutil>=2.8.1 in c:\\users\\pradeep shetty\\anaconda3\\lib\\site-packages (from pandas<2.1.0,>=1.5.3->aeon) (2.8.2)\n",
      "Requirement already satisfied: pytz>=2020.1 in c:\\users\\pradeep shetty\\anaconda3\\lib\\site-packages (from pandas<2.1.0,>=1.5.3->aeon) (2022.7)\n",
      "Requirement already satisfied: joblib>=1.1.1 in c:\\users\\pradeep shetty\\anaconda3\\lib\\site-packages (from scikit-learn<1.3.0,>=1.0.0->aeon) (1.2.0)\n",
      "Requirement already satisfied: threadpoolctl>=2.0.0 in c:\\users\\pradeep shetty\\anaconda3\\lib\\site-packages (from scikit-learn<1.3.0,>=1.0.0->aeon) (2.2.0)\n",
      "Requirement already satisfied: six>=1.5 in c:\\users\\pradeep shetty\\anaconda3\\lib\\site-packages (from python-dateutil>=2.8.1->pandas<2.1.0,>=1.5.3->aeon) (1.16.0)\n",
      "Note: you may need to restart the kernel to use updated packages.\n"
     ]
    }
   ],
   "source": [
    "pip install aeon"
   ]
  },
  {
   "cell_type": "code",
   "execution_count": 23,
   "metadata": {
    "colab": {
     "base_uri": "https://localhost:8080/"
    },
    "id": "zWc2FrOfnwMv",
    "outputId": "d8f81798-6e9f-49eb-8075-e48330179384"
   },
   "outputs": [
    {
     "name": "stdout",
     "output_type": "stream",
     "text": [
      "<class 'numpy.ndarray'>\n"
     ]
    }
   ],
   "source": [
    "print(type(y))"
   ]
  },
  {
   "cell_type": "code",
   "execution_count": 30,
   "metadata": {
    "id": "d05rfULaW4HH"
   },
   "outputs": [],
   "source": [
    "# from aeon.datatypes import convert"
   ]
  },
  {
   "cell_type": "code",
   "execution_count": 31,
   "metadata": {
    "id": "hFXCZvV_X_d9"
   },
   "outputs": [],
   "source": [
    "# np_list = convert(X, from_type=\"numpy3D\", to_type=\"pd-multiindex\")"
   ]
  },
  {
   "cell_type": "code",
   "execution_count": 32,
   "metadata": {
    "colab": {
     "base_uri": "https://localhost:8080/"
    },
    "id": "lzvFJdleYIxa",
    "outputId": "565a236c-42f4-4e8a-e67e-5bdbd20b996b"
   },
   "outputs": [],
   "source": [
    "# print(type(np_list))"
   ]
  },
  {
   "cell_type": "code",
   "execution_count": 33,
   "metadata": {
    "id": "ExuL9Yo9Xbdi"
   },
   "outputs": [],
   "source": [
    "# from aeon.datatypes._panel._convert import (\n",
    "#     from_3d_numpy_to_long,\n",
    "#     from_3d_numpy_to_multi_index,\n",
    "# )\n",
    "\n",
    "# long = from_3d_numpy_to_long()\n",
    "# print(f\" Type = {type(long)},shape {long.shape}\")"
   ]
  },
  {
   "cell_type": "code",
   "execution_count": 24,
   "metadata": {
    "id": "ZrDh2f_BWZq3"
   },
   "outputs": [],
   "source": [
    "from sklearn.model_selection import train_test_split\n",
    "\n",
    "X_train, X_test, y_train, y_test = train_test_split(X, y,random_state=42)"
   ]
  },
  {
   "cell_type": "code",
   "execution_count": 25,
   "metadata": {
    "colab": {
     "base_uri": "https://localhost:8080/"
    },
    "id": "EiUCHSnsYY1t",
    "outputId": "0d8385dc-435d-4d5c-f519-736b32f3abb8"
   },
   "outputs": [
    {
     "name": "stdout",
     "output_type": "stream",
     "text": [
      "<class 'numpy.ndarray'>\n"
     ]
    }
   ],
   "source": [
    "print(type(y_train))"
   ]
  },
  {
   "cell_type": "code",
   "execution_count": 26,
   "metadata": {
    "colab": {
     "base_uri": "https://localhost:8080/"
    },
    "id": "q_sR_ESNoR5z",
    "outputId": "0bdd4dbb-b979-4e25-98a9-adafe908c165"
   },
   "outputs": [
    {
     "name": "stdout",
     "output_type": "stream",
     "text": [
      "(471, 1)\n"
     ]
    }
   ],
   "source": [
    "print(X_train.shape)"
   ]
  },
  {
   "cell_type": "code",
   "execution_count": 27,
   "metadata": {
    "colab": {
     "base_uri": "https://localhost:8080/"
    },
    "id": "A0ip-8SHoX1L",
    "outputId": "9634f601-3226-4fb0-ef27-cd4bf40080b1"
   },
   "outputs": [
    {
     "name": "stdout",
     "output_type": "stream",
     "text": [
      "(629, 1)\n"
     ]
    }
   ],
   "source": [
    "print(X.shape)"
   ]
  },
  {
   "cell_type": "code",
   "execution_count": 9,
   "metadata": {
    "id": "g_owslS7WeCd"
   },
   "outputs": [
    {
     "ename": "NameError",
     "evalue": "name 'MrSQMClassifier' is not defined",
     "output_type": "error",
     "traceback": [
      "\u001b[1;31m---------------------------------------------------------------------------\u001b[0m",
      "\u001b[1;31mNameError\u001b[0m                                 Traceback (most recent call last)",
      "Cell \u001b[1;32mIn[9], line 1\u001b[0m\n\u001b[1;32m----> 1\u001b[0m clf \u001b[38;5;241m=\u001b[39m MrSQMClassifier()\u001b[38;5;241m.\u001b[39mfit(X_train,y_train)\n",
      "\u001b[1;31mNameError\u001b[0m: name 'MrSQMClassifier' is not defined"
     ]
    }
   ],
   "source": [
    "clf = MrSQMClassifier().fit(X_train,y_train)"
   ]
  },
  {
   "cell_type": "code",
   "execution_count": 10,
   "metadata": {
    "colab": {
     "base_uri": "https://localhost:8080/"
    },
    "id": "bBK6XvROoNE-",
    "outputId": "b843c47e-e652-4e89-c3af-e694d63dde16"
   },
   "outputs": [
    {
     "ename": "NameError",
     "evalue": "name 'clf' is not defined",
     "output_type": "error",
     "traceback": [
      "\u001b[1;31m---------------------------------------------------------------------------\u001b[0m",
      "\u001b[1;31mNameError\u001b[0m                                 Traceback (most recent call last)",
      "Cell \u001b[1;32mIn[10], line 1\u001b[0m\n\u001b[1;32m----> 1\u001b[0m y_pred \u001b[38;5;241m=\u001b[39m clf\u001b[38;5;241m.\u001b[39mpredict(X_test)\n\u001b[0;32m      2\u001b[0m \u001b[38;5;28mprint\u001b[39m(metrics\u001b[38;5;241m.\u001b[39maccuracy_score(y_test, y_pred))\n",
      "\u001b[1;31mNameError\u001b[0m: name 'clf' is not defined"
     ]
    }
   ],
   "source": [
    "y_pred = clf.predict(X_test)\n",
    "print(metrics.accuracy_score(y_test, y_pred))"
   ]
  },
  {
   "cell_type": "code",
   "execution_count": 11,
   "metadata": {
    "colab": {
     "base_uri": "https://localhost:8080/"
    },
    "id": "CDRYMqttojMu",
    "outputId": "cd6952c4-6c22-4011-fa3a-40ff77dd72ae"
   },
   "outputs": [
    {
     "ename": "NameError",
     "evalue": "name 'y_pred' is not defined",
     "output_type": "error",
     "traceback": [
      "\u001b[1;31m---------------------------------------------------------------------------\u001b[0m",
      "\u001b[1;31mNameError\u001b[0m                                 Traceback (most recent call last)",
      "Cell \u001b[1;32mIn[11], line 1\u001b[0m\n\u001b[1;32m----> 1\u001b[0m \u001b[38;5;28mprint\u001b[39m(y_pred)\n",
      "\u001b[1;31mNameError\u001b[0m: name 'y_pred' is not defined"
     ]
    }
   ],
   "source": [
    "print(y_pred)"
   ]
  },
  {
   "cell_type": "code",
   "execution_count": 12,
   "metadata": {
    "colab": {
     "base_uri": "https://localhost:8080/"
    },
    "id": "xP4c5cKiopyB",
    "outputId": "29cc9983-583c-467a-b2b8-2d981b18af00"
   },
   "outputs": [
    {
     "ename": "NameError",
     "evalue": "name 'y_test' is not defined",
     "output_type": "error",
     "traceback": [
      "\u001b[1;31m---------------------------------------------------------------------------\u001b[0m",
      "\u001b[1;31mNameError\u001b[0m                                 Traceback (most recent call last)",
      "Cell \u001b[1;32mIn[12], line 1\u001b[0m\n\u001b[1;32m----> 1\u001b[0m \u001b[38;5;28mprint\u001b[39m(y_test)\n",
      "\u001b[1;31mNameError\u001b[0m: name 'y_test' is not defined"
     ]
    }
   ],
   "source": [
    "print(y_test)"
   ]
  },
  {
   "cell_type": "code",
   "execution_count": 13,
   "metadata": {
    "id": "4iVrS2r4o0LO"
   },
   "outputs": [],
   "source": [
    "#  tfm = MrSQMTransformer()"
   ]
  },
  {
   "cell_type": "code",
   "execution_count": 14,
   "metadata": {
    "id": "bcWvBgWEo6yw"
   },
   "outputs": [],
   "source": [
    "# X_train_transform = tfm.fit_transform(X_train,y_train)\n",
    "# X_test_transform = tfm.transform(X_test)"
   ]
  },
  {
   "cell_type": "code",
   "execution_count": 15,
   "metadata": {
    "id": "jnHgQNVLo9WM"
   },
   "outputs": [],
   "source": [
    "# use ridgecv classifier\n",
    "# ridge = RidgeClassifierCV(alphas = np.logspace(-3, 3, 10)).fit(X_train_transform,y_train)\n",
    "# y_pred = ridge.predict(X_test_transform)\n",
    "# print(metrics.accuracy_score(y_test, y_pred))"
   ]
  },
  {
   "cell_type": "markdown",
   "metadata": {
    "id": "zSmqIZvGvPXi"
   },
   "source": [
    "LSTMFCN Classifier"
   ]
  },
  {
   "cell_type": "code",
   "execution_count": 28,
   "metadata": {
    "colab": {
     "base_uri": "https://localhost:8080/"
    },
    "id": "VlOkICIzrME7",
    "outputId": "1ca1c08d-843f-49f7-bb77-e2baed4a87f6"
   },
   "outputs": [
    {
     "name": "stdout",
     "output_type": "stream",
     "text": [
      "Requirement already satisfied: sktime-dl in c:\\users\\pradeep shetty\\anaconda3\\lib\\site-packages (0.1.0)\n",
      "Requirement already satisfied: sktime>=0.2.0 in c:\\users\\pradeep shetty\\anaconda3\\lib\\site-packages (from sktime-dl) (0.21.0)\n",
      "Requirement already satisfied: keras>=2.2.4 in c:\\users\\pradeep shetty\\anaconda3\\lib\\site-packages (from sktime-dl) (2.13.1)\n",
      "Requirement already satisfied: tensorflow>=1.8.0 in c:\\users\\pradeep shetty\\anaconda3\\lib\\site-packages (from sktime-dl) (2.13.0)\n",
      "Requirement already satisfied: deprecated>=1.2.13 in c:\\users\\pradeep shetty\\anaconda3\\lib\\site-packages (from sktime>=0.2.0->sktime-dl) (1.2.14)\n",
      "Requirement already satisfied: numpy<1.26,>=1.21.0 in c:\\users\\pradeep shetty\\anaconda3\\lib\\site-packages (from sktime>=0.2.0->sktime-dl) (1.24.3)\n",
      "Requirement already satisfied: pandas<2.1.0,>=1.1.0 in c:\\users\\pradeep shetty\\anaconda3\\lib\\site-packages (from sktime>=0.2.0->sktime-dl) (1.5.3)\n",
      "Requirement already satisfied: packaging in c:\\users\\pradeep shetty\\anaconda3\\lib\\site-packages (from sktime>=0.2.0->sktime-dl) (23.0)\n",
      "Requirement already satisfied: scikit-base<0.6.0 in c:\\users\\pradeep shetty\\anaconda3\\lib\\site-packages (from sktime>=0.2.0->sktime-dl) (0.5.0)\n",
      "Requirement already satisfied: scikit-learn<1.4.0,>=0.24.0 in c:\\users\\pradeep shetty\\anaconda3\\lib\\site-packages (from sktime>=0.2.0->sktime-dl) (1.2.2)\n",
      "Requirement already satisfied: scipy<2.0.0,>=1.2.0 in c:\\users\\pradeep shetty\\anaconda3\\lib\\site-packages (from sktime>=0.2.0->sktime-dl) (1.10.1)\n",
      "Requirement already satisfied: tensorflow-intel==2.13.0 in c:\\users\\pradeep shetty\\anaconda3\\lib\\site-packages (from tensorflow>=1.8.0->sktime-dl) (2.13.0)\n",
      "Requirement already satisfied: absl-py>=1.0.0 in c:\\users\\pradeep shetty\\anaconda3\\lib\\site-packages (from tensorflow-intel==2.13.0->tensorflow>=1.8.0->sktime-dl) (1.4.0)\n",
      "Requirement already satisfied: astunparse>=1.6.0 in c:\\users\\pradeep shetty\\anaconda3\\lib\\site-packages (from tensorflow-intel==2.13.0->tensorflow>=1.8.0->sktime-dl) (1.6.3)\n",
      "Requirement already satisfied: flatbuffers>=23.1.21 in c:\\users\\pradeep shetty\\anaconda3\\lib\\site-packages (from tensorflow-intel==2.13.0->tensorflow>=1.8.0->sktime-dl) (23.5.26)\n",
      "Requirement already satisfied: gast<=0.4.0,>=0.2.1 in c:\\users\\pradeep shetty\\anaconda3\\lib\\site-packages (from tensorflow-intel==2.13.0->tensorflow>=1.8.0->sktime-dl) (0.4.0)\n",
      "Requirement already satisfied: google-pasta>=0.1.1 in c:\\users\\pradeep shetty\\anaconda3\\lib\\site-packages (from tensorflow-intel==2.13.0->tensorflow>=1.8.0->sktime-dl) (0.2.0)\n",
      "Requirement already satisfied: h5py>=2.9.0 in c:\\users\\pradeep shetty\\anaconda3\\lib\\site-packages (from tensorflow-intel==2.13.0->tensorflow>=1.8.0->sktime-dl) (3.7.0)\n",
      "Requirement already satisfied: libclang>=13.0.0 in c:\\users\\pradeep shetty\\anaconda3\\lib\\site-packages (from tensorflow-intel==2.13.0->tensorflow>=1.8.0->sktime-dl) (16.0.6)\n",
      "Requirement already satisfied: opt-einsum>=2.3.2 in c:\\users\\pradeep shetty\\anaconda3\\lib\\site-packages (from tensorflow-intel==2.13.0->tensorflow>=1.8.0->sktime-dl) (3.3.0)\n",
      "Requirement already satisfied: protobuf!=4.21.0,!=4.21.1,!=4.21.2,!=4.21.3,!=4.21.4,!=4.21.5,<5.0.0dev,>=3.20.3 in c:\\users\\pradeep shetty\\anaconda3\\lib\\site-packages (from tensorflow-intel==2.13.0->tensorflow>=1.8.0->sktime-dl) (4.23.4)\n",
      "Requirement already satisfied: setuptools in c:\\users\\pradeep shetty\\anaconda3\\lib\\site-packages (from tensorflow-intel==2.13.0->tensorflow>=1.8.0->sktime-dl) (67.8.0)\n",
      "Requirement already satisfied: six>=1.12.0 in c:\\users\\pradeep shetty\\anaconda3\\lib\\site-packages (from tensorflow-intel==2.13.0->tensorflow>=1.8.0->sktime-dl) (1.16.0)\n",
      "Requirement already satisfied: termcolor>=1.1.0 in c:\\users\\pradeep shetty\\anaconda3\\lib\\site-packages (from tensorflow-intel==2.13.0->tensorflow>=1.8.0->sktime-dl) (2.3.0)\n",
      "Requirement already satisfied: typing-extensions<4.6.0,>=3.6.6 in c:\\users\\pradeep shetty\\anaconda3\\lib\\site-packages (from tensorflow-intel==2.13.0->tensorflow>=1.8.0->sktime-dl) (4.5.0)\n",
      "Requirement already satisfied: wrapt>=1.11.0 in c:\\users\\pradeep shetty\\anaconda3\\lib\\site-packages (from tensorflow-intel==2.13.0->tensorflow>=1.8.0->sktime-dl) (1.14.1)\n",
      "Requirement already satisfied: grpcio<2.0,>=1.24.3 in c:\\users\\pradeep shetty\\anaconda3\\lib\\site-packages (from tensorflow-intel==2.13.0->tensorflow>=1.8.0->sktime-dl) (1.56.2)\n",
      "Requirement already satisfied: tensorboard<2.14,>=2.13 in c:\\users\\pradeep shetty\\anaconda3\\lib\\site-packages (from tensorflow-intel==2.13.0->tensorflow>=1.8.0->sktime-dl) (2.13.0)\n",
      "Requirement already satisfied: tensorflow-estimator<2.14,>=2.13.0 in c:\\users\\pradeep shetty\\anaconda3\\lib\\site-packages (from tensorflow-intel==2.13.0->tensorflow>=1.8.0->sktime-dl) (2.13.0)\n",
      "Requirement already satisfied: tensorflow-io-gcs-filesystem>=0.23.1 in c:\\users\\pradeep shetty\\anaconda3\\lib\\site-packages (from tensorflow-intel==2.13.0->tensorflow>=1.8.0->sktime-dl) (0.31.0)\n",
      "Requirement already satisfied: python-dateutil>=2.8.1 in c:\\users\\pradeep shetty\\anaconda3\\lib\\site-packages (from pandas<2.1.0,>=1.1.0->sktime>=0.2.0->sktime-dl) (2.8.2)\n",
      "Requirement already satisfied: pytz>=2020.1 in c:\\users\\pradeep shetty\\anaconda3\\lib\\site-packages (from pandas<2.1.0,>=1.1.0->sktime>=0.2.0->sktime-dl) (2022.7)\n",
      "Requirement already satisfied: joblib>=1.1.1 in c:\\users\\pradeep shetty\\anaconda3\\lib\\site-packages (from scikit-learn<1.4.0,>=0.24.0->sktime>=0.2.0->sktime-dl) (1.2.0)\n",
      "Requirement already satisfied: threadpoolctl>=2.0.0 in c:\\users\\pradeep shetty\\anaconda3\\lib\\site-packages (from scikit-learn<1.4.0,>=0.24.0->sktime>=0.2.0->sktime-dl) (2.2.0)\n",
      "Requirement already satisfied: wheel<1.0,>=0.23.0 in c:\\users\\pradeep shetty\\anaconda3\\lib\\site-packages (from astunparse>=1.6.0->tensorflow-intel==2.13.0->tensorflow>=1.8.0->sktime-dl) (0.38.4)\n",
      "Requirement already satisfied: google-auth<3,>=1.6.3 in c:\\users\\pradeep shetty\\anaconda3\\lib\\site-packages (from tensorboard<2.14,>=2.13->tensorflow-intel==2.13.0->tensorflow>=1.8.0->sktime-dl) (2.22.0)\n",
      "Requirement already satisfied: google-auth-oauthlib<1.1,>=0.5 in c:\\users\\pradeep shetty\\anaconda3\\lib\\site-packages (from tensorboard<2.14,>=2.13->tensorflow-intel==2.13.0->tensorflow>=1.8.0->sktime-dl) (1.0.0)\n",
      "Requirement already satisfied: markdown>=2.6.8 in c:\\users\\pradeep shetty\\anaconda3\\lib\\site-packages (from tensorboard<2.14,>=2.13->tensorflow-intel==2.13.0->tensorflow>=1.8.0->sktime-dl) (3.4.1)\n",
      "Requirement already satisfied: requests<3,>=2.21.0 in c:\\users\\pradeep shetty\\anaconda3\\lib\\site-packages (from tensorboard<2.14,>=2.13->tensorflow-intel==2.13.0->tensorflow>=1.8.0->sktime-dl) (2.29.0)\n",
      "Requirement already satisfied: tensorboard-data-server<0.8.0,>=0.7.0 in c:\\users\\pradeep shetty\\anaconda3\\lib\\site-packages (from tensorboard<2.14,>=2.13->tensorflow-intel==2.13.0->tensorflow>=1.8.0->sktime-dl) (0.7.1)\n",
      "Requirement already satisfied: werkzeug>=1.0.1 in c:\\users\\pradeep shetty\\anaconda3\\lib\\site-packages (from tensorboard<2.14,>=2.13->tensorflow-intel==2.13.0->tensorflow>=1.8.0->sktime-dl) (2.2.3)\n",
      "Requirement already satisfied: cachetools<6.0,>=2.0.0 in c:\\users\\pradeep shetty\\anaconda3\\lib\\site-packages (from google-auth<3,>=1.6.3->tensorboard<2.14,>=2.13->tensorflow-intel==2.13.0->tensorflow>=1.8.0->sktime-dl) (5.3.1)\n",
      "Requirement already satisfied: pyasn1-modules>=0.2.1 in c:\\users\\pradeep shetty\\anaconda3\\lib\\site-packages (from google-auth<3,>=1.6.3->tensorboard<2.14,>=2.13->tensorflow-intel==2.13.0->tensorflow>=1.8.0->sktime-dl) (0.2.8)\n",
      "Requirement already satisfied: rsa<5,>=3.1.4 in c:\\users\\pradeep shetty\\anaconda3\\lib\\site-packages (from google-auth<3,>=1.6.3->tensorboard<2.14,>=2.13->tensorflow-intel==2.13.0->tensorflow>=1.8.0->sktime-dl) (4.9)\n",
      "Requirement already satisfied: urllib3<2.0 in c:\\users\\pradeep shetty\\anaconda3\\lib\\site-packages (from google-auth<3,>=1.6.3->tensorboard<2.14,>=2.13->tensorflow-intel==2.13.0->tensorflow>=1.8.0->sktime-dl) (1.26.16)\n",
      "Requirement already satisfied: requests-oauthlib>=0.7.0 in c:\\users\\pradeep shetty\\anaconda3\\lib\\site-packages (from google-auth-oauthlib<1.1,>=0.5->tensorboard<2.14,>=2.13->tensorflow-intel==2.13.0->tensorflow>=1.8.0->sktime-dl) (1.3.1)\n",
      "Requirement already satisfied: charset-normalizer<4,>=2 in c:\\users\\pradeep shetty\\anaconda3\\lib\\site-packages (from requests<3,>=2.21.0->tensorboard<2.14,>=2.13->tensorflow-intel==2.13.0->tensorflow>=1.8.0->sktime-dl) (2.0.4)\n",
      "Requirement already satisfied: idna<4,>=2.5 in c:\\users\\pradeep shetty\\anaconda3\\lib\\site-packages (from requests<3,>=2.21.0->tensorboard<2.14,>=2.13->tensorflow-intel==2.13.0->tensorflow>=1.8.0->sktime-dl) (3.4)\n",
      "Requirement already satisfied: certifi>=2017.4.17 in c:\\users\\pradeep shetty\\anaconda3\\lib\\site-packages (from requests<3,>=2.21.0->tensorboard<2.14,>=2.13->tensorflow-intel==2.13.0->tensorflow>=1.8.0->sktime-dl) (2023.5.7)\n",
      "Requirement already satisfied: MarkupSafe>=2.1.1 in c:\\users\\pradeep shetty\\anaconda3\\lib\\site-packages (from werkzeug>=1.0.1->tensorboard<2.14,>=2.13->tensorflow-intel==2.13.0->tensorflow>=1.8.0->sktime-dl) (2.1.1)\n",
      "Requirement already satisfied: pyasn1<0.5.0,>=0.4.6 in c:\\users\\pradeep shetty\\anaconda3\\lib\\site-packages (from pyasn1-modules>=0.2.1->google-auth<3,>=1.6.3->tensorboard<2.14,>=2.13->tensorflow-intel==2.13.0->tensorflow>=1.8.0->sktime-dl) (0.4.8)\n",
      "Requirement already satisfied: oauthlib>=3.0.0 in c:\\users\\pradeep shetty\\anaconda3\\lib\\site-packages (from requests-oauthlib>=0.7.0->google-auth-oauthlib<1.1,>=0.5->tensorboard<2.14,>=2.13->tensorflow-intel==2.13.0->tensorflow>=1.8.0->sktime-dl) (3.2.2)\n",
      "Note: you may need to restart the kernel to use updated packages.\n"
     ]
    }
   ],
   "source": [
    "pip install sktime-dl"
   ]
  },
  {
   "cell_type": "code",
   "execution_count": 29,
   "metadata": {
    "id": "j57XcOQzrS2g"
   },
   "outputs": [],
   "source": [
    "from sktime.classification.deep_learning.lstmfcn import LSTMFCNClassifier"
   ]
  },
  {
   "cell_type": "code",
   "execution_count": 30,
   "metadata": {
    "colab": {
     "base_uri": "https://localhost:8080/"
    },
    "id": "7VHPghBorJv4",
    "outputId": "9571820d-107d-4794-cf9e-132d744cab16"
   },
   "outputs": [
    {
     "name": "stderr",
     "output_type": "stream",
     "text": [
      "C:\\Users\\PRADEEP SHETTY\\anaconda3\\Lib\\site-packages\\sklearn\\preprocessing\\_encoders.py:868: FutureWarning: `sparse` was renamed to `sparse_output` in version 1.2 and will be removed in 1.4. `sparse_output` is ignored unless you leave `sparse` to its default value.\n",
      "  warnings.warn(\n"
     ]
    },
    {
     "name": "stdout",
     "output_type": "stream",
     "text": [
      "2/2 [==============================] - 1s 8ms/step\n",
      "2/2 [==============================] - 0s 7ms/step\n"
     ]
    },
    {
     "data": {
      "text/plain": [
       "0.740506329113924"
      ]
     },
     "execution_count": 30,
     "metadata": {},
     "output_type": "execute_result"
    }
   ],
   "source": [
    "network = LSTMFCNClassifier(n_epochs=200, verbose=0)\n",
    "network.fit(X_train, y_train)\n",
    "y_pred = network.predict(X_test)\n",
    "network.score(X_test, y_test)"
   ]
  },
  {
   "cell_type": "code",
   "execution_count": 31,
   "metadata": {
    "colab": {
     "base_uri": "https://localhost:8080/"
    },
    "id": "0rrXA7YnyjBG",
    "outputId": "c849ad27-1194-457d-e975-0454ec526555"
   },
   "outputs": [
    {
     "name": "stdout",
     "output_type": "stream",
     "text": [
      "['0' '1' '0' '0' '0' '0' '0' '0' '0' '0' '0' '0' '0' '0' '1' '1' '1' '1'\n",
      " '0' '0' '1' '1' '1' '1' '1' '1' '1' '0' '0' '0' '1' '0' '1' '1' '1' '1'\n",
      " '0' '0' '1' '0' '0' '1' '1' '0' '0' '0' '0' '1' '0' '0' '1' '1' '0' '1'\n",
      " '0' '1' '1' '1' '1' '1' '0' '1' '0' '0' '1' '0' '1' '0' '0' '0' '1' '1'\n",
      " '0' '0' '1' '1' '0' '1' '0' '0' '0' '1' '0' '1' '0' '0' '1' '1' '0' '1'\n",
      " '0' '0' '1' '1' '0' '0' '1' '1' '1' '0' '0' '0' '0' '1' '0' '0' '0' '1'\n",
      " '0' '0' '0' '1' '0' '0' '0' '1' '0' '1' '1' '1' '1' '0' '0' '1' '0' '0'\n",
      " '0' '0' '1' '1' '0' '0' '1' '0' '0' '0' '0' '0' '0' '0' '0' '0' '1' '0'\n",
      " '0' '1' '0' '0' '0' '0' '0' '0' '0' '0' '0' '0' '1' '0']\n"
     ]
    }
   ],
   "source": [
    "print(y_pred)"
   ]
  },
  {
   "cell_type": "code",
   "execution_count": 32,
   "metadata": {
    "colab": {
     "base_uri": "https://localhost:8080/"
    },
    "id": "Wf05UzG_ynPK",
    "outputId": "e38b5d51-ed39-4091-b448-aa9e9e065ec8"
   },
   "outputs": [
    {
     "name": "stdout",
     "output_type": "stream",
     "text": [
      "['0' '1' '0' '1' '0' '0' '0' '1' '0' '1' '0' '1' '1' '1' '0' '1' '1' '0'\n",
      " '1' '0' '1' '1' '1' '0' '0' '1' '1' '0' '0' '0' '1' '0' '1' '1' '1' '0'\n",
      " '0' '0' '1' '0' '0' '1' '1' '0' '0' '1' '0' '0' '1' '0' '1' '1' '1' '1'\n",
      " '0' '1' '1' '0' '1' '1' '0' '0' '0' '1' '1' '1' '1' '0' '0' '0' '1' '1'\n",
      " '1' '0' '1' '0' '0' '1' '0' '0' '0' '1' '0' '0' '1' '0' '1' '1' '1' '1'\n",
      " '0' '0' '1' '1' '1' '0' '1' '1' '1' '0' '1' '0' '0' '0' '0' '1' '1' '1'\n",
      " '1' '0' '1' '0' '1' '0' '0' '1' '0' '1' '1' '1' '1' '0' '0' '1' '0' '0'\n",
      " '0' '1' '1' '1' '0' '1' '1' '0' '0' '0' '0' '0' '0' '0' '0' '0' '1' '1'\n",
      " '0' '1' '1' '1' '0' '0' '0' '0' '1' '0' '0' '1' '1' '0']\n"
     ]
    }
   ],
   "source": [
    "print(y_test)"
   ]
  },
  {
   "cell_type": "code",
   "execution_count": null,
   "metadata": {},
   "outputs": [],
   "source": []
  }
 ],
 "metadata": {
  "colab": {
   "provenance": []
  },
  "kernelspec": {
   "display_name": "Python 3 (ipykernel)",
   "language": "python",
   "name": "python3"
  },
  "language_info": {
   "codemirror_mode": {
    "name": "ipython",
    "version": 3
   },
   "file_extension": ".py",
   "mimetype": "text/x-python",
   "name": "python",
   "nbconvert_exporter": "python",
   "pygments_lexer": "ipython3",
   "version": "3.11.3"
  }
 },
 "nbformat": 4,
 "nbformat_minor": 1
}
