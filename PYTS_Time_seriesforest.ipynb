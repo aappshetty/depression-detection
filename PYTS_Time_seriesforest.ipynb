{
 "cells": [
  {
   "cell_type": "markdown",
   "metadata": {
    "id": "Ko7X7I9300Dc"
   },
   "source": [
    "## PYTS Classification"
   ]
  },
  {
   "cell_type": "code",
   "execution_count": 1,
   "metadata": {
    "colab": {
     "base_uri": "https://localhost:8080/"
    },
    "id": "7PDiTfmZ1yQm",
    "outputId": "08eb2385-f21b-40b4-eb19-0198d6f4fa3c"
   },
   "outputs": [
    {
     "name": "stdout",
     "output_type": "stream",
     "text": [
      "Mounted at /content/gdrive\n"
     ]
    }
   ],
   "source": [
    "from google.colab import drive\n",
    "drive.mount('/content/gdrive')"
   ]
  },
  {
   "cell_type": "code",
   "execution_count": 2,
   "metadata": {
    "colab": {
     "base_uri": "https://localhost:8080/"
    },
    "id": "v6sZ7oha73B3",
    "outputId": "9fa07374-fcaa-40c5-b4db-38b8bbe624fa"
   },
   "outputs": [
    {
     "name": "stdout",
     "output_type": "stream",
     "text": [
      "Collecting pyts\n",
      "  Downloading pyts-0.13.0-py3-none-any.whl (2.5 MB)\n",
      "\u001b[?25l     \u001b[90m━━━━━━━━━━━━━━━━━━━━━━━━━━━━━━━━━━━━━━━━\u001b[0m \u001b[32m0.0/2.5 MB\u001b[0m \u001b[31m?\u001b[0m eta \u001b[36m-:--:--\u001b[0m\r",
      "\u001b[2K     \u001b[91m━━━━━━━━━━━━\u001b[0m\u001b[90m╺\u001b[0m\u001b[90m━━━━━━━━━━━━━━━━━━━━━━━━━━━\u001b[0m \u001b[32m0.8/2.5 MB\u001b[0m \u001b[31m22.8 MB/s\u001b[0m eta \u001b[36m0:00:01\u001b[0m\r",
      "\u001b[2K     \u001b[90m━━━━━━━━━━━━━━━━━━━━━━━━━━━━━━━━━━━━━━━━\u001b[0m \u001b[32m2.5/2.5 MB\u001b[0m \u001b[31m40.7 MB/s\u001b[0m eta \u001b[36m0:00:00\u001b[0m\n",
      "\u001b[?25hRequirement already satisfied: numpy>=1.22.4 in /usr/local/lib/python3.10/dist-packages (from pyts) (1.23.5)\n",
      "Requirement already satisfied: scipy>=1.8.1 in /usr/local/lib/python3.10/dist-packages (from pyts) (1.10.1)\n",
      "Requirement already satisfied: scikit-learn>=1.2.0 in /usr/local/lib/python3.10/dist-packages (from pyts) (1.2.2)\n",
      "Requirement already satisfied: joblib>=1.1.1 in /usr/local/lib/python3.10/dist-packages (from pyts) (1.3.2)\n",
      "Requirement already satisfied: numba>=0.55.2 in /usr/local/lib/python3.10/dist-packages (from pyts) (0.56.4)\n",
      "Requirement already satisfied: llvmlite<0.40,>=0.39.0dev0 in /usr/local/lib/python3.10/dist-packages (from numba>=0.55.2->pyts) (0.39.1)\n",
      "Requirement already satisfied: setuptools in /usr/local/lib/python3.10/dist-packages (from numba>=0.55.2->pyts) (67.7.2)\n",
      "Requirement already satisfied: threadpoolctl>=2.0.0 in /usr/local/lib/python3.10/dist-packages (from scikit-learn>=1.2.0->pyts) (3.2.0)\n",
      "Installing collected packages: pyts\n",
      "Successfully installed pyts-0.13.0\n"
     ]
    }
   ],
   "source": [
    "pip install pyts"
   ]
  },
  {
   "cell_type": "code",
   "execution_count": 3,
   "metadata": {
    "colab": {
     "base_uri": "https://localhost:8080/"
    },
    "id": "ZmAheHMP1gpH",
    "outputId": "bae6f1bd-4d88-4aa4-9ddd-3cf1308c6bd4"
   },
   "outputs": [
    {
     "name": "stdout",
     "output_type": "stream",
     "text": [
      "Collecting sktime\n",
      "  Downloading sktime-0.22.0-py3-none-any.whl (17.5 MB)\n",
      "\u001b[2K     \u001b[90m━━━━━━━━━━━━━━━━━━━━━━━━━━━━━━━━━━━━━━━━\u001b[0m \u001b[32m17.5/17.5 MB\u001b[0m \u001b[31m88.9 MB/s\u001b[0m eta \u001b[36m0:00:00\u001b[0m\n",
      "\u001b[?25hRequirement already satisfied: numpy<1.26,>=1.21.0 in /usr/local/lib/python3.10/dist-packages (from sktime) (1.23.5)\n",
      "Requirement already satisfied: pandas<2.1.0,>=1.1.0 in /usr/local/lib/python3.10/dist-packages (from sktime) (1.5.3)\n",
      "Requirement already satisfied: packaging in /usr/local/lib/python3.10/dist-packages (from sktime) (23.1)\n",
      "Collecting scikit-base<0.6.0 (from sktime)\n",
      "  Downloading scikit_base-0.5.1-py3-none-any.whl (118 kB)\n",
      "\u001b[2K     \u001b[90m━━━━━━━━━━━━━━━━━━━━━━━━━━━━━━━━━━━━━━\u001b[0m \u001b[32m118.7/118.7 kB\u001b[0m \u001b[31m12.5 MB/s\u001b[0m eta \u001b[36m0:00:00\u001b[0m\n",
      "\u001b[?25hRequirement already satisfied: scikit-learn<1.4.0,>=0.24.0 in /usr/local/lib/python3.10/dist-packages (from sktime) (1.2.2)\n",
      "Requirement already satisfied: scipy<2.0.0,>=1.2.0 in /usr/local/lib/python3.10/dist-packages (from sktime) (1.10.1)\n",
      "Requirement already satisfied: python-dateutil>=2.8.1 in /usr/local/lib/python3.10/dist-packages (from pandas<2.1.0,>=1.1.0->sktime) (2.8.2)\n",
      "Requirement already satisfied: pytz>=2020.1 in /usr/local/lib/python3.10/dist-packages (from pandas<2.1.0,>=1.1.0->sktime) (2023.3.post1)\n",
      "Requirement already satisfied: joblib>=1.1.1 in /usr/local/lib/python3.10/dist-packages (from scikit-learn<1.4.0,>=0.24.0->sktime) (1.3.2)\n",
      "Requirement already satisfied: threadpoolctl>=2.0.0 in /usr/local/lib/python3.10/dist-packages (from scikit-learn<1.4.0,>=0.24.0->sktime) (3.2.0)\n",
      "Requirement already satisfied: six>=1.5 in /usr/local/lib/python3.10/dist-packages (from python-dateutil>=2.8.1->pandas<2.1.0,>=1.1.0->sktime) (1.16.0)\n",
      "Installing collected packages: scikit-base, sktime\n",
      "Successfully installed scikit-base-0.5.1 sktime-0.22.0\n"
     ]
    }
   ],
   "source": [
    "pip install sktime"
   ]
  },
  {
   "cell_type": "code",
   "execution_count": 1,
   "metadata": {
    "id": "--MCzN8KDY1H"
   },
   "outputs": [],
   "source": [
    "import pandas as pd\n",
    "import numpy as np\n",
    "%matplotlib inline\n",
    "import matplotlib.pyplot as plt\n",
    "from keras.preprocessing import sequence\n",
    "import tensorflow as tf\n",
    "from keras.models import Sequential\n",
    "from keras.layers import Dense\n",
    "from keras.layers import LSTM\n",
    "\n",
    "from keras.optimizers import Adam\n",
    "from keras.models import load_model\n",
    "from keras.callbacks import ModelCheckpoint\n",
    "from sklearn.model_selection import GridSearchCV\n",
    "from sklearn.model_selection import RandomizedSearchCV\n",
    "from sklearn.metrics import accuracy_score, roc_curve, roc_auc_score\n",
    "from sktime.datasets import load_from_tsfile\n",
    "from sklearn.metrics import confusion_matrix\n",
    "import seaborn as sns\n",
    "from scipy.stats import randint as sp_randint\n",
    "from sklearn.metrics import confusion_matrix, accuracy_score, roc_curve, auc\n"
   ]
  },
  {
   "cell_type": "code",
   "execution_count": 2,
   "metadata": {
    "id": "h4vccIgePNv5"
   },
   "outputs": [],
   "source": [
    "def plot_roc_curve(roc_auc_train, roc_auc_test):\n",
    "    plt.title('Receiver Operating Characteristic')\n",
    "    plt.plot(fpr_tr, tpr_tr, 'g', label = 'Training AUC = %0.2f' % roc_auc_train)\n",
    "    plt.plot(fpr_ts, tpr_ts, 'b', label = 'Testing AUC = %0.2f' % roc_auc_test)\n",
    "    # plt.plot(fpr_val, tpr_val, 'r', label = 'Validation AUC = %0.2f' % roc_auc_val)\n",
    "    plt.legend(loc = 'lower right')\n",
    "    plt.plot([0, 1], [0, 1],'r--')\n",
    "    plt.xlim([0, 1])\n",
    "    plt.ylim([0, 1])\n",
    "    plt.ylabel('True Positive Rate')\n",
    "    plt.xlabel('False Positive Rate')\n",
    "    plt.show()"
   ]
  },
  {
   "cell_type": "code",
   "execution_count": 3,
   "metadata": {
    "colab": {
     "base_uri": "https://localhost:8080/"
    },
    "id": "EYzLzeAf9rcz",
    "outputId": "b31a9ccf-1e7a-4f10-a81d-79614e901ce3"
   },
   "outputs": [
    {
     "name": "stdout",
     "output_type": "stream",
     "text": [
      "Requirement already satisfied: tslearn in c:\\users\\pradeep shetty\\anaconda3\\lib\\site-packages (0.6.1)Note: you may need to restart the kernel to use updated packages.\n",
      "\n",
      "Requirement already satisfied: numpy in c:\\users\\pradeep shetty\\appdata\\roaming\\python\\python311\\site-packages (from tslearn) (1.24.3)\n",
      "Requirement already satisfied: scipy in c:\\users\\pradeep shetty\\appdata\\roaming\\python\\python311\\site-packages (from tslearn) (1.11.2)\n",
      "Requirement already satisfied: scikit-learn in c:\\users\\pradeep shetty\\appdata\\roaming\\python\\python311\\site-packages (from tslearn) (1.3.0)\n",
      "Requirement already satisfied: numba in c:\\users\\pradeep shetty\\anaconda3\\lib\\site-packages (from tslearn) (0.57.0)\n",
      "Requirement already satisfied: joblib in c:\\users\\pradeep shetty\\appdata\\roaming\\python\\python311\\site-packages (from tslearn) (1.3.2)\n",
      "Requirement already satisfied: llvmlite<0.41,>=0.40.0dev0 in c:\\users\\pradeep shetty\\anaconda3\\lib\\site-packages (from numba->tslearn) (0.40.0)\n",
      "Requirement already satisfied: threadpoolctl>=2.0.0 in c:\\users\\pradeep shetty\\appdata\\roaming\\python\\python311\\site-packages (from scikit-learn->tslearn) (3.2.0)\n"
     ]
    }
   ],
   "source": [
    " pip install tslearn"
   ]
  },
  {
   "cell_type": "code",
   "execution_count": 4,
   "metadata": {
    "id": "kuo-Qq0_0twq"
   },
   "outputs": [],
   "source": [
    "X, y = load_from_tsfile(\"/Users/PRADEEP SHETTY/Desktop/IEEE internship/final.ts\",return_data_type=\"numpy3d\")#,return_data_type=\"numpy3d\""
   ]
  },
  {
   "cell_type": "code",
   "execution_count": 5,
   "metadata": {
    "colab": {
     "base_uri": "https://localhost:8080/"
    },
    "id": "bvlWcNPo1XNv",
    "outputId": "39c15eff-7aba-4515-a38d-40fba5b3dce4"
   },
   "outputs": [
    {
     "name": "stdout",
     "output_type": "stream",
     "text": [
      "(1144, 1, 24)\n"
     ]
    }
   ],
   "source": [
    "print(X.shape)"
   ]
  },
  {
   "cell_type": "code",
   "execution_count": 6,
   "metadata": {
    "colab": {
     "base_uri": "https://localhost:8080/"
    },
    "id": "epCJZGFm1yu0",
    "outputId": "a35feff1-57b5-4571-c4c4-1a4cca11141a"
   },
   "outputs": [
    {
     "name": "stdout",
     "output_type": "stream",
     "text": [
      "<class 'numpy.ndarray'>\n"
     ]
    }
   ],
   "source": [
    "print(type(X))"
   ]
  },
  {
   "cell_type": "code",
   "execution_count": 7,
   "metadata": {
    "colab": {
     "base_uri": "https://localhost:8080/"
    },
    "id": "TrvOSAqXW9sy",
    "outputId": "719b6712-6aec-4730-acb4-b95893c495ac"
   },
   "outputs": [
    {
     "name": "stdout",
     "output_type": "stream",
     "text": [
      "Original array:\n",
      " (1144, 1, 24)\n",
      "Reshaped array:\n",
      " (1144, 24)\n"
     ]
    }
   ],
   "source": [
    "X1= X.reshape(X.shape[0], (X.shape[1]*X.shape[2]))\n",
    "print(\"Original array:\\n\",X.shape )\n",
    "print(\"Reshaped array:\\n\",X1.shape)"
   ]
  },
  {
   "cell_type": "code",
   "execution_count": 8,
   "metadata": {
    "colab": {
     "base_uri": "https://localhost:8080/"
    },
    "id": "2oPOSo7dYMyf",
    "outputId": "0b698d6a-d240-4ac7-81d5-2467c0cc36c8"
   },
   "outputs": [
    {
     "name": "stdout",
     "output_type": "stream",
     "text": [
      "[[  0.     0.     0.   ...  41.53  32.45 148.73]\n",
      " [  8.     4.08   7.07 ... 120.05  46.52  67.87]\n",
      " [ 69.7   22.25  11.02 ... 178.12  58.2   36.7 ]\n",
      " ...\n",
      " [  0.     0.     0.   ...   0.     0.     0.  ]\n",
      " [  0.     0.     0.   ...   0.     0.     0.  ]\n",
      " [  0.     0.     0.   ...   0.     0.     0.  ]]\n"
     ]
    }
   ],
   "source": [
    "print(X1)"
   ]
  },
  {
   "cell_type": "code",
   "execution_count": 9,
   "metadata": {
    "id": "8Tf5-kye9ZjL"
   },
   "outputs": [],
   "source": [
    "from tslearn.utils import to_pyts_dataset"
   ]
  },
  {
   "cell_type": "code",
   "execution_count": 10,
   "metadata": {
    "id": "B95AByVQ9ypd"
   },
   "outputs": [],
   "source": [
    "pyts_arr = to_pyts_dataset(X1)"
   ]
  },
  {
   "cell_type": "code",
   "execution_count": 11,
   "metadata": {
    "colab": {
     "base_uri": "https://localhost:8080/"
    },
    "id": "dOyGFGYq99CB",
    "outputId": "7abe3183-6c45-472e-e8fa-a121b50f9575"
   },
   "outputs": [
    {
     "name": "stdout",
     "output_type": "stream",
     "text": [
      "[[  0.     0.     0.   ...  41.53  32.45 148.73]\n",
      " [  8.     4.08   7.07 ... 120.05  46.52  67.87]\n",
      " [ 69.7   22.25  11.02 ... 178.12  58.2   36.7 ]\n",
      " ...\n",
      " [  0.     0.     0.   ...   0.     0.     0.  ]\n",
      " [  0.     0.     0.   ...   0.     0.     0.  ]\n",
      " [  0.     0.     0.   ...   0.     0.     0.  ]]\n"
     ]
    }
   ],
   "source": [
    "print(pyts_arr)"
   ]
  },
  {
   "cell_type": "code",
   "execution_count": 12,
   "metadata": {
    "id": "1wXZwOZB-Fv1"
   },
   "outputs": [],
   "source": [
    "from sklearn.model_selection import train_test_split\n",
    "\n",
    "X_train, X_test, y_train, y_test = train_test_split(pyts_arr, y,random_state=42,test_size=0.2,stratify=y)\n",
    "# X_val, X_test, y_val, y_test = train_test_split(X_temp, y_temp,random_state=42,test_size=0.5,stratify=y_temp)"
   ]
  },
  {
   "cell_type": "code",
   "execution_count": 13,
   "metadata": {
    "colab": {
     "base_uri": "https://localhost:8080/"
    },
    "id": "-tPxx-mzWsi6",
    "outputId": "bf8df6d1-1fdb-4b7d-87a6-f107ffa9bb84"
   },
   "outputs": [
    {
     "name": "stdout",
     "output_type": "stream",
     "text": [
      "(915, 24)\n"
     ]
    }
   ],
   "source": [
    "print(X_train.shape)"
   ]
  },
  {
   "cell_type": "code",
   "execution_count": 14,
   "metadata": {
    "id": "lO4_2EpZW0pD"
   },
   "outputs": [],
   "source": [
    "# print(X_val.shape)"
   ]
  },
  {
   "cell_type": "code",
   "execution_count": 15,
   "metadata": {
    "colab": {
     "base_uri": "https://localhost:8080/"
    },
    "id": "fxRtXFwgW4wi",
    "outputId": "e16504e7-ed9c-4a5b-c31a-5c71b72f2074"
   },
   "outputs": [
    {
     "name": "stdout",
     "output_type": "stream",
     "text": [
      "(229, 24)\n"
     ]
    }
   ],
   "source": [
    "print(X_test.shape)"
   ]
  },
  {
   "cell_type": "code",
   "execution_count": 16,
   "metadata": {
    "colab": {
     "base_uri": "https://localhost:8080/"
    },
    "id": "ujbT13ftXwpX",
    "outputId": "0da1f159-3f81-4004-f345-1a24376e7b15"
   },
   "outputs": [
    {
     "name": "stdout",
     "output_type": "stream",
     "text": [
      "['0' '0' '1' '1' '0' '1' '0' '1' '0' '1' '1' '0' '0' '0' '0' '0' '1' '0'\n",
      " '0' '1' '0' '0' '1' '0' '0' '1' '0' '0' '0' '0' '0' '1' '0' '0' '1' '0'\n",
      " '0' '0' '0' '0' '0' '0' '0' '0' '0' '0' '0' '1' '1' '0' '1' '1' '0' '1'\n",
      " '0' '0' '0' '0' '1' '1' '0' '0' '1' '0' '0' '0' '1' '0' '1' '0' '1' '1'\n",
      " '1' '1' '1' '1' '0' '0' '0' '0' '1' '0' '0' '0' '0' '0' '0' '1' '0' '0'\n",
      " '0' '0' '0' '0' '0' '0' '1' '1' '0' '1' '1' '0' '0' '0' '1' '1' '0' '1'\n",
      " '0' '0' '1' '1' '0' '0' '0' '0' '1' '0' '0' '0' '0' '1' '1' '0' '1' '0'\n",
      " '0' '0' '0' '0' '0' '0' '0' '1' '0' '1' '0' '1' '0' '1' '1' '0' '0' '0'\n",
      " '0' '0' '0' '0' '1' '1' '1' '0' '0' '0' '0' '1' '0' '0' '0' '1' '0' '1'\n",
      " '1' '1' '0' '0' '0' '0' '1' '0' '1' '0' '0' '0' '0' '0' '1' '0' '1' '1'\n",
      " '0' '1' '0' '1' '0' '0' '0' '0' '1' '1' '0' '1' '1' '1' '0' '0' '0' '1'\n",
      " '0' '0' '0' '0' '1' '0' '1' '0' '0' '0' '1' '1' '0' '0' '0' '0' '1' '0'\n",
      " '0' '0' '0' '0' '1' '0' '0' '0' '0' '0' '0' '0' '0' '1' '0' '0' '0' '0'\n",
      " '1' '1' '1' '0' '1' '0' '0' '1' '0' '0' '1' '0' '0' '1' '1' '1' '0' '0'\n",
      " '0' '0' '0' '0' '0' '1' '1' '0' '1' '0' '0' '0' '0' '0' '0' '1' '0' '1'\n",
      " '0' '1' '0' '0' '1' '0' '1' '1' '1' '1' '0' '1' '1' '0' '1' '0' '0' '0'\n",
      " '0' '0' '1' '0' '0' '1' '1' '0' '0' '0' '0' '1' '1' '0' '0' '0' '0' '0'\n",
      " '0' '0' '0' '0' '0' '1' '0' '1' '1' '0' '1' '0' '0' '1' '0' '0' '1' '1'\n",
      " '1' '1' '0' '1' '1' '0' '0' '0' '0' '1' '0' '0' '0' '0' '0' '0' '1' '1'\n",
      " '0' '1' '0' '1' '1' '1' '0' '0' '0' '1' '1' '1' '0' '0' '0' '0' '0' '0'\n",
      " '0' '1' '0' '1' '1' '0' '0' '1' '1' '0' '0' '0' '1' '0' '0' '0' '1' '0'\n",
      " '0' '0' '0' '0' '0' '0' '0' '1' '0' '1' '1' '0' '0' '0' '0' '0' '0' '0'\n",
      " '1' '0' '1' '0' '1' '1' '1' '0' '1' '0' '0' '0' '0' '0' '1' '0' '0' '0'\n",
      " '1' '1' '0' '0' '1' '0' '1' '0' '0' '0' '0' '0' '0' '1' '0' '1' '1' '0'\n",
      " '0' '0' '1' '0' '0' '0' '0' '1' '0' '0' '0' '0' '1' '0' '0' '1' '0' '1'\n",
      " '0' '0' '1' '1' '1' '1' '0' '1' '0' '0' '0' '1' '0' '0' '0' '0' '0' '1'\n",
      " '1' '0' '0' '0' '0' '0' '0' '0' '0' '1' '0' '0' '1' '0' '1' '0' '1' '0'\n",
      " '0' '1' '1' '0' '1' '1' '0' '0' '0' '0' '0' '1' '0' '0' '1' '0' '1' '0'\n",
      " '0' '1' '0' '0' '1' '0' '0' '0' '0' '1' '1' '0' '0' '1' '0' '0' '0' '1'\n",
      " '0' '0' '1' '1' '1' '0' '0' '1' '0' '0' '0' '1' '0' '0' '0' '1' '1' '1'\n",
      " '0' '1' '0' '0' '0' '1' '1' '1' '1' '0' '0' '0' '0' '0' '1' '0' '0' '0'\n",
      " '1' '0' '0' '0' '1' '0' '0' '1' '0' '0' '0' '1' '1' '1' '1' '0' '0' '1'\n",
      " '0' '0' '0' '0' '0' '1' '1' '0' '0' '1' '1' '0' '1' '0' '1' '0' '1' '1'\n",
      " '0' '0' '1' '1' '0' '0' '0' '1' '0' '0' '1' '0' '0' '0' '1' '1' '1' '1'\n",
      " '0' '0' '1' '0' '0' '1' '0' '1' '0' '0' '0' '0' '1' '0' '0' '1' '0' '0'\n",
      " '0' '0' '0' '0' '1' '1' '0' '0' '0' '1' '1' '0' '1' '0' '0' '0' '0' '1'\n",
      " '0' '0' '1' '0' '0' '0' '1' '1' '1' '0' '0' '1' '1' '1' '0' '1' '0' '0'\n",
      " '1' '0' '0' '0' '1' '1' '0' '1' '1' '0' '0' '0' '0' '1' '1' '1' '0' '0'\n",
      " '0' '0' '1' '1' '0' '0' '0' '0' '1' '1' '0' '1' '0' '0' '0' '0' '1' '1'\n",
      " '0' '1' '0' '0' '1' '0' '1' '0' '0' '1' '1' '1' '0' '0' '0' '1' '0' '0'\n",
      " '0' '0' '0' '1' '0' '1' '1' '0' '0' '0' '1' '0' '0' '0' '0' '0' '0' '0'\n",
      " '0' '0' '0' '0' '0' '0' '1' '1' '0' '1' '0' '1' '0' '1' '1' '0' '0' '0'\n",
      " '1' '0' '0' '1' '0' '0' '0' '0' '0' '0' '1' '1' '1' '0' '1' '0' '0' '1'\n",
      " '1' '0' '0' '1' '0' '0' '0' '1' '1' '0' '0' '1' '1' '1' '0' '0' '0' '0'\n",
      " '0' '0' '0' '0' '0' '1' '1' '1' '1' '0' '0' '0' '0' '1' '0' '0' '1' '0'\n",
      " '1' '1' '0' '0' '0' '0' '1' '1' '1' '0' '0' '0' '0' '1' '1' '1' '0' '0'\n",
      " '1' '1' '0' '0' '0' '0' '0' '0' '1' '0' '1' '0' '0' '0' '0' '0' '0' '0'\n",
      " '0' '1' '1' '0' '0' '1' '0' '0' '0' '1' '1' '0' '0' '0' '1' '1' '0' '0'\n",
      " '1' '0' '1' '0' '0' '1' '0' '0' '0' '1' '1' '0' '0' '0' '0' '1' '0' '1'\n",
      " '0' '0' '1' '0' '0' '1' '1' '1' '0' '0' '0' '0' '0' '0' '1' '0' '1' '0'\n",
      " '0' '0' '1' '1' '0' '0' '0' '0' '0' '0' '0' '1' '1' '0' '0']\n"
     ]
    }
   ],
   "source": [
    "print(y_train)"
   ]
  },
  {
   "cell_type": "code",
   "execution_count": 18,
   "metadata": {
    "colab": {
     "base_uri": "https://localhost:8080/",
     "height": 74
    },
    "id": "wwObGP8q7ewM",
    "outputId": "a7a49fe0-1ea2-4822-dd35-47221b1f46a5"
   },
   "outputs": [
    {
     "data": {
      "text/html": [
       "<style>#sk-container-id-2 {color: black;}#sk-container-id-2 pre{padding: 0;}#sk-container-id-2 div.sk-toggleable {background-color: white;}#sk-container-id-2 label.sk-toggleable__label {cursor: pointer;display: block;width: 100%;margin-bottom: 0;padding: 0.3em;box-sizing: border-box;text-align: center;}#sk-container-id-2 label.sk-toggleable__label-arrow:before {content: \"▸\";float: left;margin-right: 0.25em;color: #696969;}#sk-container-id-2 label.sk-toggleable__label-arrow:hover:before {color: black;}#sk-container-id-2 div.sk-estimator:hover label.sk-toggleable__label-arrow:before {color: black;}#sk-container-id-2 div.sk-toggleable__content {max-height: 0;max-width: 0;overflow: hidden;text-align: left;background-color: #f0f8ff;}#sk-container-id-2 div.sk-toggleable__content pre {margin: 0.2em;color: black;border-radius: 0.25em;background-color: #f0f8ff;}#sk-container-id-2 input.sk-toggleable__control:checked~div.sk-toggleable__content {max-height: 200px;max-width: 100%;overflow: auto;}#sk-container-id-2 input.sk-toggleable__control:checked~label.sk-toggleable__label-arrow:before {content: \"▾\";}#sk-container-id-2 div.sk-estimator input.sk-toggleable__control:checked~label.sk-toggleable__label {background-color: #d4ebff;}#sk-container-id-2 div.sk-label input.sk-toggleable__control:checked~label.sk-toggleable__label {background-color: #d4ebff;}#sk-container-id-2 input.sk-hidden--visually {border: 0;clip: rect(1px 1px 1px 1px);clip: rect(1px, 1px, 1px, 1px);height: 1px;margin: -1px;overflow: hidden;padding: 0;position: absolute;width: 1px;}#sk-container-id-2 div.sk-estimator {font-family: monospace;background-color: #f0f8ff;border: 1px dotted black;border-radius: 0.25em;box-sizing: border-box;margin-bottom: 0.5em;}#sk-container-id-2 div.sk-estimator:hover {background-color: #d4ebff;}#sk-container-id-2 div.sk-parallel-item::after {content: \"\";width: 100%;border-bottom: 1px solid gray;flex-grow: 1;}#sk-container-id-2 div.sk-label:hover label.sk-toggleable__label {background-color: #d4ebff;}#sk-container-id-2 div.sk-serial::before {content: \"\";position: absolute;border-left: 1px solid gray;box-sizing: border-box;top: 0;bottom: 0;left: 50%;z-index: 0;}#sk-container-id-2 div.sk-serial {display: flex;flex-direction: column;align-items: center;background-color: white;padding-right: 0.2em;padding-left: 0.2em;position: relative;}#sk-container-id-2 div.sk-item {position: relative;z-index: 1;}#sk-container-id-2 div.sk-parallel {display: flex;align-items: stretch;justify-content: center;background-color: white;position: relative;}#sk-container-id-2 div.sk-item::before, #sk-container-id-2 div.sk-parallel-item::before {content: \"\";position: absolute;border-left: 1px solid gray;box-sizing: border-box;top: 0;bottom: 0;left: 50%;z-index: -1;}#sk-container-id-2 div.sk-parallel-item {display: flex;flex-direction: column;z-index: 1;position: relative;background-color: white;}#sk-container-id-2 div.sk-parallel-item:first-child::after {align-self: flex-end;width: 50%;}#sk-container-id-2 div.sk-parallel-item:last-child::after {align-self: flex-start;width: 50%;}#sk-container-id-2 div.sk-parallel-item:only-child::after {width: 0;}#sk-container-id-2 div.sk-dashed-wrapped {border: 1px dashed gray;margin: 0 0.4em 0.5em 0.4em;box-sizing: border-box;padding-bottom: 0.4em;background-color: white;}#sk-container-id-2 div.sk-label label {font-family: monospace;font-weight: bold;display: inline-block;line-height: 1.2em;}#sk-container-id-2 div.sk-label-container {text-align: center;}#sk-container-id-2 div.sk-container {/* jupyter's `normalize.less` sets `[hidden] { display: none; }` but bootstrap.min.css set `[hidden] { display: none !important; }` so we also need the `!important` here to be able to override the default hidden behavior on the sphinx rendered scikit-learn.org. See: https://github.com/scikit-learn/scikit-learn/issues/21755 */display: inline-block !important;position: relative;}#sk-container-id-2 div.sk-text-repr-fallback {display: none;}</style><div id=\"sk-container-id-2\" class=\"sk-top-container\"><div class=\"sk-text-repr-fallback\"><pre>TimeSeriesForest(n_estimators=20, random_state=43)</pre><b>In a Jupyter environment, please rerun this cell to show the HTML representation or trust the notebook. <br />On GitHub, the HTML representation is unable to render, please try loading this page with nbviewer.org.</b></div><div class=\"sk-container\" hidden><div class=\"sk-item\"><div class=\"sk-estimator sk-toggleable\"><input class=\"sk-toggleable__control sk-hidden--visually\" id=\"sk-estimator-id-2\" type=\"checkbox\" checked><label for=\"sk-estimator-id-2\" class=\"sk-toggleable__label sk-toggleable__label-arrow\">TimeSeriesForest</label><div class=\"sk-toggleable__content\"><pre>TimeSeriesForest(n_estimators=20, random_state=43)</pre></div></div></div></div></div>"
      ],
      "text/plain": [
       "TimeSeriesForest(n_estimators=20, random_state=43)"
      ]
     },
     "execution_count": 18,
     "metadata": {},
     "output_type": "execute_result"
    }
   ],
   "source": [
    "import numpy as np\n",
    "from pyts.datasets import load_gunpoint\n",
    "from pyts.classification import TimeSeriesForest\n",
    "import matplotlib.pyplot as plt\n",
    "\n",
    "\n",
    "clf = TimeSeriesForest(random_state=43,n_estimators=20)\n",
    "clf.fit(X_train, y_train)"
   ]
  },
  {
   "cell_type": "code",
   "execution_count": 19,
   "metadata": {
    "id": "ATQyGdDkD_0u"
   },
   "outputs": [],
   "source": [
    "y_test_numerical = y_test.astype(int)"
   ]
  },
  {
   "cell_type": "code",
   "execution_count": 20,
   "metadata": {
    "id": "QWWaAl-RECTB"
   },
   "outputs": [],
   "source": [
    "y_train_numerical = y_train.astype(int)"
   ]
  },
  {
   "cell_type": "code",
   "execution_count": 23,
   "metadata": {
    "id": "ourClAQIGRF8"
   },
   "outputs": [],
   "source": [
    "# y_val_numerical = y_val.astype(int)"
   ]
  },
  {
   "cell_type": "code",
   "execution_count": 23,
   "metadata": {
    "id": "I5GMnAhz-5_8"
   },
   "outputs": [],
   "source": [
    "y_pred = clf.predict(X_test)\n",
    "y_pred_train=clf.predict(X_train)"
   ]
  },
  {
   "cell_type": "code",
   "execution_count": 24,
   "metadata": {
    "id": "9pxMAlH2R0Yv"
   },
   "outputs": [],
   "source": [
    "y_pred_numerical = y_pred.astype(int)"
   ]
  },
  {
   "cell_type": "code",
   "execution_count": 25,
   "metadata": {
    "colab": {
     "base_uri": "https://localhost:8080/"
    },
    "id": "ozmNd8k8akpB",
    "outputId": "f94eeb3e-531c-49c2-a95a-1062f7c03186"
   },
   "outputs": [
    {
     "name": "stdout",
     "output_type": "stream",
     "text": [
      "(915, 24)\n"
     ]
    }
   ],
   "source": [
    "print(X_train.shape)"
   ]
  },
  {
   "cell_type": "code",
   "execution_count": 26,
   "metadata": {
    "colab": {
     "base_uri": "https://localhost:8080/"
    },
    "id": "yNDgHSEhBWhf",
    "outputId": "af70b8e2-df02-404c-a9a1-8eaa30da77f6"
   },
   "outputs": [
    {
     "name": "stdout",
     "output_type": "stream",
     "text": [
      "Accuracy_test: 0.8034934497816594\n",
      "Accuracy_train: 0.9901639344262295\n"
     ]
    }
   ],
   "source": [
    "# Calculate accuracy\n",
    "accuracy_test= accuracy_score(y_test, y_pred)\n",
    "accuracy_train = accuracy_score(y_train, y_pred_train)\n",
    "print(\"Accuracy_test:\", accuracy_test)\n",
    "print(\"Accuracy_train:\", accuracy_train)"
   ]
  },
  {
   "cell_type": "code",
   "execution_count": 27,
   "metadata": {
    "colab": {
     "base_uri": "https://localhost:8080/",
     "height": 472
    },
    "id": "wlJAw1kFPgQk",
    "outputId": "6e803991-a522-4925-d400-558dee923c08"
   },
   "outputs": [
    {
     "data": {
      "image/png": "[encoded data removed]",
      "text/plain": [
       "<Figure size 640x480 with 1 Axes>"
      ]
     },
     "metadata": {},
     "output_type": "display_data"
    }
   ],
   "source": [
    "y_pred_train = clf.predict_proba(X_train)[:,1]\n",
    "y_pred_test = clf.predict_proba(X_test)[:,1]\n",
    "# y_pred_val = clf.predict_proba(X_val)[:,1]\n",
    "\n",
    "#train data ROC\n",
    "fpr_tr, tpr_tr, threshold = roc_curve(y_train_numerical, y_pred_train)\n",
    "roc_auc_train = auc(fpr_tr, tpr_tr)\n",
    "\n",
    "#test data ROC\n",
    "fpr_ts, tpr_ts, threshold = roc_curve(y_test_numerical, y_pred_test)\n",
    "roc_auc_test = auc(fpr_ts, tpr_ts)\n",
    "\n",
    "# fpr_val, tpr_val, threshold = roc_curve(y_val_numerical, y_pred_val)\n",
    "# roc_auc_val = auc(fpr_val, tpr_val)\n",
    "\n",
    "#Plot ROC curve\n",
    "plot_roc_curve(roc_auc_train, roc_auc_test)"
   ]
  },
  {
   "cell_type": "code",
   "execution_count": 28,
   "metadata": {
    "id": "d_HX7HfK4pmo"
   },
   "outputs": [],
   "source": [
    "def plot_conf_matrix (conf_matrix, dtype):\n",
    "    class_names = [0,1]\n",
    "    fontsize=14\n",
    "    df_conf_matrix = pd.DataFrame(\n",
    "            conf_matrix, index=class_names, columns=class_names,\n",
    "        )\n",
    "    fig = plt.figure()\n",
    "    heatmap = sns.heatmap(df_conf_matrix, annot=True, fmt=\"d\")\n",
    "    heatmap.yaxis.set_ticklabels(heatmap.yaxis.get_ticklabels(), rotation=45, ha='right', fontsize=fontsize)\n",
    "    heatmap.xaxis.set_ticklabels(heatmap.xaxis.get_ticklabels(), rotation=45, ha='right', fontsize=fontsize)\n",
    "    plt.ylabel('True label')\n",
    "    plt.xlabel('Predicted label')\n",
    "    plt.title('Confusion Matrix for {0}'.format(dtype))"
   ]
  },
  {
   "cell_type": "code",
   "execution_count": 29,
   "metadata": {
    "colab": {
     "base_uri": "https://localhost:8080/",
     "height": 480
    },
    "id": "T6go88tt34pC",
    "outputId": "7e4766e8-a1ce-499d-d2fa-31fe9c4e6cbe"
   },
   "outputs": [
    {
     "data": {
      "image/png": "[encoded data removed]",
      "text/plain": [
       "<Figure size 640x480 with 2 Axes>"
      ]
     },
     "metadata": {},
     "output_type": "display_data"
    }
   ],
   "source": [
    "plot_conf_matrix(confusion_matrix(y_test, y_pred), \"Test data\")"
   ]
  },
  {
   "cell_type": "code",
   "execution_count": 30,
   "metadata": {
    "id": "bOuZlOGXPcgK"
   },
   "outputs": [],
   "source": []
  },
  {
   "cell_type": "code",
   "execution_count": 30,
   "metadata": {
    "id": "Xg18AY7LAx2f"
   },
   "outputs": [],
   "source": [
    "param_dist = {\"max_depth\": [3,4,5,6,7,8,9,10,11,12,13,14,15,16,17,18,19,20,21,22,23,24],  # 3 - 24\n",
    "              # \"max_features\": sp_randint(1, 20),\n",
    "              # \"min_samples_split\": sp_randint(2, 20),\n",
    "              # \"bootstrap\": [True, False],\n",
    "              \"criterion\": [\"gini\", \"entropy\"],\n",
    "              \"max_leaf_nodes\":[5,6,7,8,9,10,11,12,13,14,15,16,17,18,19,20], #5 - 20\n",
    "              \"n_estimators\":[50,100,150,200], #50,100,150,200\n",
    "              \"min_samples_leaf\":[5,6,7,8,9,10,11,12,13,14,15,] #5 - 15\n",
    "              }"
   ]
  },
  {
   "cell_type": "code",
   "execution_count": 35,
   "metadata": {
    "colab": {
     "base_uri": "https://localhost:8080/"
    },
    "id": "mQ-T6mdVCEZw",
    "outputId": "2a805065-7d7e-47e0-fbff-dd7116063f23"
   },
   "outputs": [
    {
     "name": "stdout",
     "output_type": "stream",
     "text": [
      "{'n_estimators': 200, 'min_samples_leaf': 10, 'max_leaf_nodes': 18, 'max_depth': 21, 'criterion': 'gini'}\n"
     ]
    }
   ],
   "source": [
    "clf = TimeSeriesForest()\n",
    "\n",
    "# Randomized search\n",
    "random_search = RandomizedSearchCV(clf,param_distributions=param_dist,n_iter=50, cv=5,scoring=\"accuracy\" )\n",
    "\n",
    "random_search.fit(X_train, y_train)\n",
    "\n",
    "print(random_search.best_params_)"
   ]
  },
  {
   "cell_type": "code",
   "execution_count": 36,
   "metadata": {
    "colab": {
     "base_uri": "https://localhost:8080/",
     "height": 472
    },
    "id": "wzrPKvFOC4Kh",
    "outputId": "b67dcfba-b298-4344-ae92-6baf50570c48"
   },
   "outputs": [
    {
     "data": {
      "image/png": "[encoded data removed]",
      "text/plain": [
       "<Figure size 640x480 with 1 Axes>"
      ]
     },
     "metadata": {},
     "output_type": "display_data"
    }
   ],
   "source": [
    "clf = TimeSeriesForest(n_estimators=100,random_state=43,\n",
    "                             criterion= 'gini', max_depth = 13,\n",
    "                             max_leaf_nodes=7,min_samples_leaf=10)\n",
    "clf.fit(X_train, y_train)\n",
    "\n",
    "y_pred_train = clf.predict_proba(X_train)[:,1]\n",
    "y_pred_test = clf.predict_proba(X_test)[:,1]\n",
    "# y_pred_val = clf.predict_proba(X_val)[:,1]\n",
    "\n",
    "#train data ROC\n",
    "fpr_tr, tpr_tr, threshold = roc_curve(y_train_numerical, y_pred_train)\n",
    "roc_auc_train = auc(fpr_tr, tpr_tr)\n",
    "\n",
    "#test data ROC\n",
    "fpr_ts, tpr_ts, threshold = roc_curve(y_test_numerical, y_pred_test)\n",
    "roc_auc_test = auc(fpr_ts, tpr_ts)\n",
    "\n",
    "# fpr_val, tpr_val, threshold = roc_curve(y_val_numerical, y_pred_val)\n",
    "# roc_auc_val = auc(fpr_val, tpr_val)\n",
    "\n",
    "#Plot ROC curve\n",
    "plot_roc_curve(roc_auc_train, roc_auc_test)\n"
   ]
  },
  {
   "cell_type": "code",
   "execution_count": 37,
   "metadata": {
    "colab": {
     "base_uri": "https://localhost:8080/"
    },
    "id": "kCY7RW_1zL0K",
    "outputId": "243157aa-47b2-4d0a-d1ab-4f51312214ed"
   },
   "outputs": [
    {
     "name": "stdout",
     "output_type": "stream",
     "text": [
      "training_accuracy: 0.7704918032786885\n",
      "testing_accuracy: 0.7860262008733624\n"
     ]
    }
   ],
   "source": [
    "accuracy_training = accuracy_score(y_train, clf.predict(X_train))\n",
    "accuracy_testing = accuracy_score(y_test, clf.predict(X_test))\n",
    "# accuracy_validation = accuracy_score(y_val, clf.predict(X_val))\n",
    "\n",
    "print(\"training_accuracy:\",accuracy_training)\n",
    "print(\"testing_accuracy:\",accuracy_testing)\n",
    "# print(\"validation_accuracy:\",accuracy_validation)"
   ]
  },
  {
   "cell_type": "code",
   "execution_count": 38,
   "metadata": {
    "colab": {
     "base_uri": "https://localhost:8080/",
     "height": 480
    },
    "id": "GzMMQQC5FYLO",
    "outputId": "8d5a3cea-4f75-425d-b2b1-5b5b74a64fd5"
   },
   "outputs": [
    {
     "data": {
      "image/png": "[encoded data removed]",
      "text/plain": [
       "<Figure size 640x480 with 2 Axes>"
      ]
     },
     "metadata": {},
     "output_type": "display_data"
    }
   ],
   "source": [
    "plot_conf_matrix(confusion_matrix(y_train, clf.predict(X_train)), \"Training data\")"
   ]
  },
  {
   "cell_type": "code",
   "execution_count": 39,
   "metadata": {
    "colab": {
     "base_uri": "https://localhost:8080/",
     "height": 480
    },
    "id": "-q6ML36sFl35",
    "outputId": "eaf1f309-9329-4f61-9c6e-11415a199d2d"
   },
   "outputs": [
    {
     "data": {
      "image/png": "[encoded data removed]",
      "text/plain": [
       "<Figure size 640x480 with 2 Axes>"
      ]
     },
     "metadata": {},
     "output_type": "display_data"
    }
   ],
   "source": [
    "plot_conf_matrix(confusion_matrix(y_test, clf.predict(X_test)), \"Test data\")"
   ]
  },
  {
   "cell_type": "code",
   "execution_count": 40,
   "metadata": {
    "colab": {
     "base_uri": "https://localhost:8080/"
    },
    "id": "Uq7j5XkzP_Td",
    "outputId": "c33eaf8d-0a7a-4272-b528-b0cb853866aa"
   },
   "outputs": [
    {
     "name": "stdout",
     "output_type": "stream",
     "text": [
      "Precision: 0.7903225806451613\n"
     ]
    }
   ],
   "source": [
    "from sklearn.metrics import precision_score\n",
    "\n",
    "pre=precision_score(y_test_numerical, y_pred_numerical)\n",
    "print(\"Precision:\",pre)"
   ]
  },
  {
   "cell_type": "code",
   "execution_count": 41,
   "metadata": {
    "colab": {
     "base_uri": "https://localhost:8080/"
    },
    "id": "IY6gOjdVSOFm",
    "outputId": "1766af08-0238-4d7b-842a-5346578f4e2a"
   },
   "outputs": [
    {
     "name": "stdout",
     "output_type": "stream",
     "text": [
      "0.6049382716049383\n"
     ]
    }
   ],
   "source": [
    "from sklearn.metrics import recall_score\n",
    "recall=recall_score(y_test_numerical, y_pred_numerical)\n",
    "print(recall)"
   ]
  },
  {
   "cell_type": "code",
   "execution_count": 42,
   "metadata": {
    "colab": {
     "base_uri": "https://localhost:8080/"
    },
    "id": "Z4OlYXJ5TU_T",
    "outputId": "bb2089b8-016a-4487-8192-0b5172434b5d"
   },
   "outputs": [
    {
     "name": "stdout",
     "output_type": "stream",
     "text": [
      "0.6853146853146853\n"
     ]
    }
   ],
   "source": [
    "from sklearn.metrics import f1_score\n",
    "f1=f1_score(y_test_numerical, y_pred_numerical)\n",
    "print(f1)"
   ]
  },
  {
   "cell_type": "code",
   "execution_count": null,
   "metadata": {
    "id": "KWBXZf9xGORn"
   },
   "outputs": [],
   "source": []
  }
 ],
 "metadata": {
  "colab": {
   "provenance": []
  },
  "kernelspec": {
   "display_name": "Python 3 (ipykernel)",
   "language": "python",
   "name": "python3"
  },
  "language_info": {
   "codemirror_mode": {
    "name": "ipython",
    "version": 3
   },
   "file_extension": ".py",
   "mimetype": "text/x-python",
   "name": "python",
   "nbconvert_exporter": "python",
   "pygments_lexer": "ipython3",
   "version": "3.11.3"
  }
 },
 "nbformat": 4,
 "nbformat_minor": 1
}
